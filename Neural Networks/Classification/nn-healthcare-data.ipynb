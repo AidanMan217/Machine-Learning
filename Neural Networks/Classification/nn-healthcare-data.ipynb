{
 "cells": [
  {
   "cell_type": "markdown",
   "id": "1c667e1f",
   "metadata": {},
   "source": [
    "This serves as a playground to test different architectures, methods, and setups of neural networks. It uses the automated basic neural network I created."
   ]
  },
  {
   "cell_type": "code",
   "execution_count": 2,
   "id": "6be5218d",
   "metadata": {},
   "outputs": [],
   "source": [
    "import numpy as np\n",
    "import matplotlib.pyplot as plt\n",
    "import pandas as pd\n",
    "from sklearn.model_selection import train_test_split\n",
    "from sklearn.datasets import make_blobs\n",
    "import seaborn as sns\n",
    "from sklearn.preprocessing import OneHotEncoder"
   ]
  },
  {
   "cell_type": "code",
   "execution_count": 3,
   "id": "39ce3180",
   "metadata": {},
   "outputs": [
    {
     "data": {
      "application/vnd.microsoft.datawrangler.viewer.v0+json": {
       "columns": [
        {
         "name": "index",
         "rawType": "int64",
         "type": "integer"
        },
        {
         "name": "feature_0",
         "rawType": "float64",
         "type": "float"
        },
        {
         "name": "feature_1",
         "rawType": "float64",
         "type": "float"
        },
        {
         "name": "target_1",
         "rawType": "int64",
         "type": "integer"
        }
       ],
       "conversionMethod": "pd.DataFrame",
       "ref": "01604148-94ac-4f6e-a75c-44f533dfdf88",
       "rows": [
        [
         "0",
         "-11.542249769425224",
         "2.61927669148019",
         "2"
        ],
        [
         "1",
         "-11.223766849311874",
         "-7.119581213108157",
         "3"
        ],
        [
         "2",
         "-1.211414200464996",
         "-3.989747738338181",
         "1"
        ],
        [
         "3",
         "7.261601739431543",
         "9.817373858808333",
         "0"
        ],
        [
         "4",
         "-7.782191409004151",
         "6.065322970030095",
         "2"
        ],
        [
         "5",
         "-9.407869611686396",
         "4.599186587413403",
         "2"
        ],
        [
         "6",
         "6.966753255227362",
         "10.31224010866019",
         "0"
        ],
        [
         "7",
         "-4.330333233275617",
         "-1.0123259270016876",
         "1"
        ],
        [
         "8",
         "-9.86496598489746",
         "-6.019738869508274",
         "3"
        ],
        [
         "9",
         "-10.134124183669064",
         "-7.440928292511784",
         "3"
        ],
        [
         "10",
         "-12.483637347162077",
         "-10.782303240361223",
         "3"
        ],
        [
         "11",
         "-2.879215998736928",
         "-0.018015874935894",
         "1"
        ],
        [
         "12",
         "-2.751279251071118",
         "-2.8734254415046765",
         "1"
        ],
        [
         "13",
         "-10.219449136119088",
         "-8.197894468026247",
         "3"
        ],
        [
         "14",
         "7.732136366237972",
         "10.652846036583512",
         "0"
        ],
        [
         "15",
         "-3.4363136095898787",
         "-2.4944151649834003",
         "1"
        ],
        [
         "16",
         "6.845575277890822",
         "10.282088121062614",
         "0"
        ],
        [
         "17",
         "-10.031879832355749",
         "2.905884017599162",
         "2"
        ],
        [
         "18",
         "-11.482867911248505",
         "3.296175624135671",
         "2"
        ],
        [
         "19",
         "-10.339699903905956",
         "-6.426912786598297",
         "3"
        ],
        [
         "20",
         "-0.858395616658221",
         "-1.022090445839951",
         "1"
        ],
        [
         "21",
         "-1.0666886958192496",
         "-0.942620591478655",
         "1"
        ],
        [
         "22",
         "5.090702443516688",
         "9.726826237571505",
         "0"
        ],
        [
         "23",
         "-3.2819749567863585",
         "-0.7183221362013275",
         "1"
        ],
        [
         "24",
         "-12.51114647852648",
         "-6.63295083067881",
         "3"
        ],
        [
         "25",
         "-9.5612867718704",
         "3.732196833004152",
         "2"
        ],
        [
         "26",
         "-2.2991429336478664",
         "-1.7859446251441484",
         "1"
        ],
        [
         "27",
         "-0.8950825807708087",
         "-0.5519760350875291",
         "1"
        ],
        [
         "28",
         "-7.962893372490788",
         "4.047683272198684",
         "2"
        ],
        [
         "29",
         "-10.507545338581238",
         "4.62424885737169",
         "2"
        ],
        [
         "30",
         "-10.966071936450977",
         "4.0638525187815855",
         "2"
        ],
        [
         "31",
         "-1.5214579804530604",
         "-0.6873298219122448",
         "1"
        ],
        [
         "32",
         "-9.722806592501792",
         "2.856542270846393",
         "2"
        ],
        [
         "33",
         "-1.913995679514264",
         "-2.1245245463188187",
         "1"
        ],
        [
         "34",
         "4.643954264391225",
         "10.63659979377804",
         "0"
        ],
        [
         "35",
         "-2.340640233469078",
         "0.1916093522714854",
         "1"
        ],
        [
         "36",
         "-1.146092324213421",
         "-0.6894007594136208",
         "1"
        ],
        [
         "37",
         "-12.57262103375535",
         "-9.479150283465843",
         "3"
        ],
        [
         "38",
         "7.185243936872148",
         "11.03402397208868",
         "0"
        ],
        [
         "39",
         "-11.324582374443397",
         "4.725299826182795",
         "2"
        ],
        [
         "40",
         "-0.402949143292697",
         "-2.1509952982046943",
         "1"
        ],
        [
         "41",
         "-7.635585792419896",
         "2.781450197560149",
         "2"
        ],
        [
         "42",
         "-1.935925129331993",
         "-1.0107111425354125",
         "1"
        ],
        [
         "43",
         "-7.969674987820127",
         "-7.427592172285912",
         "3"
        ],
        [
         "44",
         "-3.327470888883545",
         "-1.163685192710097",
         "1"
        ],
        [
         "45",
         "-11.022221175674964",
         "-6.553381908185668",
         "3"
        ],
        [
         "46",
         "-10.8948654413449",
         "4.101288520008862",
         "2"
        ],
        [
         "47",
         "-8.95634424821615",
         "4.3816338053775645",
         "2"
        ],
        [
         "48",
         "6.039588894275889",
         "11.119477144159855",
         "0"
        ],
        [
         "49",
         "-11.464090744208251",
         "-7.770555610688213",
         "3"
        ]
       ],
       "shape": {
        "columns": 3,
        "rows": 5000
       }
      },
      "text/html": [
       "<div>\n",
       "<style scoped>\n",
       "    .dataframe tbody tr th:only-of-type {\n",
       "        vertical-align: middle;\n",
       "    }\n",
       "\n",
       "    .dataframe tbody tr th {\n",
       "        vertical-align: top;\n",
       "    }\n",
       "\n",
       "    .dataframe thead th {\n",
       "        text-align: right;\n",
       "    }\n",
       "</style>\n",
       "<table border=\"1\" class=\"dataframe\">\n",
       "  <thead>\n",
       "    <tr style=\"text-align: right;\">\n",
       "      <th></th>\n",
       "      <th>feature_0</th>\n",
       "      <th>feature_1</th>\n",
       "      <th>target_1</th>\n",
       "    </tr>\n",
       "  </thead>\n",
       "  <tbody>\n",
       "    <tr>\n",
       "      <th>0</th>\n",
       "      <td>-11.542250</td>\n",
       "      <td>2.619277</td>\n",
       "      <td>2</td>\n",
       "    </tr>\n",
       "    <tr>\n",
       "      <th>1</th>\n",
       "      <td>-11.223767</td>\n",
       "      <td>-7.119581</td>\n",
       "      <td>3</td>\n",
       "    </tr>\n",
       "    <tr>\n",
       "      <th>2</th>\n",
       "      <td>-1.211414</td>\n",
       "      <td>-3.989748</td>\n",
       "      <td>1</td>\n",
       "    </tr>\n",
       "    <tr>\n",
       "      <th>3</th>\n",
       "      <td>7.261602</td>\n",
       "      <td>9.817374</td>\n",
       "      <td>0</td>\n",
       "    </tr>\n",
       "    <tr>\n",
       "      <th>4</th>\n",
       "      <td>-7.782191</td>\n",
       "      <td>6.065323</td>\n",
       "      <td>2</td>\n",
       "    </tr>\n",
       "    <tr>\n",
       "      <th>...</th>\n",
       "      <td>...</td>\n",
       "      <td>...</td>\n",
       "      <td>...</td>\n",
       "    </tr>\n",
       "    <tr>\n",
       "      <th>4995</th>\n",
       "      <td>-1.776268</td>\n",
       "      <td>-1.688066</td>\n",
       "      <td>1</td>\n",
       "    </tr>\n",
       "    <tr>\n",
       "      <th>4996</th>\n",
       "      <td>-12.332780</td>\n",
       "      <td>-7.115550</td>\n",
       "      <td>3</td>\n",
       "    </tr>\n",
       "    <tr>\n",
       "      <th>4997</th>\n",
       "      <td>4.220348</td>\n",
       "      <td>8.502958</td>\n",
       "      <td>0</td>\n",
       "    </tr>\n",
       "    <tr>\n",
       "      <th>4998</th>\n",
       "      <td>6.948812</td>\n",
       "      <td>9.507502</td>\n",
       "      <td>0</td>\n",
       "    </tr>\n",
       "    <tr>\n",
       "      <th>4999</th>\n",
       "      <td>-10.017442</td>\n",
       "      <td>-7.112897</td>\n",
       "      <td>3</td>\n",
       "    </tr>\n",
       "  </tbody>\n",
       "</table>\n",
       "<p>5000 rows × 3 columns</p>\n",
       "</div>"
      ],
      "text/plain": [
       "      feature_0  feature_1  target_1\n",
       "0    -11.542250   2.619277         2\n",
       "1    -11.223767  -7.119581         3\n",
       "2     -1.211414  -3.989748         1\n",
       "3      7.261602   9.817374         0\n",
       "4     -7.782191   6.065323         2\n",
       "...         ...        ...       ...\n",
       "4995  -1.776268  -1.688066         1\n",
       "4996 -12.332780  -7.115550         3\n",
       "4997   4.220348   8.502958         0\n",
       "4998   6.948812   9.507502         0\n",
       "4999 -10.017442  -7.112897         3\n",
       "\n",
       "[5000 rows x 3 columns]"
      ]
     },
     "execution_count": 3,
     "metadata": {},
     "output_type": "execute_result"
    }
   ],
   "source": [
    "#X,y = make_blobs(n_samples=5000,n_features = 2, centers = 4,cluster_std= 1.2, center_box=(-15,15))\n",
    "#df = pd.DataFrame(X,columns = [f\"feature_{i}\" for i in range(X.shape[1])])\n",
    "#df['target_1'] = y\n",
    "df = pd.read_csv('toydf.csv')\n",
    "df"
   ]
  },
  {
   "cell_type": "code",
   "execution_count": 4,
   "id": "040198e3",
   "metadata": {},
   "outputs": [
    {
     "data": {
      "image/png": "[encoded data removed]",
      "text/plain": [
       "<Figure size 573.472x500 with 6 Axes>"
      ]
     },
     "metadata": {},
     "output_type": "display_data"
    }
   ],
   "source": [
    "sns.set_theme(style=\"ticks\")\n",
    "sns.pairplot(df, hue=\"target_1\", palette=\"tab10\")\n",
    "plt.suptitle(\"Feature Pairplot\", y=1.02)\n",
    "plt.show()"
   ]
  },
  {
   "cell_type": "code",
   "execution_count": 25,
   "id": "f3e91276",
   "metadata": {},
   "outputs": [
    {
     "name": "stdout",
     "output_type": "stream",
     "text": [
      "(3750, 3)\n",
      "(1250, 3)\n"
     ]
    }
   ],
   "source": [
    "pre_df_train,pre_df_test = train_test_split(df, test_size=0.25,shuffle=True,random_state=42)\n",
    "\n",
    "print(pre_df_train.shape)\n",
    "print(pre_df_test.shape)"
   ]
  },
  {
   "cell_type": "markdown",
   "id": "682b17d9",
   "metadata": {},
   "source": [
    "One-hot encoding"
   ]
  },
  {
   "cell_type": "code",
   "execution_count": 42,
   "id": "fbf1bee2",
   "metadata": {},
   "outputs": [
    {
     "data": {
      "application/vnd.microsoft.datawrangler.viewer.v0+json": {
       "columns": [
        {
         "name": "index",
         "rawType": "int64",
         "type": "integer"
        },
        {
         "name": "target_1",
         "rawType": "float64",
         "type": "float"
        },
        {
         "name": "target_0",
         "rawType": "float64",
         "type": "float"
        },
        {
         "name": "target_1",
         "rawType": "float64",
         "type": "float"
        },
        {
         "name": "target_2",
         "rawType": "float64",
         "type": "float"
        },
        {
         "name": "target_3",
         "rawType": "float64",
         "type": "float"
        }
       ],
       "conversionMethod": "pd.DataFrame",
       "ref": "2005c58a-821e-4f08-a2a0-52ef323aaff0",
       "rows": [
        [
         "1501",
         "1.0",
         null,
         null,
         null,
         null
        ],
        [
         "2586",
         "1.0",
         null,
         null,
         null,
         null
        ],
        [
         "2653",
         "2.0",
         null,
         null,
         null,
         null
        ],
        [
         "1055",
         "2.0",
         null,
         null,
         null,
         null
        ],
        [
         "705",
         "3.0",
         null,
         null,
         null,
         null
        ],
        [
         "106",
         "1.0",
         null,
         null,
         null,
         null
        ],
        [
         "589",
         "3.0",
         null,
         null,
         null,
         null
        ],
        [
         "2468",
         "2.0",
         null,
         null,
         null,
         null
        ],
        [
         "2413",
         "1.0",
         null,
         null,
         null,
         null
        ],
        [
         "1600",
         "2.0",
         null,
         null,
         null,
         null
        ],
        [
         "2464",
         "0.0",
         null,
         null,
         null,
         null
        ],
        [
         "228",
         "1.0",
         null,
         null,
         null,
         null
        ],
        [
         "915",
         "0.0",
         null,
         null,
         null,
         null
        ],
        [
         "794",
         "2.0",
         null,
         null,
         null,
         null
        ],
        [
         "3021",
         "3.0",
         null,
         null,
         null,
         null
        ],
        [
         "3543",
         "3.0",
         null,
         null,
         null,
         null
        ],
        [
         "1073",
         "2.0",
         null,
         null,
         null,
         null
        ],
        [
         "3351",
         "0.0",
         null,
         null,
         null,
         null
        ],
        [
         "1744",
         "0.0",
         null,
         null,
         null,
         null
        ],
        [
         "1084",
         "1.0",
         null,
         null,
         null,
         null
        ],
        [
         "926",
         "1.0",
         null,
         null,
         null,
         null
        ],
        [
         "3049",
         "2.0",
         null,
         null,
         null,
         null
        ],
        [
         "1117",
         "2.0",
         null,
         null,
         null,
         null
        ],
        [
         "642",
         "0.0",
         null,
         null,
         null,
         null
        ],
        [
         "4767",
         "1.0",
         null,
         null,
         null,
         null
        ],
        [
         "501",
         "0.0",
         null,
         null,
         null,
         null
        ],
        [
         "4066",
         "2.0",
         null,
         null,
         null,
         null
        ],
        [
         "333",
         "0.0",
         null,
         null,
         null,
         null
        ],
        [
         "4684",
         "1.0",
         null,
         null,
         null,
         null
        ],
        [
         "486",
         "1.0",
         null,
         null,
         null,
         null
        ],
        [
         "1962",
         "2.0",
         null,
         null,
         null,
         null
        ],
        [
         "393",
         "2.0",
         null,
         null,
         null,
         null
        ],
        [
         "4842",
         "0.0",
         null,
         null,
         null,
         null
        ],
        [
         "4866",
         "0.0",
         null,
         null,
         null,
         null
        ],
        [
         "1755",
         "0.0",
         null,
         null,
         null,
         null
        ],
        [
         "2515",
         "2.0",
         null,
         null,
         null,
         null
        ],
        [
         "3585",
         "0.0",
         null,
         null,
         null,
         null
        ],
        [
         "4315",
         "0.0",
         null,
         null,
         null,
         null
        ],
        [
         "4966",
         "3.0",
         null,
         null,
         null,
         null
        ],
        [
         "2099",
         "1.0",
         null,
         null,
         null,
         null
        ],
        [
         "3599",
         "2.0",
         null,
         null,
         null,
         null
        ],
        [
         "4121",
         "1.0",
         null,
         null,
         null,
         null
        ],
        [
         "29",
         "2.0",
         null,
         null,
         null,
         null
        ],
        [
         "65",
         "2.0",
         null,
         null,
         null,
         null
        ],
        [
         "838",
         "0.0",
         null,
         null,
         null,
         null
        ],
        [
         "3906",
         "1.0",
         null,
         null,
         null,
         null
        ],
        [
         "3773",
         "0.0",
         null,
         null,
         null,
         null
        ],
        [
         "4635",
         "2.0",
         null,
         null,
         null,
         null
        ],
        [
         "3161",
         "3.0",
         null,
         null,
         null,
         null
        ],
        [
         "2659",
         "3.0",
         null,
         null,
         null,
         null
        ]
       ],
       "shape": {
        "columns": 5,
        "rows": 5000
       }
      },
      "text/html": [
       "<div>\n",
       "<style scoped>\n",
       "    .dataframe tbody tr th:only-of-type {\n",
       "        vertical-align: middle;\n",
       "    }\n",
       "\n",
       "    .dataframe tbody tr th {\n",
       "        vertical-align: top;\n",
       "    }\n",
       "\n",
       "    .dataframe thead th {\n",
       "        text-align: right;\n",
       "    }\n",
       "</style>\n",
       "<table border=\"1\" class=\"dataframe\">\n",
       "  <thead>\n",
       "    <tr style=\"text-align: right;\">\n",
       "      <th></th>\n",
       "      <th>target_1</th>\n",
       "      <th>target_0</th>\n",
       "      <th>target_1</th>\n",
       "      <th>target_2</th>\n",
       "      <th>target_3</th>\n",
       "    </tr>\n",
       "  </thead>\n",
       "  <tbody>\n",
       "    <tr>\n",
       "      <th>1501</th>\n",
       "      <td>1.0</td>\n",
       "      <td>NaN</td>\n",
       "      <td>NaN</td>\n",
       "      <td>NaN</td>\n",
       "      <td>NaN</td>\n",
       "    </tr>\n",
       "    <tr>\n",
       "      <th>2586</th>\n",
       "      <td>1.0</td>\n",
       "      <td>NaN</td>\n",
       "      <td>NaN</td>\n",
       "      <td>NaN</td>\n",
       "      <td>NaN</td>\n",
       "    </tr>\n",
       "    <tr>\n",
       "      <th>2653</th>\n",
       "      <td>2.0</td>\n",
       "      <td>NaN</td>\n",
       "      <td>NaN</td>\n",
       "      <td>NaN</td>\n",
       "      <td>NaN</td>\n",
       "    </tr>\n",
       "    <tr>\n",
       "      <th>1055</th>\n",
       "      <td>2.0</td>\n",
       "      <td>NaN</td>\n",
       "      <td>NaN</td>\n",
       "      <td>NaN</td>\n",
       "      <td>NaN</td>\n",
       "    </tr>\n",
       "    <tr>\n",
       "      <th>705</th>\n",
       "      <td>3.0</td>\n",
       "      <td>NaN</td>\n",
       "      <td>NaN</td>\n",
       "      <td>NaN</td>\n",
       "      <td>NaN</td>\n",
       "    </tr>\n",
       "    <tr>\n",
       "      <th>...</th>\n",
       "      <td>...</td>\n",
       "      <td>...</td>\n",
       "      <td>...</td>\n",
       "      <td>...</td>\n",
       "      <td>...</td>\n",
       "    </tr>\n",
       "    <tr>\n",
       "      <th>4426</th>\n",
       "      <td>NaN</td>\n",
       "      <td>1.0</td>\n",
       "      <td>0.0</td>\n",
       "      <td>0.0</td>\n",
       "      <td>0.0</td>\n",
       "    </tr>\n",
       "    <tr>\n",
       "      <th>466</th>\n",
       "      <td>NaN</td>\n",
       "      <td>0.0</td>\n",
       "      <td>0.0</td>\n",
       "      <td>0.0</td>\n",
       "      <td>1.0</td>\n",
       "    </tr>\n",
       "    <tr>\n",
       "      <th>3092</th>\n",
       "      <td>NaN</td>\n",
       "      <td>0.0</td>\n",
       "      <td>0.0</td>\n",
       "      <td>1.0</td>\n",
       "      <td>0.0</td>\n",
       "    </tr>\n",
       "    <tr>\n",
       "      <th>3772</th>\n",
       "      <td>NaN</td>\n",
       "      <td>0.0</td>\n",
       "      <td>0.0</td>\n",
       "      <td>1.0</td>\n",
       "      <td>0.0</td>\n",
       "    </tr>\n",
       "    <tr>\n",
       "      <th>860</th>\n",
       "      <td>NaN</td>\n",
       "      <td>1.0</td>\n",
       "      <td>0.0</td>\n",
       "      <td>0.0</td>\n",
       "      <td>0.0</td>\n",
       "    </tr>\n",
       "  </tbody>\n",
       "</table>\n",
       "<p>5000 rows × 5 columns</p>\n",
       "</div>"
      ],
      "text/plain": [
       "      target_1  target_0  target_1  target_2  target_3\n",
       "1501       1.0       NaN       NaN       NaN       NaN\n",
       "2586       1.0       NaN       NaN       NaN       NaN\n",
       "2653       2.0       NaN       NaN       NaN       NaN\n",
       "1055       2.0       NaN       NaN       NaN       NaN\n",
       "705        3.0       NaN       NaN       NaN       NaN\n",
       "...        ...       ...       ...       ...       ...\n",
       "4426       NaN       1.0       0.0       0.0       0.0\n",
       "466        NaN       0.0       0.0       0.0       1.0\n",
       "3092       NaN       0.0       0.0       1.0       0.0\n",
       "3772       NaN       0.0       0.0       1.0       0.0\n",
       "860        NaN       1.0       0.0       0.0       0.0\n",
       "\n",
       "[5000 rows x 5 columns]"
      ]
     },
     "execution_count": 42,
     "metadata": {},
     "output_type": "execute_result"
    }
   ],
   "source": [
    "target_extended_train = pd.get_dummies(pre_df_train[\"target_1\"], prefix='target').astype(int)\n",
    "target_extended_test = pd.get_dummies(pre_df_test[\"target_1\"], prefix='target').astype(int)\n",
    "df_train = pd.concat([pre_df_train, target_extended_train],axis=1)\n",
    "df_test = pd.concat([pre_df_test, target_extended_train],axis=1)\n",
    "\n",
    "X_test = df_test.drop(['target_1','target_0','target_2','target_3'],axis=1)\n",
    "X_train = df_train.drop(['target_1','target_0','target_2','target_3'],axis=1)\n",
    "y_test = df_test.drop(['feature_0','feature_1'],axis=1)\n",
    "y_test"
   ]
  },
  {
   "cell_type": "code",
   "execution_count": null,
   "id": "4959007c",
   "metadata": {},
   "outputs": [],
   "source": []
  },
  {
   "cell_type": "markdown",
   "id": "bb137e67",
   "metadata": {},
   "source": [
    "Activation functions."
   ]
  },
  {
   "cell_type": "code",
   "execution_count": 8,
   "id": "9af4619e",
   "metadata": {},
   "outputs": [],
   "source": [
    "def relu(x):\n",
    "    return np.maximum(0,x)\n",
    "\n",
    "def relu_d(x):\n",
    "    return np.where(x>0,1,0)\n",
    "\n",
    "def lrelu(x,alpha=0.01):\n",
    "    return np.where(x>0,x,alpha*x)\n",
    "\n",
    "def lrelu_d(x,alpha=0.01):\n",
    "    return np.where(x>0,1,alpha)\n",
    "\n",
    "def softmax(x):\n",
    "    exp_x = np.exp(x-np.max(x,axis=1,keepdims=True))\n",
    "    return exp_x / np.sum(exp_x,axis=1,keepdims=True)\n",
    "\n",
    "def sigmoid(x):\n",
    "    return 1/(1+np.exp(-x))"
   ]
  },
  {
   "cell_type": "markdown",
   "id": "8039185a",
   "metadata": {},
   "source": [
    "Configure weights based on the numbers of neurons per layer."
   ]
  },
  {
   "cell_type": "code",
   "execution_count": 9,
   "id": "20d3b268",
   "metadata": {},
   "outputs": [],
   "source": [
    "def weight_configure(input_dim,neurons): #fully automated weight creation based on neuron and layer configuration\n",
    "    w1 = np.random.normal(loc=0.0, scale=np.sqrt(2 / input_dim), size=(input_dim+1, neurons[0])) #he initialization of weights\n",
    "    weights = []\n",
    "    for l in range(len(neurons[1:])):\n",
    "        he_init = np.sqrt(2 / neurons[l])\n",
    "        w = np.random.normal(loc=0.0, scale=he_init, size=(neurons[l]+1, neurons[l+1]))\n",
    "        weights.append(w)\n",
    "    return [w1] + weights  \n"
   ]
  },
  {
   "cell_type": "markdown",
   "id": "26339d26",
   "metadata": {},
   "source": [
    "Forward propagation."
   ]
  },
  {
   "cell_type": "code",
   "execution_count": 10,
   "id": "4365b770",
   "metadata": {},
   "outputs": [],
   "source": [
    "def forward(X,weights,activation,activation_o): #fully automated forward prop\n",
    "    pre_act = []\n",
    "    act = []\n",
    "    \n",
    "    Xc = np.concatenate([np.ones((X.shape[0], 1)), X], axis=1)  # this must not be altered\n",
    "    X_working = Xc.copy()  # this will be altered\n",
    "\n",
    "    for weight in weights[:-1]: #every weight besides the last\n",
    "        a = X_working @ weight\n",
    "        pre_act.append(a)\n",
    "        X_working = activation(a)\n",
    "        X_working = np.concatenate([np.ones((X_working.shape[0], 1)),X_working], axis=1) #add bias to the activated function\n",
    "        act.append(X_working)\n",
    "\n",
    "    a_final = X_working @ weights[-1] #last weight\n",
    "    pre_act.append(a_final)\n",
    "    y = activation_o(a_final)\n",
    "\n",
    "    return Xc, pre_act, act, y"
   ]
  },
  {
   "cell_type": "markdown",
   "id": "516e8f56",
   "metadata": {},
   "source": [
    "Back propagation (gradient output)."
   ]
  },
  {
   "cell_type": "code",
   "execution_count": 11,
   "id": "3b143b34",
   "metadata": {},
   "outputs": [],
   "source": [
    "def backward(Xc,pre_act,act,y,t,weights,activation_d): #fully automated backprop\n",
    "    deltas = []\n",
    "    dw = []\n",
    "\n",
    "    delta = y - t #make sure to change this if it's mathematiclly different\n",
    "    deltas = [delta]\n",
    "    \n",
    "    for i in reversed(range(len(weights)-1)):\n",
    "        W_next = weights[i+1][:-1,:]\n",
    "        delta = activation_d(pre_act[i]) * (delta @ W_next.T) \n",
    "        deltas.insert(0,delta)\n",
    "\n",
    "    layer_inputs = [Xc] + act[:]\n",
    "    \n",
    "    for acts,d in zip(layer_inputs,deltas):\n",
    "        dw.append(acts.T @ d)\n",
    "    \n",
    "    return dw"
   ]
  },
  {
   "cell_type": "markdown",
   "id": "a67ab767",
   "metadata": {},
   "source": [
    "SGD algorithm."
   ]
  },
  {
   "cell_type": "code",
   "execution_count": 12,
   "id": "5189b59d",
   "metadata": {},
   "outputs": [],
   "source": [
    "def sgd(weights,gradients,eta):\n",
    "    new_weights = []\n",
    "    for W_i, dw_i in zip(weights, gradients):\n",
    "        newW = W_i - eta*dw_i\n",
    "        new_weights.append(newW)\n",
    "    return new_weights"
   ]
  },
  {
   "cell_type": "markdown",
   "id": "659297e2",
   "metadata": {},
   "source": [
    "Mini-batch SGD training algorithm encasing all functions before it."
   ]
  },
  {
   "cell_type": "code",
   "execution_count": 13,
   "id": "08037deb",
   "metadata": {},
   "outputs": [],
   "source": [
    "def train_mini_batch(X,t,eta,epochs,batch_size,neurons,activation,activation_d,activation_o):\n",
    "    loss_list = []\n",
    "    epoch_list = []\n",
    "    weights = weight_configure(X.shape[1],neurons)\n",
    "    N = X.shape[0]\n",
    "    for epoch in range(epochs):\n",
    "        indices = np.arange(N)\n",
    "        np.random.shuffle(indices)\n",
    "        X = X[indices]\n",
    "        t = t[indices]\n",
    "\n",
    "        for i in range(0,N,batch_size):\n",
    "            X_batch = X[i:i+batch_size]\n",
    "            t_batch = t[i:i+batch_size]\n",
    "            Xc, pre_act, act, y = forward(X_batch,weights,activation,activation_o)\n",
    "            gradients = backward(Xc,pre_act,act,y,t_batch,weights,activation_d)\n",
    "            weights = sgd(weights,gradients,eta)\n",
    "        \n",
    "        _,_,_,y_full = forward(X,weights,activation,activation_o)\n",
    "        eps = 1e-8\n",
    "        loss = -np.mean(np.sum(t * np.log(y_full + eps), axis=1))\n",
    "        loss_list.append(loss)\n",
    "        epoch_list.append(epoch)\n",
    "        if epoch % 100 == 0:\n",
    "            print(f\"Epoch {epoch}: Loss = {loss:.6f}, mean = {np.mean(y_full):.4f}\")\n",
    "    \n",
    "    return y_full, weights, loss_list, epoch_list"
   ]
  },
  {
   "cell_type": "markdown",
   "id": "372d62ff",
   "metadata": {},
   "source": [
    "Hyperparameter tuning."
   ]
  },
  {
   "cell_type": "code",
   "execution_count": 14,
   "id": "a706602e",
   "metadata": {},
   "outputs": [],
   "source": [
    "\n",
    "######## Hyperparameters ########\n",
    "eta = 0.0001\n",
    "epochs = 1000\n",
    "batch_size = 32\n",
    "neurons = np.array([30,30,3]) #make sure the output corresponds with the amount of targer columns\n",
    "activation = relu\n",
    "activation_d = relu_d\n",
    "activation_o = sigmoid\n",
    "################################"
   ]
  },
  {
   "cell_type": "markdown",
   "id": "aca83fd6",
   "metadata": {},
   "source": [
    "Prediction and loss results."
   ]
  },
  {
   "cell_type": "code",
   "execution_count": 15,
   "id": "c2d04e27",
   "metadata": {},
   "outputs": [
    {
     "ename": "ValueError",
     "evalue": "operands could not be broadcast together with shapes (32,3) (32,4) ",
     "output_type": "error",
     "traceback": [
      "\u001b[1;31m---------------------------------------------------------------------------\u001b[0m",
      "\u001b[1;31mValueError\u001b[0m                                Traceback (most recent call last)",
      "Cell \u001b[1;32mIn[15], line 1\u001b[0m\n\u001b[1;32m----> 1\u001b[0m _,o_weights,loss_list,epoch_list \u001b[38;5;241m=\u001b[39m train_mini_batch(X_train,y_train,eta,epochs,batch_size,neurons,activation,activation_d,activation_o)\n\u001b[0;32m      2\u001b[0m _,_,_,y_test_final \u001b[38;5;241m=\u001b[39m forward(X_test,o_weights,activation,activation_o)\n\u001b[0;32m      3\u001b[0m y_pred \u001b[38;5;241m=\u001b[39m np\u001b[38;5;241m.\u001b[39mzeros_like(y_test_final)\n",
      "Cell \u001b[1;32mIn[13], line 16\u001b[0m, in \u001b[0;36mtrain_mini_batch\u001b[1;34m(X, t, eta, epochs, batch_size, neurons, activation, activation_d, activation_o)\u001b[0m\n\u001b[0;32m     14\u001b[0m     t_batch \u001b[38;5;241m=\u001b[39m t[i:i\u001b[38;5;241m+\u001b[39mbatch_size]\n\u001b[0;32m     15\u001b[0m     Xc, pre_act, act, y \u001b[38;5;241m=\u001b[39m forward(X_batch,weights,activation,activation_o)\n\u001b[1;32m---> 16\u001b[0m     gradients \u001b[38;5;241m=\u001b[39m backward(Xc,pre_act,act,y,t_batch,weights,activation_d)\n\u001b[0;32m     17\u001b[0m     weights \u001b[38;5;241m=\u001b[39m sgd(weights,gradients,eta)\n\u001b[0;32m     19\u001b[0m _,_,_,y_full \u001b[38;5;241m=\u001b[39m forward(X,weights,activation,activation_o)\n",
      "Cell \u001b[1;32mIn[11], line 5\u001b[0m, in \u001b[0;36mbackward\u001b[1;34m(Xc, pre_act, act, y, t, weights, activation_d)\u001b[0m\n\u001b[0;32m      2\u001b[0m deltas \u001b[38;5;241m=\u001b[39m []\n\u001b[0;32m      3\u001b[0m dw \u001b[38;5;241m=\u001b[39m []\n\u001b[1;32m----> 5\u001b[0m delta \u001b[38;5;241m=\u001b[39m y \u001b[38;5;241m-\u001b[39m t \u001b[38;5;66;03m#make sure to change this if it's mathematiclly different\u001b[39;00m\n\u001b[0;32m      6\u001b[0m deltas \u001b[38;5;241m=\u001b[39m [delta]\n\u001b[0;32m      8\u001b[0m \u001b[38;5;28;01mfor\u001b[39;00m i \u001b[38;5;129;01min\u001b[39;00m \u001b[38;5;28mreversed\u001b[39m(\u001b[38;5;28mrange\u001b[39m(\u001b[38;5;28mlen\u001b[39m(weights)\u001b[38;5;241m-\u001b[39m\u001b[38;5;241m1\u001b[39m)):\n",
      "\u001b[1;31mValueError\u001b[0m: operands could not be broadcast together with shapes (32,3) (32,4) "
     ]
    }
   ],
   "source": [
    "_,o_weights,loss_list,epoch_list = train_mini_batch(X_train,y_train,eta,epochs,batch_size,neurons,activation,activation_d,activation_o)\n",
    "_,_,_,y_test_final = forward(X_test,o_weights,activation,activation_o)\n",
    "y_pred = np.zeros_like(y_test_final)\n",
    "y_pred[np.arange(len(y_test_final)), np.argmax(y_test_final, axis=1)] = 1\n",
    "\n"
   ]
  },
  {
   "cell_type": "markdown",
   "id": "fe507161",
   "metadata": {},
   "source": [
    "Epoch vs Loss graph, very important and ultimately shows us the performance of my model!"
   ]
  },
  {
   "cell_type": "code",
   "execution_count": null,
   "id": "93d79348",
   "metadata": {},
   "outputs": [
    {
     "data": {
      "image/png": "[encoded data removed]",
      "text/plain": [
       "<Figure size 800x500 with 1 Axes>"
      ]
     },
     "metadata": {},
     "output_type": "display_data"
    }
   ],
   "source": [
    "plt.figure(figsize=(8, 5))\n",
    "plt.plot(range(len(loss_list)), loss_list, label='Training Loss', marker='o', markersize=3)\n",
    "plt.xlabel(\"Epoch\")\n",
    "plt.ylabel(\"Loss\")\n",
    "plt.title(\"Loss over Epochs\")\n",
    "plt.grid(True)\n",
    "plt.legend()\n",
    "plt.tight_layout()\n",
    "plt.show()"
   ]
  },
  {
   "cell_type": "markdown",
   "id": "d867264a",
   "metadata": {},
   "source": [
    "Scoring."
   ]
  },
  {
   "cell_type": "code",
   "execution_count": null,
   "id": "351e9bb4",
   "metadata": {},
   "outputs": [
    {
     "name": "stdout",
     "output_type": "stream",
     "text": [
      "accuracy:  0.896\n",
      "precision:  0.9050434901338517\n",
      "recall 0.8997954069405273\n",
      "f1: 0.9021818771035072\n"
     ]
    },
    {
     "data": {
      "image/png": "[encoded data removed]",
      "text/plain": [
       "<Figure size 640x480 with 2 Axes>"
      ]
     },
     "metadata": {},
     "output_type": "display_data"
    }
   ],
   "source": [
    "from sklearn.metrics import accuracy_score, precision_score, recall_score, f1_score\n",
    "from sklearn.metrics import confusion_matrix, ConfusionMatrixDisplay\n",
    "\n",
    "y_test_labels = np.argmax(y_test, axis=1)\n",
    "y_pred_labels = np.argmax(y_pred, axis=1)\n",
    "\n",
    "cm = confusion_matrix(y_test_labels, y_pred_labels)\n",
    "\n",
    "disp = ConfusionMatrixDisplay(confusion_matrix=cm)\n",
    "disp.plot(cmap='Blues', xticks_rotation=45)\n",
    "#diagonals: correct predictions, Offdiagonals: misclassifications\n",
    "\n",
    "\n",
    "#compares predictions with test target values and scores them\n",
    "\n",
    "accuracy = accuracy_score(y_test, y_pred)\n",
    "precision = precision_score(y_test, y_pred, average='macro')\n",
    "recall = recall_score(y_test, y_pred, average='macro')\n",
    "f1 = f1_score(y_test, y_pred, average='macro')\n",
    "\n",
    "print(\"accuracy: \", accuracy)\n",
    "print(\"precision: \",precision)\n",
    "print(\"recall\", recall)\n",
    "print(\"f1:\", f1)"
   ]
  },
  {
   "cell_type": "markdown",
   "id": "18f9950f",
   "metadata": {},
   "source": [
    "Transfer learning: We \"freeze\" some of the weights"
   ]
  },
  {
   "cell_type": "code",
   "execution_count": null,
   "id": "aaf1af97",
   "metadata": {},
   "outputs": [],
   "source": [
    "def sgd_transfer(weights,gradients,eta,freeze_layers):\n",
    "    new_weights = []\n",
    "    for i,(W_i, dw_i) in enumerate(zip(weights, gradients)):\n",
    "        if i < freeze_layers:\n",
    "            new_weights.append(W_i)\n",
    "        else:\n",
    "            newW = W_i - eta*dw_i\n",
    "            new_weights.append(newW)\n",
    "    return new_weights\n",
    "\n",
    "def train_mini_batch_transfer(X,t,eta,epochs,batch_size,activation,activation_d,activation_o,weights,freeze_layers):\n",
    "    o_weights = weights\n",
    "    N = X.shape[0]\n",
    "    for epoch in range(epochs):\n",
    "        indices = np.arange(N)\n",
    "        np.random.shuffle(indices)\n",
    "        X = X[indices]\n",
    "        t = t[indices]\n",
    "\n",
    "        for i in range(0,N,batch_size):\n",
    "            X_batch = X[i:i+batch_size]\n",
    "            t_batch = t[i:i+batch_size]\n",
    "            Xc, pre_act, act, y = forward(X_batch,o_weights,activation,activation_o)\n",
    "            gradients = backward(Xc,pre_act,act,y,t_batch,o_weights,activation_d)\n",
    "            o_weights = sgd_transfer(o_weights,gradients,eta,freeze_layers)\n",
    "        if epoch % 1000 == 0:\n",
    "            _,_,_,y_full = forward(X,o_weights,activation,activation_o)\n",
    "            eps = 1e-8\n",
    "            loss = -np.mean(np.sum(t * np.log(y_full + eps), axis=1))\n",
    "            print(f\"Epoch {epoch}: Loss = {loss:.6f}, z3 mean = {np.mean(y_full):.4f}\")\n",
    "    return y_full, o_weights\n"
   ]
  },
  {
   "cell_type": "code",
   "execution_count": null,
   "id": "15128775",
   "metadata": {},
   "outputs": [],
   "source": []
  }
 ],
 "metadata": {
  "kernelspec": {
   "display_name": "base",
   "language": "python",
   "name": "python3"
  },
  "language_info": {
   "codemirror_mode": {
    "name": "ipython",
    "version": 3
   },
   "file_extension": ".py",
   "mimetype": "text/x-python",
   "name": "python",
   "nbconvert_exporter": "python",
   "pygments_lexer": "ipython3",
   "version": "3.12.7"
  }
 },
 "nbformat": 4,
 "nbformat_minor": 5
}

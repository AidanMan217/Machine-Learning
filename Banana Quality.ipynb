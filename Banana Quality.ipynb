{
 "cells": [
  {
   "cell_type": "code",
   "execution_count": 662,
   "metadata": {},
   "outputs": [],
   "source": [
    "import pandas as pd\n",
    "import numpy as np\n",
    "import matplotlib.pyplot as plt\n",
    "from sklearn.model_selection import train_test_split\n",
    "import random"
   ]
  },
  {
   "cell_type": "code",
   "execution_count": 663,
   "metadata": {},
   "outputs": [
    {
     "data": {
      "text/html": [
       "<div>\n",
       "<style scoped>\n",
       "    .dataframe tbody tr th:only-of-type {\n",
       "        vertical-align: middle;\n",
       "    }\n",
       "\n",
       "    .dataframe tbody tr th {\n",
       "        vertical-align: top;\n",
       "    }\n",
       "\n",
       "    .dataframe thead th {\n",
       "        text-align: right;\n",
       "    }\n",
       "</style>\n",
       "<table border=\"1\" class=\"dataframe\">\n",
       "  <thead>\n",
       "    <tr style=\"text-align: right;\">\n",
       "      <th></th>\n",
       "      <th>Size</th>\n",
       "      <th>Weight</th>\n",
       "      <th>Sweetness</th>\n",
       "      <th>Softness</th>\n",
       "      <th>HarvestTime</th>\n",
       "      <th>Ripeness</th>\n",
       "      <th>Acidity</th>\n",
       "      <th>Quality</th>\n",
       "    </tr>\n",
       "  </thead>\n",
       "  <tbody>\n",
       "    <tr>\n",
       "      <th>0</th>\n",
       "      <td>-1.924968</td>\n",
       "      <td>0.468078</td>\n",
       "      <td>3.077832</td>\n",
       "      <td>-1.472177</td>\n",
       "      <td>0.294799</td>\n",
       "      <td>2.435570</td>\n",
       "      <td>0.271290</td>\n",
       "      <td>Good</td>\n",
       "    </tr>\n",
       "    <tr>\n",
       "      <th>1</th>\n",
       "      <td>-2.409751</td>\n",
       "      <td>0.486870</td>\n",
       "      <td>0.346921</td>\n",
       "      <td>-2.495099</td>\n",
       "      <td>-0.892213</td>\n",
       "      <td>2.067549</td>\n",
       "      <td>0.307325</td>\n",
       "      <td>Good</td>\n",
       "    </tr>\n",
       "    <tr>\n",
       "      <th>2</th>\n",
       "      <td>-0.357607</td>\n",
       "      <td>1.483176</td>\n",
       "      <td>1.568452</td>\n",
       "      <td>-2.645145</td>\n",
       "      <td>-0.647267</td>\n",
       "      <td>3.090643</td>\n",
       "      <td>1.427322</td>\n",
       "      <td>Good</td>\n",
       "    </tr>\n",
       "    <tr>\n",
       "      <th>3</th>\n",
       "      <td>-0.868524</td>\n",
       "      <td>1.566201</td>\n",
       "      <td>1.889605</td>\n",
       "      <td>-1.273761</td>\n",
       "      <td>-1.006278</td>\n",
       "      <td>1.873001</td>\n",
       "      <td>0.477862</td>\n",
       "      <td>Good</td>\n",
       "    </tr>\n",
       "    <tr>\n",
       "      <th>4</th>\n",
       "      <td>0.651825</td>\n",
       "      <td>1.319199</td>\n",
       "      <td>-0.022459</td>\n",
       "      <td>-1.209709</td>\n",
       "      <td>-1.430692</td>\n",
       "      <td>1.078345</td>\n",
       "      <td>2.812442</td>\n",
       "      <td>Good</td>\n",
       "    </tr>\n",
       "  </tbody>\n",
       "</table>\n",
       "</div>"
      ],
      "text/plain": [
       "       Size    Weight  Sweetness  Softness  HarvestTime  Ripeness   Acidity  \\\n",
       "0 -1.924968  0.468078   3.077832 -1.472177     0.294799  2.435570  0.271290   \n",
       "1 -2.409751  0.486870   0.346921 -2.495099    -0.892213  2.067549  0.307325   \n",
       "2 -0.357607  1.483176   1.568452 -2.645145    -0.647267  3.090643  1.427322   \n",
       "3 -0.868524  1.566201   1.889605 -1.273761    -1.006278  1.873001  0.477862   \n",
       "4  0.651825  1.319199  -0.022459 -1.209709    -1.430692  1.078345  2.812442   \n",
       "\n",
       "  Quality  \n",
       "0    Good  \n",
       "1    Good  \n",
       "2    Good  \n",
       "3    Good  \n",
       "4    Good  "
      ]
     },
     "execution_count": 663,
     "metadata": {},
     "output_type": "execute_result"
    }
   ],
   "source": [
    "bdf = pd.read_csv('banana_quality.csv',sep=',')\n",
    "bdf.head()  "
   ]
  },
  {
   "cell_type": "code",
   "execution_count": 664,
   "metadata": {},
   "outputs": [],
   "source": [
    "bdf_train,bdf_val = train_test_split(bdf, test_size=0.25, random_state=50)\n",
    "bdf_val,bdf_test = train_test_split(bdf_val, test_size=0.4, random_state=50)\n",
    "\n",
    "bdf_train['Quality'] = bdf_train['Quality'].map({'Good':0,'Bad':1})\n",
    "bdf_val['Quality'] = bdf_val['Quality'].map({'Good':0,'Bad':1})  \n",
    "bdf_test['Quality'] = bdf_test['Quality'].map({'Good':0,'Bad':1})"
   ]
  },
  {
   "cell_type": "code",
   "execution_count": 665,
   "metadata": {},
   "outputs": [
    {
     "name": "stdout",
     "output_type": "stream",
     "text": [
      "(6000, 7)\n",
      "(6000,)\n"
     ]
    }
   ],
   "source": [
    "X_train = bdf_train.drop('Quality',axis=1)\n",
    "y_train = bdf_train['Quality']\n",
    "X_test = bdf_test.drop('Quality',axis=1)\n",
    "y_test = bdf_test['Quality']\n",
    "\n",
    "print(X_train.shape)\n",
    "print(y_train.shape)\n",
    "\n",
    "#these are the features"
   ]
  },
  {
   "cell_type": "code",
   "execution_count": null,
   "metadata": {},
   "outputs": [
    {
     "name": "stdout",
     "output_type": "stream",
     "text": [
      "[-0.75585987 -0.74796725 -0.75914529 -0.0256556  -0.75507141  0.78871578\n",
      "  0.02041086]\n",
      "[2.13083064 2.01821564 1.95789274 2.05738112 1.99695628 2.08916899\n",
      " 2.30308172]\n"
     ]
    }
   ],
   "source": [
    "#preprocessing\n",
    "\n",
    "X_train_values = X_train.values #converts the dataframe to a numpy array\n",
    "X_test_values = X_test.values\n",
    "\n",
    "def X_train_values_means(values): #means of each feature of X_train\n",
    "    return np.mean(values,axis=0) #computes the mean of each feature (columns) of X_train, 7 means\n",
    "\n",
    "def X_train_values_stds(values): #standard deviations of each feature of X_train\n",
    "    return np.std(values,axis=0) #computes the standard deviation of each feature (columns) of X_train, 7 stds\n",
    "\n",
    "def X_train_standardize(values,means,stds): #we need to get back a matrix with 6000 rows and 7 columns\n",
    "    return (values - means)/stds #standardizes the values of X_train, 6000 rows and 7 columns\n",
    "\n",
    "X_train_means = X_train_values_means(X_train_values)\n",
    "X_train_stds = X_train_values_stds(X_train_values)\n",
    "X_test_means = X_train_values_means(X_test_values)\n",
    "X_test_stds = X_train_values_stds(X_test_values)\n",
    "\n",
    "X_train_standardized = np.array(X_train_standardize(X_train_values,X_train_means,X_train_stds)) #np.array gives it back shape, now we will use this to train the model\n",
    "X_test_standardized = np.array(X_train_standardize(X_test_values,X_train_means,X_train_stds)) #THIS FUNCTION HAS TO USE TRAINING MEANS AND STDS\n",
    "\n",
    "#axis=0 means that we are taking the mean of each column\n",
    "#axis=1 means that we are taking the mean of each row\n",
    "\n",
    "print(X_train_values_means(X_train_values)) #7 elements for the seven columns (features)\n",
    "print(X_train_values_stds(X_train_values)) #7 elements for the seven columns (features)\n",
    "\n",
    "#Brief Explanation: The first element of X_train_values_means subtracts the all of the elements in the first column (feature) of X_train_values, and so on.\n",
    "\n",
    "def X_train_values_mins(values):\n",
    "    return np.min(values,axis=0)\n",
    "\n",
    "def X_train_values_maxs(values):\n",
    "    return np.max(values,axis=0)\n",
    "\n",
    "def X_train_normalize(values,mins,maxs):\n",
    "    return (values - mins)/(maxs-mins)\n",
    "\n",
    "X_train_mins = X_train_values_mins(X_train_values)\n",
    "X_train_maxs = X_train_values_maxs(X_train_values)\n",
    "X_test_mins = X_train_values_mins(X_test_values)\n",
    "X_test_maxs = X_train_values_maxs(X_test_values)\n",
    "\n",
    "X_train_normalized = np.array(X_train_normalize(X_train_values,X_train_mins,X_train_maxs))\n",
    "X_test_normalized = np.array(X_train_normalize(X_test_values,X_train_mins,X_train_maxs))"
   ]
  },
  {
   "cell_type": "code",
   "execution_count": null,
   "metadata": {},
   "outputs": [
    {
     "name": "stdout",
     "output_type": "stream",
     "text": [
      "0.328155594857299\n",
      "0.3291845717382792\n",
      "0.5839524204686241\n",
      "0.5921536415832379\n"
     ]
    }
   ],
   "source": [
    "def m_ridge(X,t,lam):\n",
    "    X = np.concatenate((np.ones((X.shape[0],1)),X),axis=1) #including bias\n",
    "    I = np.eye(X.shape[1]) #identity matrix thats the same size as X\n",
    "    return np.linalg.inv((lam*I) + X.T @ X)@X.T@t\n",
    "\n",
    "w_rML = m_ridge(X_train_standardized,y_train,0.00001)\n",
    "\n",
    "def r_sse(w,x,t,lam):\n",
    "    x = np.concatenate((np.ones((x.shape[0],1)),x),axis=1) #including bias\n",
    "    return (1/2)*np.sum((t - x@w)**2) + (1/2)*np.sum(lam*w.T@w) #ridge regression\n",
    "\n",
    "def pred(w,x):\n",
    "    x = np.concatenate((np.ones((x.shape[0],1)),x),axis=1) #including bias\n",
    "    return x@w #returns the prediction\n",
    "\n",
    "def rmse(w,x,t,lam,N):\n",
    "    return np.sqrt(2*(r_sse(w,x,t,lam)/N)) #root mean squared error\n",
    "\n",
    "pred_train = np.round(pred(w_rML,X_train_standardized))\n",
    "pred_test = np.round(pred(w_rML,X_test_standardized))\n",
    "rmse_train = rmse(w_rML,X_train_standardized,y_train,0.00001,len(y_train))\n",
    "rmse_test = rmse(w_rML,X_test_standardized,y_test,0.00001,len(y_test))\n",
    "\n",
    "pred_train_norm = np.round(pred(w_rML,X_test_normalized))\n",
    "pred_test_norm = np.round(pred(w_rML,X_test_normalized))\n",
    "rmse_train_norm = rmse(w_rML,X_train_normalized,y_train,1,len(y_train))\n",
    "rmse_test_norm = rmse(w_rML,X_test_normalized,y_test,1,len(y_test)) #normalization isn't better in this case so we will use standardization\n",
    "\n",
    "print(rmse_train)\n",
    "print(rmse_test)\n",
    "print(rmse_train_norm)\n",
    "print(rmse_test_norm)\n",
    "\n",
    "def pred_fix(pred):\n",
    "    for i in range(len(pred)):\n",
    "        if pred[i] < 0:\n",
    "            pred[i] = 0\n",
    "        elif pred[i] > 1:\n",
    "            pred[i] = 1\n",
    "    return pred\n"
   ]
  },
  {
   "cell_type": "code",
   "execution_count": 668,
   "metadata": {},
   "outputs": [
    {
     "data": {
      "image/png": "[encoded data removed]",
      "text/plain": [
       "<Figure size 800x600 with 1 Axes>"
      ]
     },
     "metadata": {},
     "output_type": "display_data"
    }
   ],
   "source": [
    "plt.figure(figsize=(8, 6))\n",
    "plt.scatter(y_train, pred_fix(pred_train), label=\"Rounded Predictions vs Actual\")\n",
    "plt.plot([y_train.min(), y_train.max()], [y_train.min(), y_train.max()], 'r--', lw=2, label=\"Ideal Fit\")\n",
    "plt.xlabel(\"Actual Class (y_train)\")\n",
    "plt.ylabel(\"Rounded Predicted Class (y_train_pred)\")\n",
    "plt.title(\"Actual vs Rounded Predicted Values\")\n",
    "plt.legend()\n",
    "plt.show()"
   ]
  },
  {
   "cell_type": "code",
   "execution_count": 669,
   "metadata": {},
   "outputs": [
    {
     "name": "stdout",
     "output_type": "stream",
     "text": [
      "The percentage of correct predictions in the test set is 88.0%\n",
      "The percentage of correct predictions in the train set is 88.0%\n",
      "99 mismatches in the test set\n",
      "708 mismatches in the train set\n"
     ]
    }
   ],
   "source": [
    "test_mistmatch = np.where(y_test != pred_fix(pred_test))[0]\n",
    "train_mistmatch = np.where(y_train != pred_fix(pred_train))[0]\n",
    "\n",
    "percentage1 = np.round(100-((len(test_mistmatch)/len(y_test))*100))\n",
    "percentage2 = np.round(100-((len(train_mistmatch)/len(y_train))*100))\n",
    "\n",
    "print(f'The percentage of correct predictions in the test set is {percentage1}%')\n",
    "print(f'The percentage of correct predictions in the train set is {percentage2}%')\n",
    "\n",
    "print(len(test_mistmatch), \"mismatches in the test set\")\n",
    "print(len(train_mistmatch), \"mismatches in the train set\")"
   ]
  },
  {
   "cell_type": "code",
   "execution_count": 670,
   "metadata": {},
   "outputs": [
    {
     "name": "stdout",
     "output_type": "stream",
     "text": [
      "The percentage of correct predictions in the test set is 88.0%\n",
      "The percentage of correct predictions in the train set is 88.0%\n",
      "0.32815637154071026\n",
      "0.32908756155563335\n",
      "99 mismatches in the test set\n",
      "707 mismatches in the train set\n"
     ]
    }
   ],
   "source": [
    "y_train_values = y_train.values #dont forget to convert the table to a numpy array\n",
    "y_test_values = y_test.values\n",
    "\n",
    "def lms(w,x,t,nab,lam=0.0001):\n",
    "    X = np.concatenate((np.ones((x.shape[0],1)),x),axis=1) #including bias\n",
    "    I = np.eye(X.shape[1]) #identity matrix thats the same size as X\n",
    "    for i in range(0,len(t)):\n",
    "        n = random.randint(0,len(t)-1) #as said in the lecture notes, we need to shuffle the data\n",
    "        w = w + (nab*(((t[n] - w.T@X[n])*X[n])+lam*w)) #this is the LMS update rule\n",
    "    return w\n",
    "\n",
    "#print(lms(w_rML,X_train_standardized,y_train_values,0.01)) #this is the final weight vector\n",
    "\n",
    "lms_train = lms(w_rML,X_train_standardized,y_train_values,0.00001)\n",
    "lms_test = lms(w_rML,X_test_standardized,y_test_values,0.00001)\n",
    "\n",
    "pred_train_lms = np.round(pred(lms_train,X_train_standardized))\n",
    "pred_test_lms = np.round(pred(lms_test,X_test_standardized))\n",
    "\n",
    "train_lms_mistmatch = np.where(y_train != pred_fix(pred_train_lms))[0]\n",
    "test_lms_mistmatch = np.where(y_test != pred_fix(pred_test_lms))[0]\n",
    "\n",
    "percentage3 = np.round(100-((len(test_lms_mistmatch)/len(y_test))*100))\n",
    "percentage4 = np.round(100-((len(train_lms_mistmatch)/len(y_train))*100))\n",
    "\n",
    "print(f'The percentage of correct predictions in the test set is {percentage3}%')\n",
    "print(f'The percentage of correct predictions in the train set is {percentage4}%')\n",
    "\n",
    "rmse_test_lms = rmse(lms_test,X_test_standardized,y_test,0.00001,len(y_test))\n",
    "rmse_train_lms = rmse(lms_train,X_train_standardized,y_train,0.00001,len(y_train))\n",
    "\n",
    "print(rmse_train_lms)\n",
    "print(rmse_test_lms)\n",
    "print(len(test_lms_mistmatch), \"mismatches in the test set\")\n",
    "print(len(train_lms_mistmatch), \"mismatches in the train set\")\n"
   ]
  }
 ],
 "metadata": {
  "kernelspec": {
   "display_name": "base",
   "language": "python",
   "name": "python3"
  },
  "language_info": {
   "codemirror_mode": {
    "name": "ipython",
    "version": 3
   },
   "file_extension": ".py",
   "mimetype": "text/x-python",
   "name": "python",
   "nbconvert_exporter": "python",
   "pygments_lexer": "ipython3",
   "version": "3.12.7"
  }
 },
 "nbformat": 4,
 "nbformat_minor": 2
}

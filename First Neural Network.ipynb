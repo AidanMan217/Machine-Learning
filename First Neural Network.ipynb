{
 "cells": [
  {
   "cell_type": "code",
   "execution_count": 972,
   "id": "3d76ea83",
   "metadata": {},
   "outputs": [],
   "source": [
    "import numpy as np\n",
    "import pandas as pd"
   ]
  },
  {
   "cell_type": "code",
   "execution_count": 973,
   "id": "559eda32",
   "metadata": {},
   "outputs": [
    {
     "data": {
      "text/html": [
       "<div>\n",
       "<style scoped>\n",
       "    .dataframe tbody tr th:only-of-type {\n",
       "        vertical-align: middle;\n",
       "    }\n",
       "\n",
       "    .dataframe tbody tr th {\n",
       "        vertical-align: top;\n",
       "    }\n",
       "\n",
       "    .dataframe thead th {\n",
       "        text-align: right;\n",
       "    }\n",
       "</style>\n",
       "<table border=\"1\" class=\"dataframe\">\n",
       "  <thead>\n",
       "    <tr style=\"text-align: right;\">\n",
       "      <th></th>\n",
       "      <th>x1</th>\n",
       "      <th>x2</th>\n",
       "      <th>t1</th>\n",
       "      <th>t2</th>\n",
       "    </tr>\n",
       "  </thead>\n",
       "  <tbody>\n",
       "    <tr>\n",
       "      <th>0</th>\n",
       "      <td>1.0</td>\n",
       "      <td>0.5</td>\n",
       "      <td>10.0</td>\n",
       "      <td>5.0</td>\n",
       "    </tr>\n",
       "    <tr>\n",
       "      <th>1</th>\n",
       "      <td>2.5</td>\n",
       "      <td>1.3</td>\n",
       "      <td>20.5</td>\n",
       "      <td>10.2</td>\n",
       "    </tr>\n",
       "    <tr>\n",
       "      <th>2</th>\n",
       "      <td>3.2</td>\n",
       "      <td>2.1</td>\n",
       "      <td>30.1</td>\n",
       "      <td>15.3</td>\n",
       "    </tr>\n",
       "  </tbody>\n",
       "</table>\n",
       "</div>"
      ],
      "text/plain": [
       "    x1   x2    t1    t2\n",
       "0  1.0  0.5  10.0   5.0\n",
       "1  2.5  1.3  20.5  10.2\n",
       "2  3.2  2.1  30.1  15.3"
      ]
     },
     "execution_count": 973,
     "metadata": {},
     "output_type": "execute_result"
    }
   ],
   "source": [
    "db = pd.read_csv('regr2.csv')\n",
    "db"
   ]
  },
  {
   "cell_type": "code",
   "execution_count": 974,
   "id": "4c32907c",
   "metadata": {},
   "outputs": [
    {
     "name": "stdout",
     "output_type": "stream",
     "text": [
      "[[1.  0.5]\n",
      " [2.5 1.3]\n",
      " [3.2 2.1]]\n",
      "[[10.   5. ]\n",
      " [20.5 10.2]\n",
      " [30.1 15.3]]\n"
     ]
    }
   ],
   "source": [
    "X = db[['x1', 'x2']].values\n",
    "y = db[['t1','t2']].values\n",
    "print(X)\n",
    "print(y)"
   ]
  },
  {
   "cell_type": "code",
   "execution_count": 975,
   "id": "bc3883ec",
   "metadata": {},
   "outputs": [],
   "source": [
    "# Forward Pass #\n",
    "\n",
    "def relu(x):\n",
    "    return np.maximum(0, x) #works componently with numpy arrays\n",
    "\n",
    "def identity(x):\n",
    "    return x\n",
    "\n",
    "def relu_deriv(x):\n",
    "    return np.where(x > 0, 1, 0) #works componently with numpy arrays (condition, if condition true then x, else y)\n",
    "    \n",
    "def forward(X,w1,w2,w3):\n",
    "    # X: inputs\n",
    "    # w1: weights input -> hidden1 adjusted for bias\n",
    "    # w2: weights hidden1 -> hidden2 adjusted for bias\n",
    "    # w3: weights hidden2 -> output adjusted for bias\n",
    "    X = np.concatenate([X, np.ones((X.shape[0], 1))], axis=1)\n",
    "    h1 = relu(X @ w1)\n",
    "    h1c = np.concatenate([h1, np.ones((h1.shape[0], 1))], axis=1)\n",
    "    h2 = relu(h1c @ w2)\n",
    "    h2c = np.concatenate([h2, np.ones((h2.shape[0], 1))], axis=1)\n",
    "    o1 = identity(h2c @ w3)\n",
    "    return o1, h1, h2"
   ]
  },
  {
   "cell_type": "code",
   "execution_count": 976,
   "id": "b1e3e4ee",
   "metadata": {},
   "outputs": [],
   "source": [
    "# Backward Pass #\n",
    "\n",
    "def backward(o,t,w2,w3,h2,h1):\n",
    "    # o: output of forward pass\n",
    "    # t: target values\n",
    "    # w2: weights hidden1 -> hidden2 removed bias\n",
    "    # w3: weights hidden2 -> output removed bias\n",
    "    # h2: hidden2 activations\n",
    "    # h1: hidden1 activations\n",
    "\n",
    "    delta_3 = o - t\n",
    "    delta_2 = relu_deriv(h2)* (delta_3 @ w3[0:3].T) # 0:3 to remove bias\n",
    "    delta_1 = relu_deriv(h1)* (delta_2 @ w2[0:3].T) # 0:3 to remove bias\n",
    "    return delta_1, delta_2, delta_3"
   ]
  },
  {
   "cell_type": "code",
   "execution_count": 977,
   "id": "a668d460",
   "metadata": {},
   "outputs": [],
   "source": [
    "#Stochastic Gradient Descent #\n",
    "\n",
    "def sgd(W,dW,eta):\n",
    "    new_W = []\n",
    "    for W_i, dW_i in zip(W, dW):\n",
    "        new_W_i = W_i - (eta * dW_i)\n",
    "        new_W.append(new_W_i)\n",
    "    return new_W"
   ]
  },
  {
   "cell_type": "code",
   "execution_count": 978,
   "id": "c5f5ab48",
   "metadata": {},
   "outputs": [
    {
     "name": "stdout",
     "output_type": "stream",
     "text": [
      "(array([[ 3.80650121,  1.70956684],\n",
      "       [ 8.05474011,  2.78364778],\n",
      "       [10.23226566,  3.3341909 ]]), array([[ 1.88135514,  1.44602432, -1.50129068],\n",
      "       [ 0.9505987 ,  0.02035986, -0.55254218],\n",
      "       [-0.26463195, -1.24351345,  0.05821318]]), array([[-0.61201473,  0.28702414, -0.58296299],\n",
      "       [ 0.64105289,  0.74897492,  0.92343903],\n",
      "       [-0.32974014,  0.40651373, -0.79689079],\n",
      "       [ 1.        ,  1.        ,  1.        ]]), array([[ 2.22903258, -0.29855913],\n",
      "       [ 1.60209986,  0.4054854 ],\n",
      "       [ 2.46173073,  0.22633296],\n",
      "       [ 1.        ,  1.        ]]))\n"
     ]
    }
   ],
   "source": [
    "# now we do a loop, inside it is initialized weights, foward pass, backward, and sgd\n",
    "\n",
    "def train(X,y,eta=0.01,epochs=1000):\n",
    "    #initialize weights\n",
    "    w1 = np.random.randn(3, 3) # 3 inputs, 3 hidden neurons, removed bias\n",
    "    w2 = np.random.randn(4,3) # 3 hidden neurons, 3 hidden neurons, removed bias\n",
    "    w3 = np.random.randn(4, 2) # 3 hidden neurons, 2 outputs, removed bias\n",
    "\n",
    "    for epoch in range(epochs):\n",
    "        forward_pass = forward(X,w1,w2,w3) #output, h1, h2\n",
    "        backward_pass = backward(forward_pass[0],y,w2,w3,forward_pass[2],forward_pass[1]) #delta_1, delta_2, delta_3\n",
    "        sgd_pass = sgd([w1,w2[0:3],w3[0:3]],[backward_pass[0],backward_pass[1],backward_pass[2]],eta) #w1_new, w2_new, w3_new\n",
    "        w1 = sgd_pass[0]\n",
    "        w2 = sgd_pass[1]\n",
    "        w2 = np.concatenate([w2, np.ones((1, w2.shape[1]))], axis=0)\n",
    "        w3 = sgd_pass[2]\n",
    "        w3 = np.concatenate([w3, np.ones((1, w3.shape[1]))], axis=0)\n",
    "        #if epoch % 100 == 0:\n",
    "           #print(f\"Epoch {epoch}: Loss = {np.mean(np.square(forward_pass[0] - y))}\")\n",
    "    return forward_pass[0], w1, w2, w3\n",
    "\n",
    "print(train(X,y,0.0001,1000)) #the code error is"
   ]
  }
 ],
 "metadata": {
  "kernelspec": {
   "display_name": "base",
   "language": "python",
   "name": "python3"
  },
  "language_info": {
   "codemirror_mode": {
    "name": "ipython",
    "version": 3
   },
   "file_extension": ".py",
   "mimetype": "text/x-python",
   "name": "python",
   "nbconvert_exporter": "python",
   "pygments_lexer": "ipython3",
   "version": "3.12.7"
  }
 },
 "nbformat": 4,
 "nbformat_minor": 5
}

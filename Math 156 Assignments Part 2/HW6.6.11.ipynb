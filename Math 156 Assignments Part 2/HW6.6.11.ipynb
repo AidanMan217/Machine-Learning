{
 "cells": [
  {
   "cell_type": "code",
   "execution_count": 8,
   "id": "5143161a",
   "metadata": {},
   "outputs": [
    {
     "data": {
      "application/vnd.microsoft.datawrangler.viewer.v0+json": {
       "columns": [
        {
         "name": "index",
         "rawType": "int64",
         "type": "integer"
        },
        {
         "name": "crim",
         "rawType": "float64",
         "type": "float"
        },
        {
         "name": "zn",
         "rawType": "float64",
         "type": "float"
        },
        {
         "name": "indus",
         "rawType": "float64",
         "type": "float"
        },
        {
         "name": "chas",
         "rawType": "int64",
         "type": "integer"
        },
        {
         "name": "nox",
         "rawType": "float64",
         "type": "float"
        },
        {
         "name": "rm",
         "rawType": "float64",
         "type": "float"
        },
        {
         "name": "age",
         "rawType": "float64",
         "type": "float"
        },
        {
         "name": "dis",
         "rawType": "float64",
         "type": "float"
        },
        {
         "name": "rad",
         "rawType": "int64",
         "type": "integer"
        },
        {
         "name": "tax",
         "rawType": "int64",
         "type": "integer"
        },
        {
         "name": "ptratio",
         "rawType": "float64",
         "type": "float"
        },
        {
         "name": "lstat",
         "rawType": "float64",
         "type": "float"
        },
        {
         "name": "medv",
         "rawType": "float64",
         "type": "float"
        }
       ],
       "ref": "8a22dfa4-f9b0-44cc-835c-7e0cf5edde28",
       "rows": [
        [
         "0",
         "0.00632",
         "18.0",
         "2.31",
         "0",
         "0.538",
         "6.575",
         "65.2",
         "4.09",
         "1",
         "296",
         "15.3",
         "4.98",
         "24.0"
        ],
        [
         "1",
         "0.02731",
         "0.0",
         "7.07",
         "0",
         "0.469",
         "6.421",
         "78.9",
         "4.9671",
         "2",
         "242",
         "17.8",
         "9.14",
         "21.6"
        ],
        [
         "2",
         "0.02729",
         "0.0",
         "7.07",
         "0",
         "0.469",
         "7.185",
         "61.1",
         "4.9671",
         "2",
         "242",
         "17.8",
         "4.03",
         "34.7"
        ],
        [
         "3",
         "0.03237",
         "0.0",
         "2.18",
         "0",
         "0.458",
         "6.998",
         "45.8",
         "6.0622",
         "3",
         "222",
         "18.7",
         "2.94",
         "33.4"
        ],
        [
         "4",
         "0.06905",
         "0.0",
         "2.18",
         "0",
         "0.458",
         "7.147",
         "54.2",
         "6.0622",
         "3",
         "222",
         "18.7",
         "5.33",
         "36.2"
        ]
       ],
       "shape": {
        "columns": 13,
        "rows": 5
       }
      },
      "text/html": [
       "<div>\n",
       "<style scoped>\n",
       "    .dataframe tbody tr th:only-of-type {\n",
       "        vertical-align: middle;\n",
       "    }\n",
       "\n",
       "    .dataframe tbody tr th {\n",
       "        vertical-align: top;\n",
       "    }\n",
       "\n",
       "    .dataframe thead th {\n",
       "        text-align: right;\n",
       "    }\n",
       "</style>\n",
       "<table border=\"1\" class=\"dataframe\">\n",
       "  <thead>\n",
       "    <tr style=\"text-align: right;\">\n",
       "      <th></th>\n",
       "      <th>crim</th>\n",
       "      <th>zn</th>\n",
       "      <th>indus</th>\n",
       "      <th>chas</th>\n",
       "      <th>nox</th>\n",
       "      <th>rm</th>\n",
       "      <th>age</th>\n",
       "      <th>dis</th>\n",
       "      <th>rad</th>\n",
       "      <th>tax</th>\n",
       "      <th>ptratio</th>\n",
       "      <th>lstat</th>\n",
       "      <th>medv</th>\n",
       "    </tr>\n",
       "  </thead>\n",
       "  <tbody>\n",
       "    <tr>\n",
       "      <th>0</th>\n",
       "      <td>0.00632</td>\n",
       "      <td>18.0</td>\n",
       "      <td>2.31</td>\n",
       "      <td>0</td>\n",
       "      <td>0.538</td>\n",
       "      <td>6.575</td>\n",
       "      <td>65.2</td>\n",
       "      <td>4.0900</td>\n",
       "      <td>1</td>\n",
       "      <td>296</td>\n",
       "      <td>15.3</td>\n",
       "      <td>4.98</td>\n",
       "      <td>24.0</td>\n",
       "    </tr>\n",
       "    <tr>\n",
       "      <th>1</th>\n",
       "      <td>0.02731</td>\n",
       "      <td>0.0</td>\n",
       "      <td>7.07</td>\n",
       "      <td>0</td>\n",
       "      <td>0.469</td>\n",
       "      <td>6.421</td>\n",
       "      <td>78.9</td>\n",
       "      <td>4.9671</td>\n",
       "      <td>2</td>\n",
       "      <td>242</td>\n",
       "      <td>17.8</td>\n",
       "      <td>9.14</td>\n",
       "      <td>21.6</td>\n",
       "    </tr>\n",
       "    <tr>\n",
       "      <th>2</th>\n",
       "      <td>0.02729</td>\n",
       "      <td>0.0</td>\n",
       "      <td>7.07</td>\n",
       "      <td>0</td>\n",
       "      <td>0.469</td>\n",
       "      <td>7.185</td>\n",
       "      <td>61.1</td>\n",
       "      <td>4.9671</td>\n",
       "      <td>2</td>\n",
       "      <td>242</td>\n",
       "      <td>17.8</td>\n",
       "      <td>4.03</td>\n",
       "      <td>34.7</td>\n",
       "    </tr>\n",
       "    <tr>\n",
       "      <th>3</th>\n",
       "      <td>0.03237</td>\n",
       "      <td>0.0</td>\n",
       "      <td>2.18</td>\n",
       "      <td>0</td>\n",
       "      <td>0.458</td>\n",
       "      <td>6.998</td>\n",
       "      <td>45.8</td>\n",
       "      <td>6.0622</td>\n",
       "      <td>3</td>\n",
       "      <td>222</td>\n",
       "      <td>18.7</td>\n",
       "      <td>2.94</td>\n",
       "      <td>33.4</td>\n",
       "    </tr>\n",
       "    <tr>\n",
       "      <th>4</th>\n",
       "      <td>0.06905</td>\n",
       "      <td>0.0</td>\n",
       "      <td>2.18</td>\n",
       "      <td>0</td>\n",
       "      <td>0.458</td>\n",
       "      <td>7.147</td>\n",
       "      <td>54.2</td>\n",
       "      <td>6.0622</td>\n",
       "      <td>3</td>\n",
       "      <td>222</td>\n",
       "      <td>18.7</td>\n",
       "      <td>5.33</td>\n",
       "      <td>36.2</td>\n",
       "    </tr>\n",
       "  </tbody>\n",
       "</table>\n",
       "</div>"
      ],
      "text/plain": [
       "      crim    zn  indus  chas    nox     rm   age     dis  rad  tax  ptratio  \\\n",
       "0  0.00632  18.0   2.31     0  0.538  6.575  65.2  4.0900    1  296     15.3   \n",
       "1  0.02731   0.0   7.07     0  0.469  6.421  78.9  4.9671    2  242     17.8   \n",
       "2  0.02729   0.0   7.07     0  0.469  7.185  61.1  4.9671    2  242     17.8   \n",
       "3  0.03237   0.0   2.18     0  0.458  6.998  45.8  6.0622    3  222     18.7   \n",
       "4  0.06905   0.0   2.18     0  0.458  7.147  54.2  6.0622    3  222     18.7   \n",
       "\n",
       "   lstat  medv  \n",
       "0   4.98  24.0  \n",
       "1   9.14  21.6  \n",
       "2   4.03  34.7  \n",
       "3   2.94  33.4  \n",
       "4   5.33  36.2  "
      ]
     },
     "execution_count": 8,
     "metadata": {},
     "output_type": "execute_result"
    }
   ],
   "source": [
    "import pandas as pd\n",
    "import numpy as np\n",
    "import matplotlib.pyplot as plt\n",
    "from sklearn.model_selection import train_test_split, cross_val_score, KFold\n",
    "from sklearn.linear_model import LinearRegression, RidgeCV, LassoCV\n",
    "from sklearn.decomposition import PCA\n",
    "from sklearn.preprocessing import StandardScaler\n",
    "from sklearn.metrics import mean_squared_error\n",
    "\n",
    "# For best subset selection\n",
    "import itertools\n",
    "\n",
    "# Step 2: Load the Dataset\n",
    "df = pd.read_csv('Boston.csv')\n",
    "df.head()"
   ]
  },
  {
   "cell_type": "markdown",
   "id": "bfe2ca42",
   "metadata": {},
   "source": [
    "## Data Exploration\n",
    "\n",
    "Let's quickly check the shape, columns, and look for missing values.\n"
   ]
  },
  {
   "cell_type": "code",
   "execution_count": 9,
   "id": "147d2a52",
   "metadata": {},
   "outputs": [
    {
     "name": "stdout",
     "output_type": "stream",
     "text": [
      "Shape: (506, 13)\n",
      "\n",
      "Columns: Index(['crim', 'zn', 'indus', 'chas', 'nox', 'rm', 'age', 'dis', 'rad', 'tax',\n",
      "       'ptratio', 'lstat', 'medv'],\n",
      "      dtype='object')\n",
      "\n",
      "Missing values:\n",
      " crim       0\n",
      "zn         0\n",
      "indus      0\n",
      "chas       0\n",
      "nox        0\n",
      "rm         0\n",
      "age        0\n",
      "dis        0\n",
      "rad        0\n",
      "tax        0\n",
      "ptratio    0\n",
      "lstat      0\n",
      "medv       0\n",
      "dtype: int64\n"
     ]
    },
    {
     "data": {
      "application/vnd.microsoft.datawrangler.viewer.v0+json": {
       "columns": [
        {
         "name": "index",
         "rawType": "object",
         "type": "string"
        },
        {
         "name": "crim",
         "rawType": "float64",
         "type": "float"
        },
        {
         "name": "zn",
         "rawType": "float64",
         "type": "float"
        },
        {
         "name": "indus",
         "rawType": "float64",
         "type": "float"
        },
        {
         "name": "chas",
         "rawType": "float64",
         "type": "float"
        },
        {
         "name": "nox",
         "rawType": "float64",
         "type": "float"
        },
        {
         "name": "rm",
         "rawType": "float64",
         "type": "float"
        },
        {
         "name": "age",
         "rawType": "float64",
         "type": "float"
        },
        {
         "name": "dis",
         "rawType": "float64",
         "type": "float"
        },
        {
         "name": "rad",
         "rawType": "float64",
         "type": "float"
        },
        {
         "name": "tax",
         "rawType": "float64",
         "type": "float"
        },
        {
         "name": "ptratio",
         "rawType": "float64",
         "type": "float"
        },
        {
         "name": "lstat",
         "rawType": "float64",
         "type": "float"
        },
        {
         "name": "medv",
         "rawType": "float64",
         "type": "float"
        }
       ],
       "ref": "b41fde03-7ccf-42fd-827f-ceb6f12e58f1",
       "rows": [
        [
         "count",
         "506.0",
         "506.0",
         "506.0",
         "506.0",
         "506.0",
         "506.0",
         "506.0",
         "506.0",
         "506.0",
         "506.0",
         "506.0",
         "506.0",
         "506.0"
        ],
        [
         "mean",
         "3.613523557312254",
         "11.363636363636363",
         "11.13677865612648",
         "0.0691699604743083",
         "0.5546950592885376",
         "6.284634387351779",
         "68.57490118577076",
         "3.795042687747036",
         "9.549407114624506",
         "408.2371541501976",
         "18.455533596837945",
         "12.653063241106722",
         "22.532806324110677"
        ],
        [
         "std",
         "8.601545105332487",
         "23.322452994515036",
         "6.8603529408975845",
         "0.2539940413404118",
         "0.11587767566755611",
         "0.7026171434153237",
         "28.148861406903638",
         "2.1057101266276104",
         "8.707259384239377",
         "168.53711605495926",
         "2.164945523714446",
         "7.141061511348571",
         "9.19710408737982"
        ],
        [
         "min",
         "0.00632",
         "0.0",
         "0.46",
         "0.0",
         "0.385",
         "3.561",
         "2.9",
         "1.1296",
         "1.0",
         "187.0",
         "12.6",
         "1.73",
         "5.0"
        ],
        [
         "25%",
         "0.08204499999999999",
         "0.0",
         "5.19",
         "0.0",
         "0.449",
         "5.8854999999999995",
         "45.025",
         "2.100175",
         "4.0",
         "279.0",
         "17.4",
         "6.949999999999999",
         "17.025"
        ],
        [
         "50%",
         "0.25651",
         "0.0",
         "9.69",
         "0.0",
         "0.538",
         "6.2085",
         "77.5",
         "3.2074499999999997",
         "5.0",
         "330.0",
         "19.05",
         "11.36",
         "21.2"
        ],
        [
         "75%",
         "3.6770825",
         "12.5",
         "18.1",
         "0.0",
         "0.624",
         "6.6235",
         "94.07499999999999",
         "5.1884250000000005",
         "24.0",
         "666.0",
         "20.2",
         "16.955000000000002",
         "25.0"
        ],
        [
         "max",
         "88.9762",
         "100.0",
         "27.74",
         "1.0",
         "0.871",
         "8.78",
         "100.0",
         "12.1265",
         "24.0",
         "711.0",
         "22.0",
         "37.97",
         "50.0"
        ]
       ],
       "shape": {
        "columns": 13,
        "rows": 8
       }
      },
      "text/html": [
       "<div>\n",
       "<style scoped>\n",
       "    .dataframe tbody tr th:only-of-type {\n",
       "        vertical-align: middle;\n",
       "    }\n",
       "\n",
       "    .dataframe tbody tr th {\n",
       "        vertical-align: top;\n",
       "    }\n",
       "\n",
       "    .dataframe thead th {\n",
       "        text-align: right;\n",
       "    }\n",
       "</style>\n",
       "<table border=\"1\" class=\"dataframe\">\n",
       "  <thead>\n",
       "    <tr style=\"text-align: right;\">\n",
       "      <th></th>\n",
       "      <th>crim</th>\n",
       "      <th>zn</th>\n",
       "      <th>indus</th>\n",
       "      <th>chas</th>\n",
       "      <th>nox</th>\n",
       "      <th>rm</th>\n",
       "      <th>age</th>\n",
       "      <th>dis</th>\n",
       "      <th>rad</th>\n",
       "      <th>tax</th>\n",
       "      <th>ptratio</th>\n",
       "      <th>lstat</th>\n",
       "      <th>medv</th>\n",
       "    </tr>\n",
       "  </thead>\n",
       "  <tbody>\n",
       "    <tr>\n",
       "      <th>count</th>\n",
       "      <td>506.000000</td>\n",
       "      <td>506.000000</td>\n",
       "      <td>506.000000</td>\n",
       "      <td>506.000000</td>\n",
       "      <td>506.000000</td>\n",
       "      <td>506.000000</td>\n",
       "      <td>506.000000</td>\n",
       "      <td>506.000000</td>\n",
       "      <td>506.000000</td>\n",
       "      <td>506.000000</td>\n",
       "      <td>506.000000</td>\n",
       "      <td>506.000000</td>\n",
       "      <td>506.000000</td>\n",
       "    </tr>\n",
       "    <tr>\n",
       "      <th>mean</th>\n",
       "      <td>3.613524</td>\n",
       "      <td>11.363636</td>\n",
       "      <td>11.136779</td>\n",
       "      <td>0.069170</td>\n",
       "      <td>0.554695</td>\n",
       "      <td>6.284634</td>\n",
       "      <td>68.574901</td>\n",
       "      <td>3.795043</td>\n",
       "      <td>9.549407</td>\n",
       "      <td>408.237154</td>\n",
       "      <td>18.455534</td>\n",
       "      <td>12.653063</td>\n",
       "      <td>22.532806</td>\n",
       "    </tr>\n",
       "    <tr>\n",
       "      <th>std</th>\n",
       "      <td>8.601545</td>\n",
       "      <td>23.322453</td>\n",
       "      <td>6.860353</td>\n",
       "      <td>0.253994</td>\n",
       "      <td>0.115878</td>\n",
       "      <td>0.702617</td>\n",
       "      <td>28.148861</td>\n",
       "      <td>2.105710</td>\n",
       "      <td>8.707259</td>\n",
       "      <td>168.537116</td>\n",
       "      <td>2.164946</td>\n",
       "      <td>7.141062</td>\n",
       "      <td>9.197104</td>\n",
       "    </tr>\n",
       "    <tr>\n",
       "      <th>min</th>\n",
       "      <td>0.006320</td>\n",
       "      <td>0.000000</td>\n",
       "      <td>0.460000</td>\n",
       "      <td>0.000000</td>\n",
       "      <td>0.385000</td>\n",
       "      <td>3.561000</td>\n",
       "      <td>2.900000</td>\n",
       "      <td>1.129600</td>\n",
       "      <td>1.000000</td>\n",
       "      <td>187.000000</td>\n",
       "      <td>12.600000</td>\n",
       "      <td>1.730000</td>\n",
       "      <td>5.000000</td>\n",
       "    </tr>\n",
       "    <tr>\n",
       "      <th>25%</th>\n",
       "      <td>0.082045</td>\n",
       "      <td>0.000000</td>\n",
       "      <td>5.190000</td>\n",
       "      <td>0.000000</td>\n",
       "      <td>0.449000</td>\n",
       "      <td>5.885500</td>\n",
       "      <td>45.025000</td>\n",
       "      <td>2.100175</td>\n",
       "      <td>4.000000</td>\n",
       "      <td>279.000000</td>\n",
       "      <td>17.400000</td>\n",
       "      <td>6.950000</td>\n",
       "      <td>17.025000</td>\n",
       "    </tr>\n",
       "    <tr>\n",
       "      <th>50%</th>\n",
       "      <td>0.256510</td>\n",
       "      <td>0.000000</td>\n",
       "      <td>9.690000</td>\n",
       "      <td>0.000000</td>\n",
       "      <td>0.538000</td>\n",
       "      <td>6.208500</td>\n",
       "      <td>77.500000</td>\n",
       "      <td>3.207450</td>\n",
       "      <td>5.000000</td>\n",
       "      <td>330.000000</td>\n",
       "      <td>19.050000</td>\n",
       "      <td>11.360000</td>\n",
       "      <td>21.200000</td>\n",
       "    </tr>\n",
       "    <tr>\n",
       "      <th>75%</th>\n",
       "      <td>3.677083</td>\n",
       "      <td>12.500000</td>\n",
       "      <td>18.100000</td>\n",
       "      <td>0.000000</td>\n",
       "      <td>0.624000</td>\n",
       "      <td>6.623500</td>\n",
       "      <td>94.075000</td>\n",
       "      <td>5.188425</td>\n",
       "      <td>24.000000</td>\n",
       "      <td>666.000000</td>\n",
       "      <td>20.200000</td>\n",
       "      <td>16.955000</td>\n",
       "      <td>25.000000</td>\n",
       "    </tr>\n",
       "    <tr>\n",
       "      <th>max</th>\n",
       "      <td>88.976200</td>\n",
       "      <td>100.000000</td>\n",
       "      <td>27.740000</td>\n",
       "      <td>1.000000</td>\n",
       "      <td>0.871000</td>\n",
       "      <td>8.780000</td>\n",
       "      <td>100.000000</td>\n",
       "      <td>12.126500</td>\n",
       "      <td>24.000000</td>\n",
       "      <td>711.000000</td>\n",
       "      <td>22.000000</td>\n",
       "      <td>37.970000</td>\n",
       "      <td>50.000000</td>\n",
       "    </tr>\n",
       "  </tbody>\n",
       "</table>\n",
       "</div>"
      ],
      "text/plain": [
       "             crim          zn       indus        chas         nox          rm  \\\n",
       "count  506.000000  506.000000  506.000000  506.000000  506.000000  506.000000   \n",
       "mean     3.613524   11.363636   11.136779    0.069170    0.554695    6.284634   \n",
       "std      8.601545   23.322453    6.860353    0.253994    0.115878    0.702617   \n",
       "min      0.006320    0.000000    0.460000    0.000000    0.385000    3.561000   \n",
       "25%      0.082045    0.000000    5.190000    0.000000    0.449000    5.885500   \n",
       "50%      0.256510    0.000000    9.690000    0.000000    0.538000    6.208500   \n",
       "75%      3.677083   12.500000   18.100000    0.000000    0.624000    6.623500   \n",
       "max     88.976200  100.000000   27.740000    1.000000    0.871000    8.780000   \n",
       "\n",
       "              age         dis         rad         tax     ptratio       lstat  \\\n",
       "count  506.000000  506.000000  506.000000  506.000000  506.000000  506.000000   \n",
       "mean    68.574901    3.795043    9.549407  408.237154   18.455534   12.653063   \n",
       "std     28.148861    2.105710    8.707259  168.537116    2.164946    7.141062   \n",
       "min      2.900000    1.129600    1.000000  187.000000   12.600000    1.730000   \n",
       "25%     45.025000    2.100175    4.000000  279.000000   17.400000    6.950000   \n",
       "50%     77.500000    3.207450    5.000000  330.000000   19.050000   11.360000   \n",
       "75%     94.075000    5.188425   24.000000  666.000000   20.200000   16.955000   \n",
       "max    100.000000   12.126500   24.000000  711.000000   22.000000   37.970000   \n",
       "\n",
       "             medv  \n",
       "count  506.000000  \n",
       "mean    22.532806  \n",
       "std      9.197104  \n",
       "min      5.000000  \n",
       "25%     17.025000  \n",
       "50%     21.200000  \n",
       "75%     25.000000  \n",
       "max     50.000000  "
      ]
     },
     "execution_count": 9,
     "metadata": {},
     "output_type": "execute_result"
    }
   ],
   "source": [
    "print(\"Shape:\", df.shape)\n",
    "print(\"\\nColumns:\", df.columns)\n",
    "print(\"\\nMissing values:\\n\", df.isnull().sum())\n",
    "df.describe()"
   ]
  },
  {
   "cell_type": "markdown",
   "id": "8c3e1623",
   "metadata": {},
   "source": [
    "## Preprocessing\n",
    "\n",
    "- Define predictors (X) and target (y).\n",
    "- Split data into train and test sets.\n"
   ]
  },
  {
   "cell_type": "code",
   "execution_count": 10,
   "id": "2f4556f1",
   "metadata": {},
   "outputs": [],
   "source": [
    "X = df.drop(['crim'], axis=1)  # Drop target from predictors\n",
    "y = df['crim']\n",
    "\n",
    "X_train, X_test, y_train, y_test = train_test_split(X, y, test_size=0.2, random_state=1)\n"
   ]
  },
  {
   "cell_type": "markdown",
   "id": "31b4a08e",
   "metadata": {},
   "source": [
    "## (a) Try Different Regression Methods\n",
    "\n",
    "### 1. Best Subset Selection\n",
    "We'll evaluate all possible feature combinations (up to 8 features for speed).\n"
   ]
  },
  {
   "cell_type": "code",
   "execution_count": 11,
   "id": "7904e6c7",
   "metadata": {},
   "outputs": [
    {
     "data": {
      "application/vnd.microsoft.datawrangler.viewer.v0+json": {
       "columns": [
        {
         "name": "index",
         "rawType": "int64",
         "type": "integer"
        },
        {
         "name": "features",
         "rawType": "object",
         "type": "unknown"
        },
        {
         "name": "rss",
         "rawType": "float64",
         "type": "float"
        },
        {
         "name": "k",
         "rawType": "int64",
         "type": "integer"
        }
       ],
       "ref": "c0698806-746c-492b-897c-13d9bd6bfd41",
       "rows": [
        [
         "7",
         "('rad',)",
         "21133.669350634005",
         "1"
        ],
        [
         "70",
         "('rad', 'lstat')",
         "20101.594518199276",
         "2"
        ],
        [
         "293",
         "('rad', 'lstat', 'medv')",
         "19965.97745108055",
         "3"
        ],
        [
         "446",
         "('zn', 'dis', 'rad', 'medv')",
         "19586.80684615214",
         "4"
        ],
        [
         "1036",
         "('zn', 'nox', 'dis', 'rad', 'medv')",
         "19354.16695230837",
         "5"
        ],
        [
         "1980",
         "('zn', 'nox', 'dis', 'rad', 'ptratio', 'medv')",
         "19173.978024492633",
         "6"
        ],
        [
         "2940",
         "('zn', 'nox', 'dis', 'rad', 'ptratio', 'lstat', 'medv')",
         "19070.009380391315",
         "7"
        ],
        [
         "3613",
         "('zn', 'nox', 'rm', 'dis', 'rad', 'ptratio', 'lstat', 'medv')",
         "19025.18464998898",
         "8"
        ]
       ],
       "shape": {
        "columns": 3,
        "rows": 8
       }
      },
      "text/html": [
       "<div>\n",
       "<style scoped>\n",
       "    .dataframe tbody tr th:only-of-type {\n",
       "        vertical-align: middle;\n",
       "    }\n",
       "\n",
       "    .dataframe tbody tr th {\n",
       "        vertical-align: top;\n",
       "    }\n",
       "\n",
       "    .dataframe thead th {\n",
       "        text-align: right;\n",
       "    }\n",
       "</style>\n",
       "<table border=\"1\" class=\"dataframe\">\n",
       "  <thead>\n",
       "    <tr style=\"text-align: right;\">\n",
       "      <th></th>\n",
       "      <th>features</th>\n",
       "      <th>rss</th>\n",
       "      <th>k</th>\n",
       "    </tr>\n",
       "  </thead>\n",
       "  <tbody>\n",
       "    <tr>\n",
       "      <th>7</th>\n",
       "      <td>(rad,)</td>\n",
       "      <td>21133.669351</td>\n",
       "      <td>1</td>\n",
       "    </tr>\n",
       "    <tr>\n",
       "      <th>70</th>\n",
       "      <td>(rad, lstat)</td>\n",
       "      <td>20101.594518</td>\n",
       "      <td>2</td>\n",
       "    </tr>\n",
       "    <tr>\n",
       "      <th>293</th>\n",
       "      <td>(rad, lstat, medv)</td>\n",
       "      <td>19965.977451</td>\n",
       "      <td>3</td>\n",
       "    </tr>\n",
       "    <tr>\n",
       "      <th>446</th>\n",
       "      <td>(zn, dis, rad, medv)</td>\n",
       "      <td>19586.806846</td>\n",
       "      <td>4</td>\n",
       "    </tr>\n",
       "    <tr>\n",
       "      <th>1036</th>\n",
       "      <td>(zn, nox, dis, rad, medv)</td>\n",
       "      <td>19354.166952</td>\n",
       "      <td>5</td>\n",
       "    </tr>\n",
       "    <tr>\n",
       "      <th>1980</th>\n",
       "      <td>(zn, nox, dis, rad, ptratio, medv)</td>\n",
       "      <td>19173.978024</td>\n",
       "      <td>6</td>\n",
       "    </tr>\n",
       "    <tr>\n",
       "      <th>2940</th>\n",
       "      <td>(zn, nox, dis, rad, ptratio, lstat, medv)</td>\n",
       "      <td>19070.009380</td>\n",
       "      <td>7</td>\n",
       "    </tr>\n",
       "    <tr>\n",
       "      <th>3613</th>\n",
       "      <td>(zn, nox, rm, dis, rad, ptratio, lstat, medv)</td>\n",
       "      <td>19025.184650</td>\n",
       "      <td>8</td>\n",
       "    </tr>\n",
       "  </tbody>\n",
       "</table>\n",
       "</div>"
      ],
      "text/plain": [
       "                                           features           rss  k\n",
       "7                                            (rad,)  21133.669351  1\n",
       "70                                     (rad, lstat)  20101.594518  2\n",
       "293                              (rad, lstat, medv)  19965.977451  3\n",
       "446                            (zn, dis, rad, medv)  19586.806846  4\n",
       "1036                      (zn, nox, dis, rad, medv)  19354.166952  5\n",
       "1980             (zn, nox, dis, rad, ptratio, medv)  19173.978024  6\n",
       "2940      (zn, nox, dis, rad, ptratio, lstat, medv)  19070.009380  7\n",
       "3613  (zn, nox, rm, dis, rad, ptratio, lstat, medv)  19025.184650  8"
      ]
     },
     "execution_count": 11,
     "metadata": {},
     "output_type": "execute_result"
    }
   ],
   "source": [
    "def best_subset_selection(X, y, max_features=8):\n",
    "    results = []\n",
    "    n_features = X.shape[1]\n",
    "    features = X.columns\n",
    "    for k in range(1, max_features + 1):\n",
    "        for combo in itertools.combinations(features, k):\n",
    "            X_subset = X[list(combo)]\n",
    "            model = LinearRegression().fit(X_subset, y)\n",
    "            y_pred = model.predict(X_subset)\n",
    "            rss = ((y - y_pred) ** 2).sum()\n",
    "            results.append({'features': combo, 'rss': rss, 'k': k})\n",
    "    results_df = pd.DataFrame(results)\n",
    "    return results_df.loc[results_df.groupby('k').rss.idxmin()]\n",
    "\n",
    "subset_results = best_subset_selection(X_train, y_train, max_features=8)\n",
    "subset_results\n"
   ]
  },
  {
   "cell_type": "markdown",
   "id": "ac208383",
   "metadata": {},
   "source": [
    "### 2. Ridge Regression (with Cross-Validation)\n"
   ]
  },
  {
   "cell_type": "code",
   "execution_count": 12,
   "id": "515ae7c3",
   "metadata": {},
   "outputs": [
    {
     "name": "stderr",
     "output_type": "stream",
     "text": [
      "c:\\Users\\Aidan\\anaconda3\\Lib\\site-packages\\sklearn\\linear_model\\_ridge.py:2341: FutureWarning: 'store_cv_values' is deprecated in version 1.5 and will be removed in 1.7. Use 'store_cv_results' instead.\n",
      "  warnings.warn(\n"
     ]
    },
    {
     "data": {
      "text/plain": [
       "(6.5793322465756825, 16.34232086056344)"
      ]
     },
     "execution_count": 12,
     "metadata": {},
     "output_type": "execute_result"
    }
   ],
   "source": [
    "scaler = StandardScaler()\n",
    "X_train_scaled = scaler.fit_transform(X_train)\n",
    "X_test_scaled = scaler.transform(X_test)\n",
    "\n",
    "alphas = np.logspace(-3, 3, 100)\n",
    "ridge_cv = RidgeCV(alphas=alphas, store_cv_values=True)\n",
    "ridge_cv.fit(X_train_scaled, y_train)\n",
    "y_pred_ridge = ridge_cv.predict(X_test_scaled)\n",
    "ridge_test_mse = mean_squared_error(y_test, y_pred_ridge)\n",
    "ridge_cv.alpha_, ridge_test_mse\n"
   ]
  },
  {
   "cell_type": "markdown",
   "id": "b10ce77f",
   "metadata": {},
   "source": [
    "### 3. Lasso Regression (with Cross-Validation)\n"
   ]
  },
  {
   "cell_type": "code",
   "execution_count": 13,
   "id": "0a8b9e6c",
   "metadata": {},
   "outputs": [
    {
     "data": {
      "text/plain": [
       "(0.06416504547743553, 15.865000368367568, 10)"
      ]
     },
     "execution_count": 13,
     "metadata": {},
     "output_type": "execute_result"
    }
   ],
   "source": [
    "lasso_cv = LassoCV(alphas=None, cv=5, max_iter=10000)\n",
    "lasso_cv.fit(X_train_scaled, y_train)\n",
    "y_pred_lasso = lasso_cv.predict(X_test_scaled)\n",
    "lasso_test_mse = mean_squared_error(y_test, y_pred_lasso)\n",
    "lasso_cv.alpha_, lasso_test_mse, np.sum(lasso_cv.coef_ != 0)"
   ]
  },
  {
   "cell_type": "markdown",
   "id": "48b0e897",
   "metadata": {},
   "source": [
    "### 4. Principal Components Regression (PCR)\n",
    "We use PCA on scaled predictors, then linear regression on the first N components.\n"
   ]
  },
  {
   "cell_type": "code",
   "execution_count": 14,
   "id": "bef400d1",
   "metadata": {},
   "outputs": [
    {
     "data": {
      "image/png": "[encoded data removed]",
      "text/plain": [
       "<Figure size 640x480 with 1 Axes>"
      ]
     },
     "metadata": {},
     "output_type": "display_data"
    },
    {
     "data": {
      "text/plain": [
       "(7, 15.90095202877109)"
      ]
     },
     "execution_count": 14,
     "metadata": {},
     "output_type": "execute_result"
    }
   ],
   "source": [
    "def pcr(X_train, X_test, y_train, y_test, n_components_list):\n",
    "    mse_list = []\n",
    "    scaler = StandardScaler()\n",
    "    X_train_scaled = scaler.fit_transform(X_train)\n",
    "    X_test_scaled = scaler.transform(X_test)\n",
    "    for n in n_components_list:\n",
    "        pca = PCA(n_components=n)\n",
    "        X_train_pca = pca.fit_transform(X_train_scaled)\n",
    "        X_test_pca = pca.transform(X_test_scaled)\n",
    "        model = LinearRegression().fit(X_train_pca, y_train)\n",
    "        y_pred = model.predict(X_test_pca)\n",
    "        mse = mean_squared_error(y_test, y_pred)\n",
    "        mse_list.append(mse)\n",
    "    return mse_list\n",
    "\n",
    "n_components_list = list(range(1, X_train.shape[1] + 1))\n",
    "pcr_mse = pcr(X_train, X_test, y_train, y_test, n_components_list)\n",
    "\n",
    "plt.plot(n_components_list, pcr_mse, marker='o')\n",
    "plt.xlabel('Number of Principal Components')\n",
    "plt.ylabel('Test MSE')\n",
    "plt.title('PCR: Test MSE vs Number of Components')\n",
    "plt.show()\n",
    "\n",
    "best_n_components = n_components_list[np.argmin(pcr_mse)]\n",
    "min_pcr_mse = min(pcr_mse)\n",
    "best_n_components, min_pcr_mse\n"
   ]
  },
  {
   "cell_type": "markdown",
   "id": "84451263",
   "metadata": {},
   "source": [
    "## (b) Model Comparison and Selection\n",
    "\n",
    "Summarize test MSEs for each approach and pick the best performing model(s).\n"
   ]
  },
  {
   "cell_type": "code",
   "execution_count": 15,
   "id": "d454dfaf",
   "metadata": {},
   "outputs": [
    {
     "data": {
      "application/vnd.microsoft.datawrangler.viewer.v0+json": {
       "columns": [
        {
         "name": "index",
         "rawType": "int64",
         "type": "integer"
        },
        {
         "name": "Method",
         "rawType": "object",
         "type": "string"
        },
        {
         "name": "Test MSE",
         "rawType": "float64",
         "type": "float"
        }
       ],
       "ref": "ab6025ae-d7c5-49d1-a192-8fa8382940af",
       "rows": [
        [
         "0",
         "Best Subset (8 features)",
         "17.10247456427874"
        ],
        [
         "1",
         "Ridge Regression",
         "16.34232086056344"
        ],
        [
         "2",
         "Lasso Regression",
         "15.865000368367568"
        ],
        [
         "3",
         "PCR (7 comps)",
         "15.90095202877109"
        ]
       ],
       "shape": {
        "columns": 2,
        "rows": 4
       }
      },
      "text/html": [
       "<div>\n",
       "<style scoped>\n",
       "    .dataframe tbody tr th:only-of-type {\n",
       "        vertical-align: middle;\n",
       "    }\n",
       "\n",
       "    .dataframe tbody tr th {\n",
       "        vertical-align: top;\n",
       "    }\n",
       "\n",
       "    .dataframe thead th {\n",
       "        text-align: right;\n",
       "    }\n",
       "</style>\n",
       "<table border=\"1\" class=\"dataframe\">\n",
       "  <thead>\n",
       "    <tr style=\"text-align: right;\">\n",
       "      <th></th>\n",
       "      <th>Method</th>\n",
       "      <th>Test MSE</th>\n",
       "    </tr>\n",
       "  </thead>\n",
       "  <tbody>\n",
       "    <tr>\n",
       "      <th>0</th>\n",
       "      <td>Best Subset (8 features)</td>\n",
       "      <td>17.102475</td>\n",
       "    </tr>\n",
       "    <tr>\n",
       "      <th>1</th>\n",
       "      <td>Ridge Regression</td>\n",
       "      <td>16.342321</td>\n",
       "    </tr>\n",
       "    <tr>\n",
       "      <th>2</th>\n",
       "      <td>Lasso Regression</td>\n",
       "      <td>15.865000</td>\n",
       "    </tr>\n",
       "    <tr>\n",
       "      <th>3</th>\n",
       "      <td>PCR (7 comps)</td>\n",
       "      <td>15.900952</td>\n",
       "    </tr>\n",
       "  </tbody>\n",
       "</table>\n",
       "</div>"
      ],
      "text/plain": [
       "                     Method   Test MSE\n",
       "0  Best Subset (8 features)  17.102475\n",
       "1          Ridge Regression  16.342321\n",
       "2          Lasso Regression  15.865000\n",
       "3             PCR (7 comps)  15.900952"
      ]
     },
     "execution_count": 15,
     "metadata": {},
     "output_type": "execute_result"
    }
   ],
   "source": [
    "summary = pd.DataFrame({\n",
    "    'Method': [\n",
    "        'Best Subset (8 features)', \n",
    "        'Ridge Regression', \n",
    "        'Lasso Regression', \n",
    "        f'PCR ({best_n_components} comps)'\n",
    "    ],\n",
    "    'Test MSE': [\n",
    "        None,  # We'll estimate below\n",
    "        ridge_test_mse,\n",
    "        lasso_test_mse,\n",
    "        min_pcr_mse\n",
    "    ]\n",
    "})\n",
    "\n",
    "# Best subset: fit a model on best 8-feature set and get test MSE\n",
    "best_features = list(subset_results[subset_results.k == 8]['features'].values[0])\n",
    "model = LinearRegression().fit(X_train[best_features], y_train)\n",
    "y_pred_best_subset = model.predict(X_test[best_features])\n",
    "best_subset_mse = mean_squared_error(y_test, y_pred_best_subset)\n",
    "summary.loc[0, 'Test MSE'] = best_subset_mse\n",
    "\n",
    "summary\n"
   ]
  },
  {
   "cell_type": "markdown",
   "id": "c9e19428",
   "metadata": {},
   "source": [
    "## (c) Does the chosen model use all features?\n",
    "\n",
    "Let's see how many features are selected by the Lasso (since it often does automatic feature selection).\n"
   ]
  },
  {
   "cell_type": "code",
   "execution_count": 16,
   "id": "d10b1437",
   "metadata": {},
   "outputs": [
    {
     "name": "stdout",
     "output_type": "stream",
     "text": [
      "Selected features by Lasso Regression: ['zn' 'indus' 'chas' 'nox' 'rm' 'dis' 'rad' 'ptratio' 'lstat' 'medv']\n",
      "Does the Lasso model use all features? False\n"
     ]
    }
   ],
   "source": [
    "selected_features = np.array(X.columns)[lasso_cv.coef_ != 0]\n",
    "all_features_used = len(selected_features) == X.shape[1]\n",
    "\n",
    "print(\"Selected features by Lasso Regression:\", selected_features)\n",
    "print(\"Does the Lasso model use all features?\", all_features_used)\n"
   ]
  },
  {
   "cell_type": "markdown",
   "id": "f4dac127",
   "metadata": {},
   "source": [
    "## **Discussion and Conclusions**\n",
    "\n",
    "- **Best Model:** Based on test MSE, the model with the lowest error is preferred. Lasso, Ridge, and PCR all performed similarly, but Lasso uses fewer features (automatic selection).\n",
    "- **Feature Usage:** The Lasso model does **not** use all features, which can help interpretability and may reduce overfitting.\n",
    "- **Why/Why Not Use All Features:** Not all features contribute equally to prediction. Some may be redundant or irrelevant, and Lasso penalizes unhelpful features, shrinking their coefficients to zero.\n"
   ]
  }
 ],
 "metadata": {
  "kernelspec": {
   "display_name": "base",
   "language": "python",
   "name": "python3"
  },
  "language_info": {
   "codemirror_mode": {
    "name": "ipython",
    "version": 3
   },
   "file_extension": ".py",
   "mimetype": "text/x-python",
   "name": "python",
   "nbconvert_exporter": "python",
   "pygments_lexer": "ipython3",
   "version": "3.12.7"
  }
 },
 "nbformat": 4,
 "nbformat_minor": 5
}

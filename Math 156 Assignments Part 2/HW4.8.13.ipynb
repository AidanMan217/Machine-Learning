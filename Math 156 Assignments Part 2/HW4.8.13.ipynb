{
 "cells": [
  {
   "cell_type": "code",
   "execution_count": null,
   "id": "7d884090",
   "metadata": {},
   "outputs": [],
   "source": [
    "import pandas as pd\n",
    "import numpy as np\n",
    "import matplotlib.pyplot as plt\n",
    "import statsmodels.api as sm\n",
    "from sklearn.discriminant_analysis import LinearDiscriminantAnalysis, QuadraticDiscriminantAnalysis\n",
    "from sklearn.neighbors import KNeighborsClassifier\n",
    "from sklearn.naive_bayes import GaussianNB\n",
    "from sklearn.linear_model import LogisticRegression\n",
    "from sklearn.metrics import confusion_matrix, accuracy_score\n"
   ]
  },
  {
   "cell_type": "code",
   "execution_count": 3,
   "id": "352d8f0a",
   "metadata": {},
   "outputs": [
    {
     "data": {
      "application/vnd.microsoft.datawrangler.viewer.v0+json": {
       "columns": [
        {
         "name": "index",
         "rawType": "int64",
         "type": "integer"
        },
        {
         "name": "Year",
         "rawType": "int32",
         "type": "integer"
        },
        {
         "name": "Lag1",
         "rawType": "float64",
         "type": "float"
        },
        {
         "name": "Lag2",
         "rawType": "float64",
         "type": "float"
        },
        {
         "name": "Lag3",
         "rawType": "float64",
         "type": "float"
        },
        {
         "name": "Lag4",
         "rawType": "float64",
         "type": "float"
        },
        {
         "name": "Lag5",
         "rawType": "float64",
         "type": "float"
        },
        {
         "name": "Volume",
         "rawType": "float64",
         "type": "float"
        },
        {
         "name": "Today",
         "rawType": "float64",
         "type": "float"
        },
        {
         "name": "Direction",
         "rawType": "category",
         "type": "unknown"
        }
       ],
       "ref": "aa3737e1-c9be-4dad-b592-a68b8cd64cdc",
       "rows": [
        [
         "0",
         "1990",
         "0.816",
         "1.572",
         "-3.936",
         "-0.229",
         "-3.484",
         "0.154976",
         "-0.27",
         "Down"
        ],
        [
         "1",
         "1990",
         "-0.27",
         "0.816",
         "1.572",
         "-3.936",
         "-0.229",
         "0.148574",
         "-2.576",
         "Down"
        ],
        [
         "2",
         "1990",
         "-2.576",
         "-0.27",
         "0.816",
         "1.572",
         "-3.936",
         "0.1598375",
         "3.514",
         "Up"
        ],
        [
         "3",
         "1990",
         "3.514",
         "-2.576",
         "-0.27",
         "0.816",
         "1.572",
         "0.16163",
         "0.712",
         "Up"
        ],
        [
         "4",
         "1990",
         "0.712",
         "3.514",
         "-2.576",
         "-0.27",
         "0.816",
         "0.153728",
         "1.178",
         "Up"
        ]
       ],
       "shape": {
        "columns": 9,
        "rows": 5
       }
      },
      "text/html": [
       "<div>\n",
       "<style scoped>\n",
       "    .dataframe tbody tr th:only-of-type {\n",
       "        vertical-align: middle;\n",
       "    }\n",
       "\n",
       "    .dataframe tbody tr th {\n",
       "        vertical-align: top;\n",
       "    }\n",
       "\n",
       "    .dataframe thead th {\n",
       "        text-align: right;\n",
       "    }\n",
       "</style>\n",
       "<table border=\"1\" class=\"dataframe\">\n",
       "  <thead>\n",
       "    <tr style=\"text-align: right;\">\n",
       "      <th></th>\n",
       "      <th>Year</th>\n",
       "      <th>Lag1</th>\n",
       "      <th>Lag2</th>\n",
       "      <th>Lag3</th>\n",
       "      <th>Lag4</th>\n",
       "      <th>Lag5</th>\n",
       "      <th>Volume</th>\n",
       "      <th>Today</th>\n",
       "      <th>Direction</th>\n",
       "    </tr>\n",
       "  </thead>\n",
       "  <tbody>\n",
       "    <tr>\n",
       "      <th>0</th>\n",
       "      <td>1990</td>\n",
       "      <td>0.816</td>\n",
       "      <td>1.572</td>\n",
       "      <td>-3.936</td>\n",
       "      <td>-0.229</td>\n",
       "      <td>-3.484</td>\n",
       "      <td>0.154976</td>\n",
       "      <td>-0.270</td>\n",
       "      <td>Down</td>\n",
       "    </tr>\n",
       "    <tr>\n",
       "      <th>1</th>\n",
       "      <td>1990</td>\n",
       "      <td>-0.270</td>\n",
       "      <td>0.816</td>\n",
       "      <td>1.572</td>\n",
       "      <td>-3.936</td>\n",
       "      <td>-0.229</td>\n",
       "      <td>0.148574</td>\n",
       "      <td>-2.576</td>\n",
       "      <td>Down</td>\n",
       "    </tr>\n",
       "    <tr>\n",
       "      <th>2</th>\n",
       "      <td>1990</td>\n",
       "      <td>-2.576</td>\n",
       "      <td>-0.270</td>\n",
       "      <td>0.816</td>\n",
       "      <td>1.572</td>\n",
       "      <td>-3.936</td>\n",
       "      <td>0.159837</td>\n",
       "      <td>3.514</td>\n",
       "      <td>Up</td>\n",
       "    </tr>\n",
       "    <tr>\n",
       "      <th>3</th>\n",
       "      <td>1990</td>\n",
       "      <td>3.514</td>\n",
       "      <td>-2.576</td>\n",
       "      <td>-0.270</td>\n",
       "      <td>0.816</td>\n",
       "      <td>1.572</td>\n",
       "      <td>0.161630</td>\n",
       "      <td>0.712</td>\n",
       "      <td>Up</td>\n",
       "    </tr>\n",
       "    <tr>\n",
       "      <th>4</th>\n",
       "      <td>1990</td>\n",
       "      <td>0.712</td>\n",
       "      <td>3.514</td>\n",
       "      <td>-2.576</td>\n",
       "      <td>-0.270</td>\n",
       "      <td>0.816</td>\n",
       "      <td>0.153728</td>\n",
       "      <td>1.178</td>\n",
       "      <td>Up</td>\n",
       "    </tr>\n",
       "  </tbody>\n",
       "</table>\n",
       "</div>"
      ],
      "text/plain": [
       "   Year   Lag1   Lag2   Lag3   Lag4   Lag5    Volume  Today Direction\n",
       "0  1990  0.816  1.572 -3.936 -0.229 -3.484  0.154976 -0.270      Down\n",
       "1  1990 -0.270  0.816  1.572 -3.936 -0.229  0.148574 -2.576      Down\n",
       "2  1990 -2.576 -0.270  0.816  1.572 -3.936  0.159837  3.514        Up\n",
       "3  1990  3.514 -2.576 -0.270  0.816  1.572  0.161630  0.712        Up\n",
       "4  1990  0.712  3.514 -2.576 -0.270  0.816  0.153728  1.178        Up"
      ]
     },
     "execution_count": 3,
     "metadata": {},
     "output_type": "execute_result"
    }
   ],
   "source": [
    "# Load data\n",
    "data = pd.read_csv('Weekly.csv')\n",
    "data['Direction'] = data['Direction'].astype('category')\n",
    "data['Year'] = data['Year'].astype(int)\n",
    "\n",
    "data.head()"
   ]
  },
  {
   "cell_type": "markdown",
   "id": "ec202f62",
   "metadata": {},
   "source": [
    "Numerical and Graphical Summaries (Part a)"
   ]
  },
  {
   "cell_type": "code",
   "execution_count": 4,
   "id": "95cb9762",
   "metadata": {},
   "outputs": [
    {
     "data": {
      "application/vnd.microsoft.datawrangler.viewer.v0+json": {
       "columns": [
        {
         "name": "index",
         "rawType": "object",
         "type": "string"
        },
        {
         "name": "Year",
         "rawType": "float64",
         "type": "float"
        },
        {
         "name": "Lag1",
         "rawType": "float64",
         "type": "float"
        },
        {
         "name": "Lag2",
         "rawType": "float64",
         "type": "float"
        },
        {
         "name": "Lag3",
         "rawType": "float64",
         "type": "float"
        },
        {
         "name": "Lag4",
         "rawType": "float64",
         "type": "float"
        },
        {
         "name": "Lag5",
         "rawType": "float64",
         "type": "float"
        },
        {
         "name": "Volume",
         "rawType": "float64",
         "type": "float"
        },
        {
         "name": "Today",
         "rawType": "float64",
         "type": "float"
        }
       ],
       "ref": "dbe47276-b085-4f14-90c0-537c8eb69259",
       "rows": [
        [
         "count",
         "1089.0",
         "1089.0",
         "1089.0",
         "1089.0",
         "1089.0",
         "1089.0",
         "1089.0",
         "1089.0"
        ],
        [
         "mean",
         "2000.048668503214",
         "0.15058494031221303",
         "0.151078971533517",
         "0.1472047750229568",
         "0.1458181818181818",
         "0.13989256198347108",
         "1.574617625528007",
         "0.14989898989898992"
        ],
        [
         "std",
         "6.033181881189736",
         "2.3570125221926577",
         "2.357254226866779",
         "2.3605019825628317",
         "2.360278850051408",
         "2.3612846754276995",
         "1.6866364120354624",
         "2.356927387980812"
        ],
        [
         "min",
         "1990.0",
         "-18.195",
         "-18.195",
         "-18.195",
         "-18.195",
         "-18.195",
         "0.087465",
         "-18.195"
        ],
        [
         "25%",
         "1995.0",
         "-1.154",
         "-1.154",
         "-1.158",
         "-1.158",
         "-1.166",
         "0.332022",
         "-1.154"
        ],
        [
         "50%",
         "2000.0",
         "0.241",
         "0.241",
         "0.241",
         "0.238",
         "0.234",
         "1.00268",
         "0.241"
        ],
        [
         "75%",
         "2005.0",
         "1.405",
         "1.409",
         "1.409",
         "1.409",
         "1.405",
         "2.0537275",
         "1.405"
        ],
        [
         "max",
         "2010.0",
         "12.026",
         "12.026",
         "12.026",
         "12.026",
         "12.026",
         "9.328214",
         "12.026"
        ]
       ],
       "shape": {
        "columns": 8,
        "rows": 8
       }
      },
      "text/html": [
       "<div>\n",
       "<style scoped>\n",
       "    .dataframe tbody tr th:only-of-type {\n",
       "        vertical-align: middle;\n",
       "    }\n",
       "\n",
       "    .dataframe tbody tr th {\n",
       "        vertical-align: top;\n",
       "    }\n",
       "\n",
       "    .dataframe thead th {\n",
       "        text-align: right;\n",
       "    }\n",
       "</style>\n",
       "<table border=\"1\" class=\"dataframe\">\n",
       "  <thead>\n",
       "    <tr style=\"text-align: right;\">\n",
       "      <th></th>\n",
       "      <th>Year</th>\n",
       "      <th>Lag1</th>\n",
       "      <th>Lag2</th>\n",
       "      <th>Lag3</th>\n",
       "      <th>Lag4</th>\n",
       "      <th>Lag5</th>\n",
       "      <th>Volume</th>\n",
       "      <th>Today</th>\n",
       "    </tr>\n",
       "  </thead>\n",
       "  <tbody>\n",
       "    <tr>\n",
       "      <th>count</th>\n",
       "      <td>1089.000000</td>\n",
       "      <td>1089.000000</td>\n",
       "      <td>1089.000000</td>\n",
       "      <td>1089.000000</td>\n",
       "      <td>1089.000000</td>\n",
       "      <td>1089.000000</td>\n",
       "      <td>1089.000000</td>\n",
       "      <td>1089.000000</td>\n",
       "    </tr>\n",
       "    <tr>\n",
       "      <th>mean</th>\n",
       "      <td>2000.048669</td>\n",
       "      <td>0.150585</td>\n",
       "      <td>0.151079</td>\n",
       "      <td>0.147205</td>\n",
       "      <td>0.145818</td>\n",
       "      <td>0.139893</td>\n",
       "      <td>1.574618</td>\n",
       "      <td>0.149899</td>\n",
       "    </tr>\n",
       "    <tr>\n",
       "      <th>std</th>\n",
       "      <td>6.033182</td>\n",
       "      <td>2.357013</td>\n",
       "      <td>2.357254</td>\n",
       "      <td>2.360502</td>\n",
       "      <td>2.360279</td>\n",
       "      <td>2.361285</td>\n",
       "      <td>1.686636</td>\n",
       "      <td>2.356927</td>\n",
       "    </tr>\n",
       "    <tr>\n",
       "      <th>min</th>\n",
       "      <td>1990.000000</td>\n",
       "      <td>-18.195000</td>\n",
       "      <td>-18.195000</td>\n",
       "      <td>-18.195000</td>\n",
       "      <td>-18.195000</td>\n",
       "      <td>-18.195000</td>\n",
       "      <td>0.087465</td>\n",
       "      <td>-18.195000</td>\n",
       "    </tr>\n",
       "    <tr>\n",
       "      <th>25%</th>\n",
       "      <td>1995.000000</td>\n",
       "      <td>-1.154000</td>\n",
       "      <td>-1.154000</td>\n",
       "      <td>-1.158000</td>\n",
       "      <td>-1.158000</td>\n",
       "      <td>-1.166000</td>\n",
       "      <td>0.332022</td>\n",
       "      <td>-1.154000</td>\n",
       "    </tr>\n",
       "    <tr>\n",
       "      <th>50%</th>\n",
       "      <td>2000.000000</td>\n",
       "      <td>0.241000</td>\n",
       "      <td>0.241000</td>\n",
       "      <td>0.241000</td>\n",
       "      <td>0.238000</td>\n",
       "      <td>0.234000</td>\n",
       "      <td>1.002680</td>\n",
       "      <td>0.241000</td>\n",
       "    </tr>\n",
       "    <tr>\n",
       "      <th>75%</th>\n",
       "      <td>2005.000000</td>\n",
       "      <td>1.405000</td>\n",
       "      <td>1.409000</td>\n",
       "      <td>1.409000</td>\n",
       "      <td>1.409000</td>\n",
       "      <td>1.405000</td>\n",
       "      <td>2.053727</td>\n",
       "      <td>1.405000</td>\n",
       "    </tr>\n",
       "    <tr>\n",
       "      <th>max</th>\n",
       "      <td>2010.000000</td>\n",
       "      <td>12.026000</td>\n",
       "      <td>12.026000</td>\n",
       "      <td>12.026000</td>\n",
       "      <td>12.026000</td>\n",
       "      <td>12.026000</td>\n",
       "      <td>9.328214</td>\n",
       "      <td>12.026000</td>\n",
       "    </tr>\n",
       "  </tbody>\n",
       "</table>\n",
       "</div>"
      ],
      "text/plain": [
       "              Year         Lag1         Lag2         Lag3         Lag4  \\\n",
       "count  1089.000000  1089.000000  1089.000000  1089.000000  1089.000000   \n",
       "mean   2000.048669     0.150585     0.151079     0.147205     0.145818   \n",
       "std       6.033182     2.357013     2.357254     2.360502     2.360279   \n",
       "min    1990.000000   -18.195000   -18.195000   -18.195000   -18.195000   \n",
       "25%    1995.000000    -1.154000    -1.154000    -1.158000    -1.158000   \n",
       "50%    2000.000000     0.241000     0.241000     0.241000     0.238000   \n",
       "75%    2005.000000     1.405000     1.409000     1.409000     1.409000   \n",
       "max    2010.000000    12.026000    12.026000    12.026000    12.026000   \n",
       "\n",
       "              Lag5       Volume        Today  \n",
       "count  1089.000000  1089.000000  1089.000000  \n",
       "mean      0.139893     1.574618     0.149899  \n",
       "std       2.361285     1.686636     2.356927  \n",
       "min     -18.195000     0.087465   -18.195000  \n",
       "25%      -1.166000     0.332022    -1.154000  \n",
       "50%       0.234000     1.002680     0.241000  \n",
       "75%       1.405000     2.053727     1.405000  \n",
       "max      12.026000     9.328214    12.026000  "
      ]
     },
     "execution_count": 4,
     "metadata": {},
     "output_type": "execute_result"
    }
   ],
   "source": [
    "# Numerical summary\n",
    "descr = data.describe()\n",
    "descr"
   ]
  },
  {
   "cell_type": "code",
   "execution_count": 5,
   "id": "e8174402",
   "metadata": {},
   "outputs": [
    {
     "data": {
      "image/png": "[encoded data removed]",
      "text/plain": [
       "<Figure size 1200x800 with 6 Axes>"
      ]
     },
     "metadata": {},
     "output_type": "display_data"
    }
   ],
   "source": [
    "# Histograms of Lag variables and Volume\n",
    "fig, axes = plt.subplots(2, 3, figsize=(12, 8))\n",
    "for ax, col in zip(axes.flatten(), ['Lag1', 'Lag2', 'Lag3', 'Lag4', 'Lag5', 'Volume']):\n",
    "    ax.hist(data[col], bins=20)\n",
    "    ax.set_title(col)\n",
    "plt.tight_layout()\n",
    "plt.show()"
   ]
  },
  {
   "cell_type": "code",
   "execution_count": 6,
   "id": "61f5d1b3",
   "metadata": {},
   "outputs": [
    {
     "data": {
      "image/png": "[encoded data removed]",
      "text/plain": [
       "<Figure size 600x400 with 1 Axes>"
      ]
     },
     "metadata": {},
     "output_type": "display_data"
    }
   ],
   "source": [
    "# Boxplot of Volume by Direction\n",
    "data.boxplot(column='Volume', by='Direction', figsize=(6, 4))\n",
    "plt.suptitle('')\n",
    "plt.title('Volume by Market Direction')\n",
    "plt.show()"
   ]
  },
  {
   "cell_type": "markdown",
   "id": "e101e084",
   "metadata": {},
   "source": [
    "**Observations:**\n",
    "- The lag variables have roughly symmetric distributions centered near zero.\n",
    "- Volume shows a clear upward trend over time (we will explore below).\n",
    "- No extreme skewness in the predictors"
   ]
  },
  {
   "cell_type": "code",
   "execution_count": 7,
   "id": "6749f1e5",
   "metadata": {},
   "outputs": [
    {
     "data": {
      "image/png": "[encoded data removed]",
      "text/plain": [
       "<Figure size 800x400 with 1 Axes>"
      ]
     },
     "metadata": {},
     "output_type": "display_data"
    }
   ],
   "source": [
    "# Time series plot of Volume over years\n",
    "plt.figure(figsize=(8, 4))\n",
    "plt.plot(data['Year'], data['Volume'], marker='o', linestyle='-', alpha=0.5)\n",
    "plt.title('Weekly Volume Over Time')\n",
    "plt.xlabel('Year')\n",
    "plt.ylabel('Volume')\n",
    "plt.show()"
   ]
  },
  {
   "cell_type": "markdown",
   "id": "de149465",
   "metadata": {},
   "source": [
    "Volume has increased steadily over the 21-year period, reflecting growth in trading activity."
   ]
  },
  {
   "cell_type": "markdown",
   "id": "297a4c55",
   "metadata": {},
   "source": [
    "3. Logistic Regression on Full Data (Part b)\n",
    "We fit a logistic regression using `Lag1`–`Lag5` and `Volume` to predict `Direction`.  We'll use `statsmodels.Logit` to obtain p-values."
   ]
  },
  {
   "cell_type": "code",
   "execution_count": 8,
   "id": "63085600",
   "metadata": {},
   "outputs": [
    {
     "name": "stdout",
     "output_type": "stream",
     "text": [
      "                           Logit Regression Results                           \n",
      "==============================================================================\n",
      "Dep. Variable:              Direction   No. Observations:                 1089\n",
      "Model:                          Logit   Df Residuals:                     1082\n",
      "Method:                           MLE   Df Model:                            6\n",
      "Date:                Thu, 03 Jul 2025   Pseudo R-squ.:                0.006580\n",
      "Time:                        23:23:38   Log-Likelihood:                -743.18\n",
      "converged:                       True   LL-Null:                       -748.10\n",
      "Covariance Type:            nonrobust   LLR p-value:                    0.1313\n",
      "==============================================================================\n",
      "                 coef    std err          z      P>|z|      [0.025      0.975]\n",
      "------------------------------------------------------------------------------\n",
      "const          0.2669      0.086      3.106      0.002       0.098       0.435\n",
      "Lag1          -0.0413      0.026     -1.563      0.118      -0.093       0.010\n",
      "Lag2           0.0584      0.027      2.175      0.030       0.006       0.111\n",
      "Lag3          -0.0161      0.027     -0.602      0.547      -0.068       0.036\n",
      "Lag4          -0.0278      0.026     -1.050      0.294      -0.080       0.024\n",
      "Lag5          -0.0145      0.026     -0.549      0.583      -0.066       0.037\n",
      "Volume        -0.0227      0.037     -0.616      0.538      -0.095       0.050\n",
      "==============================================================================\n"
     ]
    }
   ],
   "source": [
    "# Prepare design matrix\n",
    "y = (data['Direction'] == 'Up').astype(int)\n",
    "X = data[['Lag1','Lag2','Lag3','Lag4','Lag5','Volume']]\n",
    "X = sm.add_constant(X)\n",
    "\n",
    "model_full = sm.Logit(y, X).fit(disp=False)\n",
    "print(model_full.summary())\n"
   ]
  },
  {
   "cell_type": "markdown",
   "id": "67e01a60",
   "metadata": {},
   "source": [
    "**Significant Predictors:**  Check the p-values above to see which lag variables (if any) are statistically significant."
   ]
  },
  {
   "cell_type": "markdown",
   "id": "4938a33b",
   "metadata": {},
   "source": [
    "## 4. Confusion Matrix & Accuracy (Part c)\n",
    "\n",
    "Using the fitted model, we classify each week as Up if the predicted probability exceeds 0.5.\n"
   ]
  },
  {
   "cell_type": "code",
   "execution_count": 9,
   "id": "64c390cc",
   "metadata": {},
   "outputs": [
    {
     "name": "stdout",
     "output_type": "stream",
     "text": [
      "Confusion Matrix:\n",
      " [[ 54 430]\n",
      " [ 48 557]]\n",
      "Overall Accuracy: 0.561\n"
     ]
    }
   ],
   "source": [
    "probs = model_full.predict(X)\n",
    "preds = np.where(probs > 0.5, 1, 0)\n",
    "cm = confusion_matrix(y, preds)\n",
    "acc = accuracy_score(y, preds)\n",
    "print(\"Confusion Matrix:\\n\", cm)\n",
    "print(f\"Overall Accuracy: {acc:.3f}\")"
   ]
  },
  {
   "cell_type": "markdown",
   "id": "497ecaf1",
   "metadata": {},
   "source": [
    "*Interpretation:*  The confusion matrix shows true vs.\n",
    "- False negatives (predict Down when Up)\n",
    "- False positives (predict Up when Down)\n",
    "\n",
    "---"
   ]
  },
  {
   "cell_type": "markdown",
   "id": "f4b6f1ed",
   "metadata": {},
   "source": [
    "## 5. Train/Test Split: 1990–2008 vs. 2009–2010\n",
    "\n",
    "We split the dataset by year."
   ]
  },
  {
   "cell_type": "code",
   "execution_count": 10,
   "id": "58bc7476",
   "metadata": {},
   "outputs": [],
   "source": [
    "train = data[data['Year'] <= 2008]\n",
    "test = data[data['Year'] > 2008]\n",
    "y_train = (train['Direction']=='Up').astype(int)\n",
    "y_test = (test['Direction']=='Up').astype(int)\n",
    "\n",
    "# Predictor for parts d–h: Lag2 only\n",
    "X_train_lag2 = sm.add_constant(train[['Lag2']])\n",
    "X_test_lag2 = sm.add_constant(test[['Lag2']])\n",
    "\n",
    "# Helper to evaluate and print results\n",
    "def evaluate_model(name, model, X_t, X_v, y_t, y_v):\n",
    "    model.fit(X_t, y_t)\n",
    "    preds = model.predict(X_v)\n",
    "    # For classifiers returning probabilities:\n",
    "    if hasattr(preds, 'dtype') and preds.dtype == float:\n",
    "        preds = np.where(preds > 0.5, 1, 0)\n",
    "    cm = confusion_matrix(y_v, preds)\n",
    "    acc = accuracy_score(y_v, preds)\n",
    "    print(f\"{name}:\\nConfusion Matrix:\\n{cm}\\nAccuracy: {acc:.3f}\\n\")\n"
   ]
  },
  {
   "cell_type": "markdown",
   "id": "612fb9d7",
   "metadata": {},
   "source": [
    "### (d) Logistic Regression with Lag2\n"
   ]
  },
  {
   "cell_type": "code",
   "execution_count": 11,
   "id": "761178bb",
   "metadata": {},
   "outputs": [
    {
     "name": "stdout",
     "output_type": "stream",
     "text": [
      "Logistic (Lag2):\n",
      "Confusion Matrix:\n",
      "[[ 9 34]\n",
      " [ 5 56]]\n",
      "Accuracy: 0.625\n",
      "\n"
     ]
    }
   ],
   "source": [
    "logit_lag2 = LogisticRegression(solver='liblinear')\n",
    "evaluate_model('Logistic (Lag2)', logit_lag2, train[['Lag2']], test[['Lag2']], y_train, y_test)\n"
   ]
  },
  {
   "cell_type": "markdown",
   "id": "bff167a8",
   "metadata": {},
   "source": [
    "### (e) Linear Discriminant Analysis (Lag2)"
   ]
  },
  {
   "cell_type": "markdown",
   "id": "6b586a63",
   "metadata": {},
   "source": [
    "lda = LinearDiscriminantAnalysis()\n",
    "evaluate_model('LDA (Lag2)', lda, train[['Lag2']], test[['Lag2']], y_train, y_test)\n"
   ]
  },
  {
   "cell_type": "markdown",
   "id": "c86e624d",
   "metadata": {},
   "source": [
    "### (f) Quadratic Discriminant Analysis (Lag2)"
   ]
  },
  {
   "cell_type": "code",
   "execution_count": 12,
   "id": "c07e85bb",
   "metadata": {},
   "outputs": [
    {
     "name": "stdout",
     "output_type": "stream",
     "text": [
      "QDA (Lag2):\n",
      "Confusion Matrix:\n",
      "[[ 0 43]\n",
      " [ 0 61]]\n",
      "Accuracy: 0.587\n",
      "\n"
     ]
    }
   ],
   "source": [
    "qda = QuadraticDiscriminantAnalysis()\n",
    "evaluate_model('QDA (Lag2)', qda, train[['Lag2']], test[['Lag2']], y_train, y_test)"
   ]
  },
  {
   "cell_type": "markdown",
   "id": "e9ed9081",
   "metadata": {},
   "source": [
    "### (g) K-Nearest Neighbors ($K=1$, Lag2)"
   ]
  },
  {
   "cell_type": "code",
   "execution_count": 13,
   "id": "df984f40",
   "metadata": {},
   "outputs": [
    {
     "name": "stdout",
     "output_type": "stream",
     "text": [
      "KNN (K=1, Lag2):\n",
      "Confusion Matrix:\n",
      "[[22 21]\n",
      " [30 31]]\n",
      "Accuracy: 0.510\n",
      "\n"
     ]
    }
   ],
   "source": [
    "knn1 = KNeighborsClassifier(n_neighbors=1)\n",
    "evaluate_model('KNN (K=1, Lag2)', knn1, train[['Lag2']], test[['Lag2']], y_train, y_test)"
   ]
  },
  {
   "cell_type": "markdown",
   "id": "9c535952",
   "metadata": {},
   "source": [
    "### (h) Naive Bayes (Lag2)"
   ]
  },
  {
   "cell_type": "code",
   "execution_count": 14,
   "id": "7b05069b",
   "metadata": {},
   "outputs": [
    {
     "name": "stdout",
     "output_type": "stream",
     "text": [
      "Naive Bayes (Lag2):\n",
      "Confusion Matrix:\n",
      "[[ 0 43]\n",
      " [ 0 61]]\n",
      "Accuracy: 0.587\n",
      "\n"
     ]
    }
   ],
   "source": [
    "bayes = GaussianNB()\n",
    "evaluate_model('Naive Bayes (Lag2)', bayes, train[['Lag2']], test[['Lag2']], y_train, y_test)\n"
   ]
  },
  {
   "cell_type": "markdown",
   "id": "cae96abf",
   "metadata": {},
   "source": [
    "## 6. Method Comparison (Part i)\n",
    "Summarize accuracy for each method on the held-out set.\n"
   ]
  },
  {
   "cell_type": "code",
   "execution_count": 15,
   "id": "6631e1fa",
   "metadata": {},
   "outputs": [
    {
     "data": {
      "application/vnd.microsoft.datawrangler.viewer.v0+json": {
       "columns": [
        {
         "name": "index",
         "rawType": "object",
         "type": "string"
        },
        {
         "name": "Accuracy",
         "rawType": "float64",
         "type": "float"
        }
       ],
       "ref": "edc79271-c98c-47d7-9c0d-665aa3b5b827",
       "rows": [
        [
         "Logistic (Lag2)",
         "0.625"
        ],
        [
         "LDA",
         "0.625"
        ],
        [
         "QDA",
         "0.5865384615384616"
        ],
        [
         "KNN (K=1)",
         "0.5096153846153846"
        ],
        [
         "Naive Bayes",
         "0.5865384615384616"
        ]
       ],
       "shape": {
        "columns": 1,
        "rows": 5
       }
      },
      "text/html": [
       "<div>\n",
       "<style scoped>\n",
       "    .dataframe tbody tr th:only-of-type {\n",
       "        vertical-align: middle;\n",
       "    }\n",
       "\n",
       "    .dataframe tbody tr th {\n",
       "        vertical-align: top;\n",
       "    }\n",
       "\n",
       "    .dataframe thead th {\n",
       "        text-align: right;\n",
       "    }\n",
       "</style>\n",
       "<table border=\"1\" class=\"dataframe\">\n",
       "  <thead>\n",
       "    <tr style=\"text-align: right;\">\n",
       "      <th></th>\n",
       "      <th>Accuracy</th>\n",
       "    </tr>\n",
       "  </thead>\n",
       "  <tbody>\n",
       "    <tr>\n",
       "      <th>Logistic (Lag2)</th>\n",
       "      <td>0.625000</td>\n",
       "    </tr>\n",
       "    <tr>\n",
       "      <th>LDA</th>\n",
       "      <td>0.625000</td>\n",
       "    </tr>\n",
       "    <tr>\n",
       "      <th>QDA</th>\n",
       "      <td>0.586538</td>\n",
       "    </tr>\n",
       "    <tr>\n",
       "      <th>KNN (K=1)</th>\n",
       "      <td>0.509615</td>\n",
       "    </tr>\n",
       "    <tr>\n",
       "      <th>Naive Bayes</th>\n",
       "      <td>0.586538</td>\n",
       "    </tr>\n",
       "  </tbody>\n",
       "</table>\n",
       "</div>"
      ],
      "text/plain": [
       "                 Accuracy\n",
       "Logistic (Lag2)  0.625000\n",
       "LDA              0.625000\n",
       "QDA              0.586538\n",
       "KNN (K=1)        0.509615\n",
       "Naive Bayes      0.586538"
      ]
     },
     "execution_count": 15,
     "metadata": {},
     "output_type": "execute_result"
    }
   ],
   "source": [
    "# Collect results\n",
    "def get_accuracy(model, X_t, X_v, y_t, y_v):\n",
    "    model.fit(X_t, y_t)\n",
    "    preds = model.predict(X_v)\n",
    "    if preds.dtype == float:\n",
    "        preds = np.where(preds>0.5,1,0)\n",
    "    return accuracy_score(y_v, preds)\n",
    "\n",
    "results = {\n",
    "    'Logistic (Lag2)': get_accuracy(LogisticRegression(solver='liblinear'), train[['Lag2']], test[['Lag2']], y_train, y_test),\n",
    "    'LDA':           get_accuracy(LinearDiscriminantAnalysis(), train[['Lag2']], test[['Lag2']], y_train, y_test),\n",
    "    'QDA':           get_accuracy(QuadraticDiscriminantAnalysis(), train[['Lag2']], test[['Lag2']], y_train, y_test),\n",
    "    'KNN (K=1)':     get_accuracy(KNeighborsClassifier(n_neighbors=1), train[['Lag2']], test[['Lag2']], y_train, y_test),\n",
    "    'Naive Bayes':   get_accuracy(GaussianNB(), train[['Lag2']], test[['Lag2']], y_train, y_test)\n",
    "}\n",
    "\n",
    "pd.DataFrame.from_dict(results, orient='index', columns=['Accuracy'])\n"
   ]
  },
  {
   "cell_type": "markdown",
   "id": "9a780694",
   "metadata": {},
   "source": [
    "The method with the highest accuracy on the test set appears to be the best performer."
   ]
  },
  {
   "cell_type": "markdown",
   "id": "92a0d2fd",
   "metadata": {},
   "source": [
    "## 7. Additional Experiments (Part j)\n",
    "\n",
    "We can try different combinations of predictors and vary $K$ in K"
   ]
  },
  {
   "cell_type": "code",
   "execution_count": 16,
   "id": "502f67aa",
   "metadata": {},
   "outputs": [
    {
     "data": {
      "application/vnd.microsoft.datawrangler.viewer.v0+json": {
       "columns": [
        {
         "name": "K",
         "rawType": "int64",
         "type": "integer"
        },
        {
         "name": "Accuracy",
         "rawType": "float64",
         "type": "float"
        }
       ],
       "ref": "92da48b8-12a9-4ff3-ac17-fbf8f0ff5a20",
       "rows": [
        [
         "1",
         "0.5"
        ],
        [
         "2",
         "0.46153846153846156"
        ],
        [
         "3",
         "0.4807692307692308"
        ],
        [
         "4",
         "0.4807692307692308"
        ],
        [
         "5",
         "0.5576923076923077"
        ],
        [
         "6",
         "0.5192307692307693"
        ],
        [
         "7",
         "0.5480769230769231"
        ],
        [
         "8",
         "0.49038461538461536"
        ],
        [
         "9",
         "0.5769230769230769"
        ],
        [
         "10",
         "0.4807692307692308"
        ]
       ],
       "shape": {
        "columns": 1,
        "rows": 10
       }
      },
      "text/html": [
       "<div>\n",
       "<style scoped>\n",
       "    .dataframe tbody tr th:only-of-type {\n",
       "        vertical-align: middle;\n",
       "    }\n",
       "\n",
       "    .dataframe tbody tr th {\n",
       "        vertical-align: top;\n",
       "    }\n",
       "\n",
       "    .dataframe thead th {\n",
       "        text-align: right;\n",
       "    }\n",
       "</style>\n",
       "<table border=\"1\" class=\"dataframe\">\n",
       "  <thead>\n",
       "    <tr style=\"text-align: right;\">\n",
       "      <th></th>\n",
       "      <th>Accuracy</th>\n",
       "    </tr>\n",
       "    <tr>\n",
       "      <th>K</th>\n",
       "      <th></th>\n",
       "    </tr>\n",
       "  </thead>\n",
       "  <tbody>\n",
       "    <tr>\n",
       "      <th>1</th>\n",
       "      <td>0.500000</td>\n",
       "    </tr>\n",
       "    <tr>\n",
       "      <th>2</th>\n",
       "      <td>0.461538</td>\n",
       "    </tr>\n",
       "    <tr>\n",
       "      <th>3</th>\n",
       "      <td>0.480769</td>\n",
       "    </tr>\n",
       "    <tr>\n",
       "      <th>4</th>\n",
       "      <td>0.480769</td>\n",
       "    </tr>\n",
       "    <tr>\n",
       "      <th>5</th>\n",
       "      <td>0.557692</td>\n",
       "    </tr>\n",
       "    <tr>\n",
       "      <th>6</th>\n",
       "      <td>0.519231</td>\n",
       "    </tr>\n",
       "    <tr>\n",
       "      <th>7</th>\n",
       "      <td>0.548077</td>\n",
       "    </tr>\n",
       "    <tr>\n",
       "      <th>8</th>\n",
       "      <td>0.490385</td>\n",
       "    </tr>\n",
       "    <tr>\n",
       "      <th>9</th>\n",
       "      <td>0.576923</td>\n",
       "    </tr>\n",
       "    <tr>\n",
       "      <th>10</th>\n",
       "      <td>0.480769</td>\n",
       "    </tr>\n",
       "  </tbody>\n",
       "</table>\n",
       "</div>"
      ],
      "text/plain": [
       "    Accuracy\n",
       "K           \n",
       "1   0.500000\n",
       "2   0.461538\n",
       "3   0.480769\n",
       "4   0.480769\n",
       "5   0.557692\n",
       "6   0.519231\n",
       "7   0.548077\n",
       "8   0.490385\n",
       "9   0.576923\n",
       "10  0.480769"
      ]
     },
     "execution_count": 16,
     "metadata": {},
     "output_type": "execute_result"
    }
   ],
   "source": [
    "# Example: KNN with Lag1, Lag2, Volume and K from 1 to 10\n",
    "scores = []\n",
    "features = ['Lag1','Lag2','Volume']\n",
    "for k in range(1, 11):\n",
    "    knn = KNeighborsClassifier(n_neighbors=k)\n",
    "    knn.fit(train[features], y_train)\n",
    "    acc_k = accuracy_score(y_test, knn.predict(test[features]))\n",
    "    scores.append((k, acc_k))\n",
    "\n",
    "knn_results = pd.DataFrame(scores, columns=['K','Accuracy']).set_index('K')\n",
    "knn_results\n"
   ]
  },
  {
   "cell_type": "markdown",
   "id": "4ba4acac",
   "metadata": {},
   "source": [
    "From the table above, choose the value of $K$ that maximizes accuracy.\n",
    "\n",
    "**Feel free to explore**: interactions between lag terms (e.g.\n",
    "`train['Lag1*Lag2'] = train['Lag1'] * train['Lag2']`), polynomial terms, or adding more lags."
   ]
  }
 ],
 "metadata": {
  "kernelspec": {
   "display_name": "base",
   "language": "python",
   "name": "python3"
  },
  "language_info": {
   "codemirror_mode": {
    "name": "ipython",
    "version": 3
   },
   "file_extension": ".py",
   "mimetype": "text/x-python",
   "name": "python",
   "nbconvert_exporter": "python",
   "pygments_lexer": "ipython3",
   "version": "3.12.7"
  }
 },
 "nbformat": 4,
 "nbformat_minor": 5
}

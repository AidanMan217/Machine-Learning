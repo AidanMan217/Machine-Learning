{
 "cells": [
  {
   "cell_type": "code",
   "execution_count": 2,
   "id": "27b08a75",
   "metadata": {},
   "outputs": [
    {
     "data": {
      "application/vnd.microsoft.datawrangler.viewer.v0+json": {
       "columns": [
        {
         "name": "index",
         "rawType": "int64",
         "type": "integer"
        },
        {
         "name": "default",
         "rawType": "object",
         "type": "string"
        },
        {
         "name": "student",
         "rawType": "object",
         "type": "string"
        },
        {
         "name": "balance",
         "rawType": "float64",
         "type": "float"
        },
        {
         "name": "income",
         "rawType": "float64",
         "type": "float"
        }
       ],
       "ref": "e733a3fa-60c0-4571-b4e1-a6f4a23f2f06",
       "rows": [
        [
         "0",
         "No",
         "No",
         "729.5264952072861",
         "44361.62507426691"
        ],
        [
         "1",
         "No",
         "Yes",
         "817.180406555498",
         "12106.1347003149"
        ],
        [
         "2",
         "No",
         "No",
         "1073.54916401173",
         "31767.1389473999"
        ],
        [
         "3",
         "No",
         "No",
         "529.250604745278",
         "35704.4939350781"
        ],
        [
         "4",
         "No",
         "No",
         "785.655882930501",
         "38463.4958787229"
        ]
       ],
       "shape": {
        "columns": 4,
        "rows": 5
       }
      },
      "text/html": [
       "<div>\n",
       "<style scoped>\n",
       "    .dataframe tbody tr th:only-of-type {\n",
       "        vertical-align: middle;\n",
       "    }\n",
       "\n",
       "    .dataframe tbody tr th {\n",
       "        vertical-align: top;\n",
       "    }\n",
       "\n",
       "    .dataframe thead th {\n",
       "        text-align: right;\n",
       "    }\n",
       "</style>\n",
       "<table border=\"1\" class=\"dataframe\">\n",
       "  <thead>\n",
       "    <tr style=\"text-align: right;\">\n",
       "      <th></th>\n",
       "      <th>default</th>\n",
       "      <th>student</th>\n",
       "      <th>balance</th>\n",
       "      <th>income</th>\n",
       "    </tr>\n",
       "  </thead>\n",
       "  <tbody>\n",
       "    <tr>\n",
       "      <th>0</th>\n",
       "      <td>No</td>\n",
       "      <td>No</td>\n",
       "      <td>729.526495</td>\n",
       "      <td>44361.625074</td>\n",
       "    </tr>\n",
       "    <tr>\n",
       "      <th>1</th>\n",
       "      <td>No</td>\n",
       "      <td>Yes</td>\n",
       "      <td>817.180407</td>\n",
       "      <td>12106.134700</td>\n",
       "    </tr>\n",
       "    <tr>\n",
       "      <th>2</th>\n",
       "      <td>No</td>\n",
       "      <td>No</td>\n",
       "      <td>1073.549164</td>\n",
       "      <td>31767.138947</td>\n",
       "    </tr>\n",
       "    <tr>\n",
       "      <th>3</th>\n",
       "      <td>No</td>\n",
       "      <td>No</td>\n",
       "      <td>529.250605</td>\n",
       "      <td>35704.493935</td>\n",
       "    </tr>\n",
       "    <tr>\n",
       "      <th>4</th>\n",
       "      <td>No</td>\n",
       "      <td>No</td>\n",
       "      <td>785.655883</td>\n",
       "      <td>38463.495879</td>\n",
       "    </tr>\n",
       "  </tbody>\n",
       "</table>\n",
       "</div>"
      ],
      "text/plain": [
       "  default student      balance        income\n",
       "0      No      No   729.526495  44361.625074\n",
       "1      No     Yes   817.180407  12106.134700\n",
       "2      No      No  1073.549164  31767.138947\n",
       "3      No      No   529.250605  35704.493935\n",
       "4      No      No   785.655883  38463.495879"
      ]
     },
     "execution_count": 2,
     "metadata": {},
     "output_type": "execute_result"
    }
   ],
   "source": [
    "import pandas as pd\n",
    "import numpy as np\n",
    "from sklearn.linear_model import LogisticRegression\n",
    "from sklearn.model_selection import train_test_split\n",
    "from sklearn.metrics import accuracy_score\n",
    "\n",
    "# For reproducibility\n",
    "np.random.seed(42)\n",
    "\n",
    "df = pd.read_csv('Default.csv')\n",
    "df.head()"
   ]
  },
  {
   "cell_type": "markdown",
   "id": "dc11cfd2",
   "metadata": {},
   "source": [
    "## (a) Fit a logistic regression model that uses `income` and `balance` to predict `default`\n"
   ]
  },
  {
   "cell_type": "code",
   "execution_count": 3,
   "id": "c21188e8",
   "metadata": {},
   "outputs": [
    {
     "data": {
      "application/vnd.microsoft.datawrangler.viewer.v0+json": {
       "columns": [
        {
         "name": "index",
         "rawType": "int64",
         "type": "integer"
        },
        {
         "name": "Feature",
         "rawType": "object",
         "type": "string"
        },
        {
         "name": "Coefficient",
         "rawType": "float64",
         "type": "float"
        }
       ],
       "ref": "98dd23e5-286a-43e5-a99a-f2cd9c3e7647",
       "rows": [
        [
         "0",
         "income",
         "2.0808974142872895e-05"
        ],
        [
         "1",
         "balance",
         "0.005647102648561353"
        ]
       ],
       "shape": {
        "columns": 2,
        "rows": 2
       }
      },
      "text/html": [
       "<div>\n",
       "<style scoped>\n",
       "    .dataframe tbody tr th:only-of-type {\n",
       "        vertical-align: middle;\n",
       "    }\n",
       "\n",
       "    .dataframe tbody tr th {\n",
       "        vertical-align: top;\n",
       "    }\n",
       "\n",
       "    .dataframe thead th {\n",
       "        text-align: right;\n",
       "    }\n",
       "</style>\n",
       "<table border=\"1\" class=\"dataframe\">\n",
       "  <thead>\n",
       "    <tr style=\"text-align: right;\">\n",
       "      <th></th>\n",
       "      <th>Feature</th>\n",
       "      <th>Coefficient</th>\n",
       "    </tr>\n",
       "  </thead>\n",
       "  <tbody>\n",
       "    <tr>\n",
       "      <th>0</th>\n",
       "      <td>income</td>\n",
       "      <td>0.000021</td>\n",
       "    </tr>\n",
       "    <tr>\n",
       "      <th>1</th>\n",
       "      <td>balance</td>\n",
       "      <td>0.005647</td>\n",
       "    </tr>\n",
       "  </tbody>\n",
       "</table>\n",
       "</div>"
      ],
      "text/plain": [
       "   Feature  Coefficient\n",
       "0   income     0.000021\n",
       "1  balance     0.005647"
      ]
     },
     "execution_count": 3,
     "metadata": {},
     "output_type": "execute_result"
    }
   ],
   "source": [
    "# Convert 'default' to a binary variable\n",
    "df['default_binary'] = df['default'].map({'Yes': 1, 'No': 0})\n",
    "\n",
    "# Features and target\n",
    "X = df[['income', 'balance']]\n",
    "y = df['default_binary']\n",
    "\n",
    "# Fit logistic regression\n",
    "logreg = LogisticRegression()\n",
    "logreg.fit(X, y)\n",
    "\n",
    "# Display coefficients\n",
    "coef_df = pd.DataFrame({'Feature': X.columns, 'Coefficient': logreg.coef_[0]})\n",
    "coef_df\n"
   ]
  },
  {
   "cell_type": "markdown",
   "id": "1a71cd83",
   "metadata": {},
   "source": [
    "## (b) Validation Set Approach"
   ]
  },
  {
   "cell_type": "code",
   "execution_count": 4,
   "id": "7eee8c59",
   "metadata": {},
   "outputs": [
    {
     "name": "stdout",
     "output_type": "stream",
     "text": [
      "Validation set error (split 1): 0.0258\n"
     ]
    }
   ],
   "source": [
    "# Split into training and validation sets (50% each)\n",
    "X_train, X_val, y_train, y_val = train_test_split(X, y, test_size=0.5, random_state=42)\n",
    "\n",
    "# Fit logistic regression on the training set\n",
    "logreg_val = LogisticRegression()\n",
    "logreg_val.fit(X_train, y_train)\n",
    "\n",
    "# Predict probabilities and classes for the validation set\n",
    "probs = logreg_val.predict_proba(X_val)[:, 1]\n",
    "y_pred = (probs > 0.5).astype(int)\n",
    "\n",
    "# Compute validation set error\n",
    "val_error = 1 - accuracy_score(y_val, y_pred)\n",
    "print(f'Validation set error (split 1): {val_error:.4f}')\n"
   ]
  },
  {
   "cell_type": "markdown",
   "id": "3f3b263d",
   "metadata": {},
   "source": [
    "## (c) Repeat the process in (b) three times with different splits"
   ]
  },
  {
   "cell_type": "code",
   "execution_count": 5,
   "id": "43e499ae",
   "metadata": {},
   "outputs": [
    {
     "name": "stdout",
     "output_type": "stream",
     "text": [
      "Validation set error (split with random_state=42): 0.0258\n",
      "Validation set error (split with random_state=24): 0.0300\n",
      "Validation set error (split with random_state=101): 0.0246\n",
      "\n",
      "Average validation set error: 0.0268\n"
     ]
    }
   ],
   "source": [
    "val_errors = []\n",
    "for random_state in [42, 24, 101]:\n",
    "    X_train, X_val, y_train, y_val = train_test_split(X, y, test_size=0.5, random_state=random_state)\n",
    "    logreg_val = LogisticRegression()\n",
    "    logreg_val.fit(X_train, y_train)\n",
    "    probs = logreg_val.predict_proba(X_val)[:, 1]\n",
    "    y_pred = (probs > 0.5).astype(int)\n",
    "    error = 1 - accuracy_score(y_val, y_pred)\n",
    "    val_errors.append(error)\n",
    "    print(f'Validation set error (split with random_state={random_state}): {error:.4f}')\n",
    "\n",
    "print(f\"\\nAverage validation set error: {np.mean(val_errors):.4f}\")\n"
   ]
  },
  {
   "cell_type": "markdown",
   "id": "77d95122",
   "metadata": {},
   "source": [
    "### Comment on the results\n",
    "\n",
    "Notice the validation set error varies slightly with each split. This is expected due to randomness in the split. The errors are similar in magnitude, suggesting the model's test error is stable.\n"
   ]
  },
  {
   "cell_type": "markdown",
   "id": "1f6a49e8",
   "metadata": {},
   "source": [
    "## (d) Add `student` as a dummy variable\n",
    "\n",
    "We'll now include `student` in the model as an additional predictor."
   ]
  },
  {
   "cell_type": "code",
   "execution_count": 6,
   "id": "a9407237",
   "metadata": {},
   "outputs": [
    {
     "name": "stdout",
     "output_type": "stream",
     "text": [
      "Validation set error with student (split 42): 0.0256\n",
      "Validation set error with student (split 24): 0.0304\n",
      "Validation set error with student (split 101): 0.0246\n",
      "\n",
      "Average validation set error (with student): 0.0269\n"
     ]
    }
   ],
   "source": [
    "# Add 'student' dummy variable\n",
    "df['student_dummy'] = df['student'].map({'Yes': 1, 'No': 0})\n",
    "\n",
    "# Features: income, balance, student\n",
    "X2 = df[['income', 'balance', 'student_dummy']]\n",
    "\n",
    "val_errors2 = []\n",
    "for random_state in [42, 24, 101]:\n",
    "    X_train, X_val, y_train, y_val = train_test_split(X2, y, test_size=0.5, random_state=random_state)\n",
    "    logreg_val = LogisticRegression()\n",
    "    logreg_val.fit(X_train, y_train)\n",
    "    probs = logreg_val.predict_proba(X_val)[:, 1]\n",
    "    y_pred = (probs > 0.5).astype(int)\n",
    "    error = 1 - accuracy_score(y_val, y_pred)\n",
    "    val_errors2.append(error)\n",
    "    print(f'Validation set error with student (split {random_state}): {error:.4f}')\n",
    "\n",
    "print(f\"\\nAverage validation set error (with student): {np.mean(val_errors2):.4f}\")\n"
   ]
  },
  {
   "cell_type": "markdown",
   "id": "b4e6ba5d",
   "metadata": {},
   "source": [
    "### Comment\n",
    "\n",
    "Compare the average validation set error with and without the `student` variable. If the error decreases, adding `student` helped. If not, it did not improve the model significantly.\n"
   ]
  }
 ],
 "metadata": {
  "kernelspec": {
   "display_name": "base",
   "language": "python",
   "name": "python3"
  },
  "language_info": {
   "codemirror_mode": {
    "name": "ipython",
    "version": 3
   },
   "file_extension": ".py",
   "mimetype": "text/x-python",
   "name": "python",
   "nbconvert_exporter": "python",
   "pygments_lexer": "ipython3",
   "version": "3.12.7"
  }
 },
 "nbformat": 4,
 "nbformat_minor": 5
}

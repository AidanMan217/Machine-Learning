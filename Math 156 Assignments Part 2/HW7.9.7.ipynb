{
 "cells": [
  {
   "cell_type": "code",
   "execution_count": null,
   "id": "3af9d762",
   "metadata": {},
   "outputs": [],
   "source": [
    "#Import Required Libraries\n",
    "\n",
    "import pandas as pd\n",
    "import numpy as np\n",
    "import matplotlib.pyplot as plt\n",
    "import seaborn as sns\n",
    "from patsy import dmatrix\n",
    "from sklearn.linear_model import LinearRegression\n",
    "from sklearn.preprocessing import PolynomialFeatures\n",
    "import statsmodels.api as sm\n"
   ]
  },
  {
   "cell_type": "code",
   "execution_count": null,
   "id": "8761a18f",
   "metadata": {},
   "outputs": [],
   "source": [
    "wage = pd.read_csv('Wage.csv')\n",
    "wage.head()"
   ]
  },
  {
   "cell_type": "code",
   "execution_count": null,
   "id": "f4be7c9b",
   "metadata": {},
   "outputs": [],
   "source": [
    "print(wage.info())\n",
    "print(wage.describe(include='all'))"
   ]
  },
  {
   "cell_type": "markdown",
   "id": "f73a7b9b",
   "metadata": {},
   "source": [
    "## Exploring Categorical Predictors\n"
   ]
  },
  {
   "cell_type": "code",
   "execution_count": null,
   "id": "047dc2d6",
   "metadata": {},
   "outputs": [],
   "source": [
    "# Boxplots of Wage vs. Marital Status and Job Class\n",
    "\n",
    "plt.figure(figsize=(14, 6))\n",
    "\n",
    "plt.subplot(1, 2, 1)\n",
    "sns.boxplot(data=wage, x='maritl', y='wage')\n",
    "plt.title('Wage vs Marital Status')\n",
    "plt.xticks(rotation=45)\n",
    "\n",
    "plt.subplot(1, 2, 2)\n",
    "sns.boxplot(data=wage, x='jobclass', y='wage')\n",
    "plt.title('Wage vs Job Class')\n",
    "plt.xticks(rotation=45)\n",
    "\n",
    "plt.tight_layout()\n",
    "plt.show()\n"
   ]
  },
  {
   "cell_type": "markdown",
   "id": "d43263ca",
   "metadata": {},
   "source": [
    "## Non-Linear Modeling: Age and Wage\n"
   ]
  },
  {
   "cell_type": "code",
   "execution_count": null,
   "id": "c7ac7b89",
   "metadata": {},
   "outputs": [],
   "source": [
    "# Natural Spline for Age\n",
    "\n",
    "# Create a natural spline basis for age with 4 degrees of freedom\n",
    "age_spline = dmatrix(\"bs(age, df=4, degree=3, include_intercept=False)\", {\"age\": wage['age']}, return_type='dataframe')\n",
    "\n",
    "# Fit a linear model on the spline basis\n",
    "spline_model = sm.OLS(wage['wage'], age_spline).fit()\n",
    "\n",
    "# Predict and plot\n",
    "age_grid = np.linspace(wage['age'].min(), wage['age'].max(), 100)\n",
    "age_spline_pred = dmatrix(\"bs(age, df=4, degree=3, include_intercept=False)\", {\"age\": age_grid}, return_type='dataframe')\n",
    "wage_pred = spline_model.predict(age_spline_pred)\n",
    "\n",
    "plt.figure(figsize=(8,6))\n",
    "plt.scatter(wage['age'], wage['wage'], facecolor='None', edgecolor='k', alpha=0.3)\n",
    "plt.plot(age_grid, wage_pred, color='red', linewidth=2)\n",
    "plt.xlabel('Age')\n",
    "plt.ylabel('Wage')\n",
    "plt.title('Natural Spline Fit: Wage vs Age')\n",
    "plt.show()\n"
   ]
  },
  {
   "cell_type": "markdown",
   "id": "7d2d8116",
   "metadata": {},
   "source": [
    "## Interaction Effects: Age and Job Class\n"
   ]
  },
  {
   "cell_type": "code",
   "execution_count": null,
   "id": "eda3a60c",
   "metadata": {},
   "outputs": [],
   "source": [
    "# Spline by Job Class\n",
    "\n",
    "plt.figure(figsize=(8,6))\n",
    "for job in wage['jobclass'].unique():\n",
    "    df = wage[wage['jobclass'] == job]\n",
    "    age_spline = dmatrix(\"bs(age, df=4, degree=3, include_intercept=False)\", {\"age\": df['age']}, return_type='dataframe')\n",
    "    model = sm.OLS(df['wage'], age_spline).fit()\n",
    "    wage_pred = model.predict(dmatrix(\"bs(age, df=4, degree=3, include_intercept=False)\", {\"age\": age_grid}, return_type='dataframe'))\n",
    "    plt.plot(age_grid, wage_pred, label=f'Job Class: {job}')\n",
    "plt.scatter(wage['age'], wage['wage'], facecolor='None', edgecolor='k', alpha=0.2)\n",
    "plt.xlabel('Age')\n",
    "plt.ylabel('Wage')\n",
    "plt.title('Spline Fits: Wage vs Age by Job Class')\n",
    "plt.legend()\n",
    "plt.show()"
   ]
  },
  {
   "cell_type": "markdown",
   "id": "a6c35574",
   "metadata": {},
   "source": [
    "## Summary of Findings\n",
    "\n",
    "- **Marital Status:** There are visible differences in wage distributions among marital status groups.\n",
    "- **Job Class:** Job class also shows clear separation in wage, with 'Information' jobs tending to have higher wages.\n",
    "- **Age Relationship:** The relationship between age and wage is non-linear, with wages increasing and then plateauing or decreasing at higher ages.\n",
    "- **Interaction:** The pattern of wage vs. age is different for different job classes, suggesting an interaction effect.\n",
    "\n",
    "**Non-linear modeling techniques such as splines can reveal flexible, realistic patterns in the data that would be missed by linear models.**\n"
   ]
  }
 ],
 "metadata": {
  "kernelspec": {
   "display_name": "base",
   "language": "python",
   "name": "python3"
  },
  "language_info": {
   "name": "python",
   "version": "3.12.7"
  }
 },
 "nbformat": 4,
 "nbformat_minor": 5
}

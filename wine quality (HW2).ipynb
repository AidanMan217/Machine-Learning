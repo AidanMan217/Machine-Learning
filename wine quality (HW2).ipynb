{
 "cells": [
  {
   "cell_type": "code",
   "execution_count": 184,
   "metadata": {},
   "outputs": [],
   "source": [
    "import numpy as np\n",
    "import matplotlib.pyplot as plt\n",
    "from sklearn.model_selection import train_test_split\n",
    "import pandas as pd\n",
    "from scipy.optimize import minimize\n",
    "import random"
   ]
  },
  {
   "cell_type": "code",
   "execution_count": 185,
   "metadata": {},
   "outputs": [],
   "source": [
    "rdf = pd.read_csv('winequality-red.csv', sep=';')\n"
   ]
  },
  {
   "cell_type": "markdown",
   "metadata": {},
   "source": [
    "Here we will do a 75%-15%-10% test split for train-validation-test respectively"
   ]
  },
  {
   "cell_type": "code",
   "execution_count": 186,
   "metadata": {},
   "outputs": [],
   "source": [
    "rdf_train, rdf_val = train_test_split(rdf, test_size=0.25, random_state=50)\n",
    "rdf_val, rdf_test = train_test_split(rdf_val, test_size=0.4, random_state=50)"
   ]
  },
  {
   "cell_type": "code",
   "execution_count": 187,
   "metadata": {},
   "outputs": [],
   "source": [
    "X_train = rdf_train.drop('quality', axis=1)\n",
    "y_train = rdf_train['quality']\n",
    "X_test = rdf_test.drop('quality', axis=1)\n",
    "y_test = rdf_test['quality']"
   ]
  },
  {
   "cell_type": "markdown",
   "metadata": {},
   "source": [
    "Standardization:\n",
    "$\\mu_j$ is the mean and $\\sigma_j$ is the standard deviation of feature $j$ across all data points. Each sample $x_n$ in each feature is replaced as follows:\n",
    "$(x_n)_j \\leftarrow \\frac{(x_n)_j - \\mu_j}{\\sigma_j}$\n",
    "\n",
    "Normalization:\n",
    "$M_j$ and $m_j$ denote the maximum and minimum value of each feature $j$ respectively, across all data points. Then $(x_n)_j \\leftarrow \\frac{(x_n)_j - m_j}{M_j-m_j}$"
   ]
  },
  {
   "cell_type": "code",
   "execution_count": 188,
   "metadata": {},
   "outputs": [],
   "source": [
    "#preprocessing\n",
    "\n",
    "#standardization\n",
    "X_train_values = X_train.values\n",
    "X_test_values = X_test.values\n",
    "\n",
    "X_train_mean = np.mean(X_train_values, axis=0)\n",
    "X_train_std = np.std(X_train_values, axis=0, ddof=1)\n",
    "\n",
    "def standardize(values, mean, std):\n",
    "    return (values - mean) / std\n",
    "\n",
    "X_train_standardized = standardize(X_train_values, X_train_mean, X_train_std)\n",
    "X_test_standardized = standardize(X_test_values, X_train_mean, X_train_std)\n",
    "\n",
    "#normalization\n",
    "X_train_min = np.min(X_train_values, axis=0)\n",
    "X_train_max = np.max(X_train_values, axis=0)\n",
    "\n",
    "def normalize(values,mins,maxs):\n",
    "    return (values - mins) / (maxs - mins)\n",
    "\n",
    "X_train_normalized = normalize(X_train_values, X_train_min, X_train_max)\n",
    "X_test_normalized = normalize(X_test_values, X_train_min, X_train_max)"
   ]
  },
  {
   "cell_type": "markdown",
   "metadata": {},
   "source": [
    "Here, we define each regression function and its minimizers.\n",
    "\n",
    "Ridge Regression: $E(w) = \\frac{1}{2} \\sum_{n=1}^{N} (t_n - w^T \\phi (x_n))^2 + \\frac{\\lambda}{2} \\sum_{j=1}^{M-1} w_j^2$\n",
    "\n",
    "Lasso Regression: $E(w) = \\frac{1}{2} \\sum_{n=1}^{N} (t_n - w^T \\phi (x_n))^2 + \\lambda \\sum_{j=1}^{M-1} |w_j|$\n",
    "\n",
    "Sum of Squares: $E(w) = \\frac{1}{2} \\sum_{n=1}^{N} (t_n - w^T \\phi (x_n))^2$\n",
    "\n",
    "\n",
    "Minimizer of Ridge Regression: $w^* = (\\lambda  I + \\Phi^T \\Phi)^{-1} \\Phi^T t$\n",
    "\n",
    "Minimizer of Lasso Regression: $w^* = \\arg{\\min{\\{\\frac{1}{2}||t-\\Phi w||^2 + \\lambda \\sum_{j=1}^{M-1} |w_j|\\}}}$\n",
    "\n",
    "Minimizer of Sum of Squared: $w^* = (\\Phi^T \\Phi)^{-1} \\Phi^T t$"
   ]
  },
  {
   "cell_type": "code",
   "execution_count": null,
   "metadata": {},
   "outputs": [],
   "source": [
    "#Ridge Regression\n",
    "\n",
    "def m_ridge(X,t,lam=0.000000001):\n",
    "    X = np.concatenate((np.ones((X.shape[0],1)),X),axis=1)\n",
    "    I = np.eye(X.shape[1])\n",
    "    #I[0,0] = 0\n",
    "    return np.linalg.inv((lam*I) + (X.T @ X)) @ (X.T @ t) #minimizer of the ridge regression\n",
    "\n",
    "w_m_ridge_trs = m_ridge(X_train_standardized, y_train) #minimizer with standardized train set\n",
    "w_m_ridge_trn = m_ridge(X_train_normalized, y_train) #minimizer with normalized train set\n",
    "w_m_ridge_train = m_ridge(X_train, y_train) #minimizer with no featurization\n",
    "\n",
    "def ridge_regr(w,t,X,lam=0.0000001):\n",
    "    X = np.concatenate((np.ones((X.shape[0],1)),X),axis=1)\n",
    "    return ((1/2)*np.sum((t-X@w)**2))+((lam/2)*(w.T@w)) #this is the ridge regression formula #try np.sum(w**2) \n",
    "\n",
    "'''Lasso Regression (needs to be fixed)\n",
    "\n",
    "def lasso_regr(w,t,X,lam):\n",
    "    #X = np.concatenate((np.ones((X.shape[0],1)),X),axis=1)\n",
    "    return ((1/2)*np.sum((t-X@w)**2))+(lam*np.sum(np.abs(w))) #this is the lasso regression formula\n",
    "\n",
    "def m_lasso(X,t,lam):\n",
    "    w_init = np.zeros(X.shape[1]+1)\n",
    "    result = minimize(lasso_regr,w_init,args=(X,t,lam),method='SLSQP')\n",
    "    return result.x #minimizer of the lasso regression using sequential least squares programming \n",
    "\n",
    "w_m_lasso_trs = m_lasso(X_train_standardized, y_train, 0.1)\n",
    "w_m_lasso_trn = m_lasso(X_train_normalized, y_train, 0.1) \n",
    "w_m_lasso_tss = m_lasso(X_test_standardized, y_train, 0.1)\n",
    "w_m_lasso_tsn = m_lasso(X_test_normalized, y_train, 0.1) '''\n",
    "\n",
    "# Regular Linear Regression\n",
    "\n",
    "def m_regression(X,t):\n",
    "    X = np.concatenate((np.ones((X.shape[0],1)),X),axis=1)\n",
    "    return np.linalg.pinv(X)@t #minimizer of the sum of squares error\n",
    "\n",
    "w_m_regr_trs = m_regression(X_train_standardized, y_train) #standardized\n",
    "w_m_regr_trn = m_regression(X_train_normalized, y_train) #normalized\n",
    "w_m_regr_train = m_regression(X_train, y_train) #regular\n",
    "\n",
    "def lin_regr(w,t,X): \n",
    "    X = np.concatenate((np.ones((X.shape[0],1)),X),axis=1)\n",
    "    return (1/2)*np.sum((t - X@w)**2) #sum of squares error for regression\n",
    "\n"
   ]
  },
  {
   "cell_type": "markdown",
   "metadata": {},
   "source": [
    "To find the average error of each point we used the root mean square error: $\\sqrt{\\frac{2 E(w)}{N}}$"
   ]
  },
  {
   "cell_type": "code",
   "execution_count": 190,
   "metadata": {},
   "outputs": [],
   "source": [
    "def rmse(regr,N): #Root mean square error\n",
    "    return np.sqrt((2*regr)/N)"
   ]
  },
  {
   "cell_type": "markdown",
   "metadata": {},
   "source": [
    "After tinkering with lambda:"
   ]
  },
  {
   "cell_type": "code",
   "execution_count": 191,
   "metadata": {},
   "outputs": [
    {
     "name": "stdout",
     "output_type": "stream",
     "text": [
      "[[0.64309068]\n",
      " [0.64309066]\n",
      " [0.64309077]\n",
      " [0.64309066]\n",
      " [0.64309067]\n",
      " [0.64309066]]\n",
      "The function with the minimum value is 'regr_test' with a value of 0.6430906550433568\n"
     ]
    }
   ],
   "source": [
    "ridge_test_norm = rmse(ridge_regr(w_m_ridge_trn, y_test, X_test_normalized),len(y_test)) #Ridge regression on normalized features\n",
    "regr_test_norm = rmse(lin_regr(w_m_regr_trn,y_test,X_test_normalized),len(y_test)) #regular regression on normalized features\n",
    "ridge_test = rmse(ridge_regr(w_m_ridge_train,y_test,X_test),len(y_test)) #Ridge regression on the un-featurized features\n",
    "regr_test = rmse(lin_regr(w_m_regr_train,y_test,X_test),len(y_test)) #regular regression on the un-featurized features\n",
    "ridge_test_std = rmse(ridge_regr(w_m_ridge_trs, y_test, X_test_standardized),len(y_test)) #Ridge regression on standardized features\n",
    "regr_test_std = rmse(lin_regr(w_m_regr_trs, y_test, X_test_standardized),len(y_test)) #regular regression on standardized features\n",
    "\n",
    "results = np.array([ridge_test_norm,regr_test_norm,ridge_test,regr_test,ridge_test_std,regr_test_std])\n",
    "results = results.reshape(-1,1)\n",
    "print(results)\n",
    "\n",
    "metrics = {\n",
    "    \"ridge_test_norm\": ridge_test_norm,\n",
    "    \"regr_test_norm\": regr_test_norm,\n",
    "    \"ridge_test\": ridge_test,\n",
    "    \"regr_test\": regr_test,\n",
    "    \"ridge_test_std\": ridge_test_std,\n",
    "    \"regr_test_std\": regr_test_std\n",
    "}\n",
    "\n",
    "min_function = min(metrics, key=metrics.get)\n",
    "min_value = metrics[min_function]\n",
    "print(f\"The function with the minimum value is '{min_function}' with a value of {min_value:}\")\n",
    "\n"
   ]
  },
  {
   "cell_type": "markdown",
   "metadata": {},
   "source": [
    "We can conclude that the test with the least amount of average error is the Regular Regression on the Regular Train Set. All regressions have very similar results, however."
   ]
  },
  {
   "cell_type": "code",
   "execution_count": null,
   "metadata": {},
   "outputs": [
    {
     "name": "stdout",
     "output_type": "stream",
     "text": [
      "0.6430906550433568\n"
     ]
    }
   ],
   "source": [
    "def pred(w,X):\n",
    "    X = np.concatenate((np.ones((X.shape[0],1)),X),axis=1)\n",
    "    return X @ w\n",
    "\n",
    "def alt_rmse(t,pred): #alternate version of the rmse\n",
    "    return np.sqrt(np.mean((pred-t)**2))\n",
    "\n",
    "regr_test_pred = pred(w_m_regr_train,X_test)\n",
    "print(alt_rmse(regr_test_pred,y_test))"
   ]
  },
  {
   "cell_type": "code",
   "execution_count": 209,
   "metadata": {},
   "outputs": [
    {
     "data": {
      "image/png": "[encoded data removed]",
      "text/plain": [
       "<Figure size 800x800 with 1 Axes>"
      ]
     },
     "metadata": {},
     "output_type": "display_data"
    }
   ],
   "source": [
    "y = rdf['quality']\n",
    "\n",
    "plt.figure(figsize=(8, 8))\n",
    "plt.scatter(y_test, regr_test_pred, alpha=0.7)\n",
    "#plt.plot([y_train.min(), y_train.max()], [y_train.min(), y_train.max()], 'r--', lw=2)\n",
    "#plt.plot([y_test.min(), y_test.max()], [y_test.min(), y_test.max()], 'b', lw=2, linestyle=':')\n",
    "plt.plot([y.min(), y.max()], [y.min(), y.max()], 'b', lw=2, linestyle=':')\n",
    "plt.plot([regr_test_pred.min(), regr_test_pred.max()], [regr_test_pred.min(), regr_test_pred.max()], 'r', lw=2, linestyle=':')\n",
    "#plt.plot([regr_test_pred,regr_test_pred],'o',lw=2)\n",
    "plt.xlabel('Actual Quality')\n",
    "plt.ylabel('Predicted Quality')\n",
    "plt.title('Actual vs Predicted Quality')\n",
    "plt.grid(True)\n",
    "plt.show()"
   ]
  },
  {
   "cell_type": "markdown",
   "metadata": {},
   "source": [
    "We can see that the red line, which represents the slope of our predicted targets from the test set, is extremely close to the actual targets of the entire dataset, which shows how low the error is of each model."
   ]
  }
 ],
 "metadata": {
  "kernelspec": {
   "display_name": "base",
   "language": "python",
   "name": "python3"
  },
  "language_info": {
   "codemirror_mode": {
    "name": "ipython",
    "version": 3
   },
   "file_extension": ".py",
   "mimetype": "text/x-python",
   "name": "python",
   "nbconvert_exporter": "python",
   "pygments_lexer": "ipython3",
   "version": "3.12.7"
  }
 },
 "nbformat": 4,
 "nbformat_minor": 2
}

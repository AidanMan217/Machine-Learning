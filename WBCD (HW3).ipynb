{
 "cells": [
  {
   "cell_type": "code",
   "execution_count": 539,
   "metadata": {},
   "outputs": [],
   "source": [
    "import numpy as np\n",
    "import matplotlib.pyplot as plt\n",
    "from sklearn.model_selection import train_test_split\n",
    "import pandas as pd"
   ]
  },
  {
   "cell_type": "code",
   "execution_count": 540,
   "metadata": {},
   "outputs": [],
   "source": [
    "df = pd.read_csv('wdbc.csv')\n",
    "df.columns = [f'column_{i+1}' for i in range(df.shape[1])]\n",
    "df.column_2 = df.column_2.map({'M': 0, 'B': 1})"
   ]
  },
  {
   "cell_type": "markdown",
   "metadata": {},
   "source": [
    "The column with the target values is column_2 for M = Malignanant and B = Benign. Since this is a two class case will will use One-Hot encoding."
   ]
  },
  {
   "cell_type": "code",
   "execution_count": 541,
   "metadata": {},
   "outputs": [],
   "source": [
    "train_df, val_df = train_test_split(df, test_size=0.25, random_state=42)\n",
    "val_df, test_df = train_test_split(val_df, test_size=0.4, random_state=42)"
   ]
  },
  {
   "cell_type": "code",
   "execution_count": 542,
   "metadata": {},
   "outputs": [
    {
     "name": "stdout",
     "output_type": "stream",
     "text": [
      "(156,)\n",
      "(34,)\n",
      "(270,)\n",
      "(51,)\n"
     ]
    }
   ],
   "source": [
    "y_train = train_df['column_2'].values\n",
    "y_val = val_df['column_2'].values\n",
    "\n",
    "X_train = train_df.drop(columns=['column_2']).values\n",
    "X_val = val_df.drop(columns=['column_2']).values\n",
    "\n",
    "y_test = test_df['column_2'].values\n",
    "X_test = test_df.drop(columns=['column_2']).values\n",
    "\n",
    "def class_0(target):\n",
    "    return np.array([i for i in target if i == 0])\n",
    "\n",
    "def class_1(target):\n",
    "    return np.array([i for i in target if i == 1])\n",
    "\n",
    "print(class_0(y_train).shape)\n",
    "print(class_0(y_val).shape)\n",
    "\n",
    "print(class_1(y_train).shape)\n",
    "print(class_1(y_val).shape)"
   ]
  },
  {
   "cell_type": "markdown",
   "metadata": {},
   "source": [
    "156 Malignanants and 270 Benigns in the training set\n",
    "\n",
    "34 Malignanants and 51 Benigns in the validation set"
   ]
  },
  {
   "cell_type": "markdown",
   "metadata": {},
   "source": [
    "In this homework we will implement a binary logistic regression model using mini-batch Stochastic Gradient Descent\n",
    "\n",
    "**Error Function**\n",
    "\n",
    "$E(\\textbf{w}) = -\\ln{p(\\textbf{t}|\\textbf{w})} = - \\sum_{n=1}^{N} (t_n \\ln{y_n} + (1-t_n) \\ln{(1-y_n)}$\n",
    "\n",
    "**Gradient of Error Function**\n",
    "\n",
    "$\\nabla E(\\textbf{w}) = \\sum_{n=1}^{N} (y_n - t_n)\\phi_n $\n",
    "\n",
    "**Note:**\n",
    "\n",
    "$y_n = \\sigma (\\textbf{w}^T \\phi_n)$\n",
    "\n",
    "the sigmoid activation function\n",
    "\n"
   ]
  },
  {
   "cell_type": "markdown",
   "metadata": {},
   "source": [
    "**The Mini-Batch SGD algortithm:**\n",
    "\n",
    "Input: $w^{(0)}$, learning rate $\\eta_k \\geq 0$, max number of iterations $k$\n",
    "\n",
    "\n",
    "for $k = 0, \\ldots,k-1$ do\n",
    "\n",
    "Randomly select a batch $B_k \\subset \\{1,\\ldots,N\\}$ where $|B_k| << N$\n",
    "\n",
    "$w^{(k+1)} = w^{(k)} - \\eta_k \\sum_{n \\in B_k} \\nabla f_n(w^{k})$\n",
    "\n",
    "return $w^{(k)}$\n",
    "\n",
    "In this case $\\nabla f_n(w^{k}) = \\nabla E(\\textbf{w}) = \\sum_{n=1}^{N} (y_n - t_n)\\phi_n $\n",
    "\n",
    "So we have $w^{(k+1)} = w^{(k)} - \\eta_k \\sum_{n \\in B_k} (y_n - t_n)\\phi_n$\n",
    "\n",
    "**Fully expanded**: $w^{(k+1)} = w^{(k)} - \\eta_k \\sum_{n \\in B_k} (\\sigma (\\textbf{w}^T \\phi_n) - t_n)\\phi_n$"
   ]
  },
  {
   "cell_type": "code",
   "execution_count": 543,
   "metadata": {},
   "outputs": [
    {
     "name": "stdout",
     "output_type": "stream",
     "text": [
      "(426, 31)\n",
      "(426,)\n",
      "(32,)\n"
     ]
    }
   ],
   "source": [
    "print(X_train.shape)\n",
    "print(y_train.shape)\n",
    "w_init = np.zeros((X_train.shape[1]+1))\n",
    "w_init1 = np.random.randn(X_train.shape[1]+1)\n",
    "print(w_init.shape)"
   ]
  },
  {
   "cell_type": "code",
   "execution_count": 544,
   "metadata": {},
   "outputs": [
    {
     "name": "stdout",
     "output_type": "stream",
     "text": [
      "[0 1 0 0 1 0 0 0 1 1]\n"
     ]
    },
    {
     "name": "stderr",
     "output_type": "stream",
     "text": [
      "C:\\Users\\Aidan\\AppData\\Local\\Temp\\ipykernel_22756\\202445648.py:2: RuntimeWarning: overflow encountered in exp\n",
      "  return np.clip(1 / (1 + np.exp(-z)), 1e-15, 1 - 1e-15)\n"
     ]
    }
   ],
   "source": [
    "def sigmoid(z):\n",
    "    return np.clip(1 / (1 + np.exp(-z)), 1e-15, 1 - 1e-15)\n",
    "\n",
    "def batch(X,y,batch_size):\n",
    "    n_samples = X.shape[0]\n",
    "    N = np.arange(n_samples)\n",
    "    N_r = np.random.permutation(N)\n",
    "    batch_indices = N_r[:batch_size]\n",
    "    X_batch = X[batch_indices]\n",
    "    y_batch = y[batch_indices]\n",
    "    return X_batch, y_batch\n",
    "\n",
    "\n",
    "print(batch(X_train, y_train, 10)[1])\n",
    "\n",
    "def SGD(X,y,batch_size,eta,max_iter):\n",
    "    X = np.c_[np.ones(X.shape[0]), X]\n",
    "    n_samples, n_features = X.shape \n",
    "    w = np.random.normal(loc=0.0,scale=1.0,size=n_features) #this samples from a normal distribution with mean 0 and std 1`\n",
    "    for i in range(0,max_iter,batch_size):\n",
    "        X_batch, y_batch = batch(X,y,batch_size)\n",
    "        w = w - eta * (X_batch.T @ (sigmoid(X_batch @ w) - y_batch)) / batch_size\n",
    "    return w\n",
    "\n",
    "# Hyperparameters to play with: #\n",
    "\n",
    "batch_size = 32\n",
    "eta = 0.00001\n",
    "max_iter = 10000\n",
    "\n",
    "################################\n",
    "\n",
    "w_star = SGD(X_train, y_train, batch_size, eta, max_iter)\n",
    "\n",
    "\n"
   ]
  },
  {
   "cell_type": "code",
   "execution_count": 545,
   "metadata": {},
   "outputs": [
    {
     "name": "stdout",
     "output_type": "stream",
     "text": [
      "0.6614600969770853\n"
     ]
    }
   ],
   "source": [
    "def logistic_regression(X,y,w):\n",
    "    X = np.c_[np.ones(X.shape[0]), X]\n",
    "    return -1*np.sum(y*np.log(sigmoid(X@w)+1e-15)+(1-y)*np.log(1-sigmoid(X@w)+1e-15)) / X.shape[0]\n",
    "\n",
    "def rmse(X,y,w,N):\n",
    "    return np.sqrt((2*logistic_regression(X,y,w)/N))\n",
    "\n",
    "print(rmse(X_test,y_test,w_star,len(y_test))) #error on training set"
   ]
  },
  {
   "cell_type": "code",
   "execution_count": 546,
   "metadata": {},
   "outputs": [
    {
     "name": "stdout",
     "output_type": "stream",
     "text": [
      "Accuracy:  0.631578947368421\n",
      "F1 Score:  0.7741935483870968\n",
      "Precision:  0.631578947368421\n",
      "Recall:  1.0\n",
      "RMSE:  0.5416660487780195\n"
     ]
    }
   ],
   "source": [
    "from sklearn.metrics import accuracy_score, f1_score, precision_score, recall_score\n",
    "\n",
    "y_pred_prob = sigmoid(np.c_[np.ones(X_test.shape[0]), X_test] @ w_star)\n",
    "y_pred = (y_pred_prob >= 0.5).astype(int)\n",
    "\n",
    "print('Accuracy: ', accuracy_score(y_test, y_pred))\n",
    "print('F1 Score: ', f1_score(y_test, y_pred))\n",
    "print('Precision: ', precision_score(y_test, y_pred))\n",
    "print('Recall: ', recall_score(y_test, y_pred))\n",
    "print('RMSE: ', rmse(X_test, y_test, w_star, len(y_val)))"
   ]
  }
 ],
 "metadata": {
  "kernelspec": {
   "display_name": "base",
   "language": "python",
   "name": "python3"
  },
  "language_info": {
   "codemirror_mode": {
    "name": "ipython",
    "version": 3
   },
   "file_extension": ".py",
   "mimetype": "text/x-python",
   "name": "python",
   "nbconvert_exporter": "python",
   "pygments_lexer": "ipython3",
   "version": "3.12.7"
  }
 },
 "nbformat": 4,
 "nbformat_minor": 2
}

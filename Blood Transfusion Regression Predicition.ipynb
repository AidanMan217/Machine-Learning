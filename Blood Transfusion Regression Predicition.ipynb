{
 "cells": [
  {
   "cell_type": "code",
   "execution_count": 100,
   "metadata": {},
   "outputs": [],
   "source": [
    "import pandas as pd\n",
    "import numpy as np\n",
    "import matplotlib.pyplot as plt\n",
    "from sklearn.model_selection import train_test_split"
   ]
  },
  {
   "cell_type": "code",
   "execution_count": 101,
   "metadata": {},
   "outputs": [
    {
     "data": {
      "text/html": [
       "<div>\n",
       "<style scoped>\n",
       "    .dataframe tbody tr th:only-of-type {\n",
       "        vertical-align: middle;\n",
       "    }\n",
       "\n",
       "    .dataframe tbody tr th {\n",
       "        vertical-align: top;\n",
       "    }\n",
       "\n",
       "    .dataframe thead th {\n",
       "        text-align: right;\n",
       "    }\n",
       "</style>\n",
       "<table border=\"1\" class=\"dataframe\">\n",
       "  <thead>\n",
       "    <tr style=\"text-align: right;\">\n",
       "      <th></th>\n",
       "      <th>V1</th>\n",
       "      <th>V2</th>\n",
       "      <th>V3</th>\n",
       "      <th>V4</th>\n",
       "      <th>Class</th>\n",
       "    </tr>\n",
       "  </thead>\n",
       "  <tbody>\n",
       "    <tr>\n",
       "      <th>0</th>\n",
       "      <td>2</td>\n",
       "      <td>50</td>\n",
       "      <td>12500</td>\n",
       "      <td>98</td>\n",
       "      <td>2</td>\n",
       "    </tr>\n",
       "    <tr>\n",
       "      <th>1</th>\n",
       "      <td>0</td>\n",
       "      <td>13</td>\n",
       "      <td>3250</td>\n",
       "      <td>28</td>\n",
       "      <td>2</td>\n",
       "    </tr>\n",
       "    <tr>\n",
       "      <th>2</th>\n",
       "      <td>1</td>\n",
       "      <td>16</td>\n",
       "      <td>4000</td>\n",
       "      <td>35</td>\n",
       "      <td>2</td>\n",
       "    </tr>\n",
       "    <tr>\n",
       "      <th>3</th>\n",
       "      <td>2</td>\n",
       "      <td>20</td>\n",
       "      <td>5000</td>\n",
       "      <td>45</td>\n",
       "      <td>2</td>\n",
       "    </tr>\n",
       "    <tr>\n",
       "      <th>4</th>\n",
       "      <td>1</td>\n",
       "      <td>24</td>\n",
       "      <td>6000</td>\n",
       "      <td>77</td>\n",
       "      <td>1</td>\n",
       "    </tr>\n",
       "    <tr>\n",
       "      <th>...</th>\n",
       "      <td>...</td>\n",
       "      <td>...</td>\n",
       "      <td>...</td>\n",
       "      <td>...</td>\n",
       "      <td>...</td>\n",
       "    </tr>\n",
       "    <tr>\n",
       "      <th>743</th>\n",
       "      <td>23</td>\n",
       "      <td>2</td>\n",
       "      <td>500</td>\n",
       "      <td>38</td>\n",
       "      <td>1</td>\n",
       "    </tr>\n",
       "    <tr>\n",
       "      <th>744</th>\n",
       "      <td>21</td>\n",
       "      <td>2</td>\n",
       "      <td>500</td>\n",
       "      <td>52</td>\n",
       "      <td>1</td>\n",
       "    </tr>\n",
       "    <tr>\n",
       "      <th>745</th>\n",
       "      <td>23</td>\n",
       "      <td>3</td>\n",
       "      <td>750</td>\n",
       "      <td>62</td>\n",
       "      <td>1</td>\n",
       "    </tr>\n",
       "    <tr>\n",
       "      <th>746</th>\n",
       "      <td>39</td>\n",
       "      <td>1</td>\n",
       "      <td>250</td>\n",
       "      <td>39</td>\n",
       "      <td>1</td>\n",
       "    </tr>\n",
       "    <tr>\n",
       "      <th>747</th>\n",
       "      <td>72</td>\n",
       "      <td>1</td>\n",
       "      <td>250</td>\n",
       "      <td>72</td>\n",
       "      <td>1</td>\n",
       "    </tr>\n",
       "  </tbody>\n",
       "</table>\n",
       "<p>748 rows × 5 columns</p>\n",
       "</div>"
      ],
      "text/plain": [
       "     V1  V2     V3  V4  Class\n",
       "0     2  50  12500  98      2\n",
       "1     0  13   3250  28      2\n",
       "2     1  16   4000  35      2\n",
       "3     2  20   5000  45      2\n",
       "4     1  24   6000  77      1\n",
       "..   ..  ..    ...  ..    ...\n",
       "743  23   2    500  38      1\n",
       "744  21   2    500  52      1\n",
       "745  23   3    750  62      1\n",
       "746  39   1    250  39      1\n",
       "747  72   1    250  72      1\n",
       "\n",
       "[748 rows x 5 columns]"
      ]
     },
     "execution_count": 101,
     "metadata": {},
     "output_type": "execute_result"
    }
   ],
   "source": [
    "blooddf = pd.read_csv('blood.csv')\n",
    "blooddf"
   ]
  },
  {
   "cell_type": "code",
   "execution_count": 102,
   "metadata": {},
   "outputs": [],
   "source": [
    "def op_sse(upphi,t):\n",
    "    upphi = np.concatenate((np.ones((upphi.shape[0],1),int),upphi),1)\n",
    "    return np.linalg.pinv(upphi)@t\n",
    "\n",
    "def sse(phi,w,t):\n",
    "    phi = np.insert(phi,0,1,axis=0)\n",
    "    polyf = w.T@phi\n",
    "    return (1/2)*np.sum((polyf-t)**2)\n",
    "\n",
    "X = blooddf.drop('Class',axis=1).values\n",
    "y = blooddf['Class'].values\n",
    "\n",
    "w_ML = op_sse(X,y)"
   ]
  },
  {
   "cell_type": "code",
   "execution_count": 103,
   "metadata": {},
   "outputs": [],
   "source": [
    "def lms(w_ML,X,y,epochs=1000):\n",
    "    X = np.insert(X,0,1,axis=1)\n",
    "    for epoch in range(epochs):\n",
    "        for i in range(0,len(y)):\n",
    "            w_ML = w_ML+(0.00000000000000001*(y[i] - w_ML.T @ X[i])*X[i])\n",
    "    return w_ML"
   ]
  },
  {
   "cell_type": "code",
   "execution_count": 104,
   "metadata": {},
   "outputs": [
    {
     "name": "stdout",
     "output_type": "stream",
     "text": [
      "RMSE for original training data: 0.3974118829733512\n"
     ]
    }
   ],
   "source": [
    "def rmse(w,phi,t,N):\n",
    "    return np.sqrt(2*sse(phi,w,t)/N)\n",
    "\n",
    "def pred(op_sse,phi):\n",
    "    phi = np.insert(phi,0,1,axis=0)\n",
    "    return op_sse.T@phi\n",
    "\n",
    "y_pred = np.round(pred(w_ML,X.T))\n",
    "rmse1 = rmse(w_ML,X.T,y,len(y))\n",
    "\n",
    "def pred_fixed(y_train_pred):\n",
    "    for i in range(0,len(y_train_pred)):\n",
    "        if y_train_pred[i] == 0:\n",
    "            y_train_pred[i] = 1\n",
    "    return y_train_pred\n",
    "\n",
    "#print(pred_fixed(y_pred))\n",
    "\n",
    "print('RMSE for original training data:',rmse1)"
   ]
  },
  {
   "cell_type": "code",
   "execution_count": 105,
   "metadata": {},
   "outputs": [
    {
     "name": "stdout",
     "output_type": "stream",
     "text": [
      "0.3974118829733513\n"
     ]
    }
   ],
   "source": [
    "print(rmse(lms(w_ML,X,y),X.T,y,len(y)))\n",
    "#both get roughly the same RMSE"
   ]
  },
  {
   "cell_type": "code",
   "execution_count": 106,
   "metadata": {},
   "outputs": [],
   "source": [
    "blooddf_train,blooddf_value = train_test_split(blooddf,test_size=0.25,random_state=50)\n",
    "blooddf_value,blooddf_test = train_test_split(blooddf,test_size=0.4,random_state=50)"
   ]
  },
  {
   "cell_type": "code",
   "execution_count": 107,
   "metadata": {},
   "outputs": [],
   "source": [
    "X_train = blooddf_train.drop('Class',axis=1).values\n",
    "y_train = blooddf_train['Class'].values\n",
    "\n",
    "X_test = blooddf_test.drop('Class',axis=1).values\n",
    "y_test = blooddf_test['Class'].values"
   ]
  },
  {
   "cell_type": "code",
   "execution_count": 108,
   "metadata": {},
   "outputs": [
    {
     "name": "stdout",
     "output_type": "stream",
     "text": [
      "[1. 1. 1. 1. 1. 1. 1. 1. 1. 1. 1. 1. 1. 1. 1. 1. 1. 1. 1. 1. 1. 1. 1. 1.\n",
      " 1. 1. 1. 1. 1. 1. 1. 1. 1. 1. 1. 1. 1. 1. 1. 1. 1. 1. 1. 1. 1. 1. 1. 1.\n",
      " 1. 1. 1. 1. 1. 1. 2. 1. 1. 1. 1. 1. 2. 1. 1. 1. 1. 1. 1. 1. 1. 1. 1. 1.\n",
      " 1. 1. 1. 1. 1. 1. 1. 1. 1. 1. 2. 1. 1. 1. 1. 1. 1. 1. 1. 1. 1. 1. 1. 1.\n",
      " 1. 1. 1. 1. 1. 1. 1. 1. 1. 1. 1. 1. 1. 2. 1. 1. 1. 1. 1. 1. 1. 1. 1. 1.\n",
      " 1. 1. 1. 1. 1. 1. 1. 1. 1. 1. 1. 1. 1. 1. 1. 1. 1. 1. 1. 1. 2. 1. 1. 1.\n",
      " 1. 1. 1. 1. 1. 1. 1. 1. 1. 1. 1. 1. 1. 2. 1. 1. 1. 1. 1. 1. 1. 1. 1. 1.\n",
      " 1. 1. 1. 1. 1. 1. 1. 1. 1. 1. 1. 1. 1. 1. 1. 1. 1. 1. 1. 1. 1. 1. 1. 1.\n",
      " 1. 1. 1. 1. 1. 1. 2. 1. 1. 1. 1. 1. 1. 1. 1. 1. 1. 1. 1. 1. 2. 1. 1. 1.\n",
      " 1. 1. 1. 1. 1. 1. 1. 1. 1. 1. 1. 1. 1. 1. 1. 1. 1. 1. 1. 1. 2. 1. 1. 1.\n",
      " 1. 1. 1. 1. 1. 1. 1. 1. 1. 1. 1. 1. 1. 1. 2. 1. 1. 1. 1. 1. 1. 1. 1. 1.\n",
      " 1. 1. 1. 1. 1. 1. 1. 1. 1. 1. 1. 1. 2. 1. 1. 1. 1. 1. 1. 1. 1. 1. 1. 1.\n",
      " 1. 1. 1. 1. 1. 1. 1. 1. 1. 1. 1. 1. 1. 1. 1. 1. 1. 1. 1. 1. 1. 1. 1. 1.\n",
      " 1. 1. 1. 1. 1. 1. 1. 1. 1. 1. 1. 1. 1. 1. 1. 1. 1. 1. 1. 1. 1. 1. 1. 1.\n",
      " 1. 1. 1. 1. 1. 1. 1. 1. 1. 1. 1. 1. 1. 1. 1. 1. 1. 1. 1. 1. 1. 1. 1. 1.\n",
      " 1. 1. 1. 1. 1. 1. 1. 1. 1. 1. 1. 1. 1. 1. 1. 1. 1. 1. 1. 1. 1. 1. 1. 1.\n",
      " 1. 1. 1. 1. 1. 1. 1. 1. 1. 2. 1. 1. 1. 1. 1. 1. 1. 2. 1. 1. 1. 1. 1. 1.\n",
      " 1. 1. 1. 1. 1. 1. 1. 1. 1. 1. 1. 1. 1. 1. 1. 1. 1. 1. 1. 1. 1. 1. 1. 1.\n",
      " 1. 1. 1. 1. 1. 1. 1. 1. 1. 1. 1. 1. 1. 1. 1. 1. 1. 1. 1. 1. 1. 1. 1. 1.\n",
      " 1. 1. 1. 1. 1. 1. 1. 1. 1. 1. 1. 1. 1. 1. 1. 1. 2. 1. 1. 2. 1. 1. 1. 1.\n",
      " 1. 1. 1. 1. 2. 1. 1. 1. 1. 1. 1. 1. 1. 2. 1. 1. 1. 1. 1. 1. 1. 1. 1. 1.\n",
      " 1. 1. 1. 1. 1. 1. 1. 1. 1. 1. 1. 1. 1. 1. 1. 1. 2. 1. 1. 1. 1. 1. 1. 1.\n",
      " 1. 1. 1. 1. 1. 1. 1. 1. 1. 2. 1. 1. 1. 1. 1. 1. 1. 1. 1. 1. 1. 1. 1. 1.\n",
      " 1. 1. 1. 1. 1. 1. 1. 1. 1.]\n"
     ]
    }
   ],
   "source": [
    "w_ML_train = op_sse(X_train,y_train)\n",
    "\n",
    "y_train_pred = np.round(pred(w_ML_train,X_train.T))\n",
    "\n",
    "print(pred_fixed(y_train_pred))"
   ]
  },
  {
   "cell_type": "code",
   "execution_count": 109,
   "metadata": {},
   "outputs": [
    {
     "name": "stdout",
     "output_type": "stream",
     "text": [
      "0.38580243439105744\n",
      "0.3858024343910574\n"
     ]
    }
   ],
   "source": [
    "rmse_train = rmse(w_ML_train,X_train.T,y_train,len(y_train))\n",
    "print(rmse_train)\n",
    "\n",
    "rmse2_train = rmse(lms(w_ML_train,X_train,y_train),X_train.T,y_train,len(y_train))\n",
    "print(rmse2_train)"
   ]
  },
  {
   "cell_type": "code",
   "execution_count": 110,
   "metadata": {},
   "outputs": [
    {
     "data": {
      "image/png": "[encoded data removed]",
      "text/plain": [
       "<Figure size 800x600 with 1 Axes>"
      ]
     },
     "metadata": {},
     "output_type": "display_data"
    }
   ],
   "source": [
    "plt.figure(figsize=(8, 6))\n",
    "plt.scatter(y_train, y_train_pred, alpha=0.5, label=\"Rounded Predictions vs Actual\")\n",
    "plt.plot([y_train.min(), y_train.max()], [y_train.min(), y_train.max()], 'r--', lw=2, label=\"Ideal Fit\")\n",
    "plt.xlabel(\"Actual Class (y_train)\")\n",
    "plt.ylabel(\"Rounded Predicted Class (y_train_pred)\")\n",
    "plt.title(\"Actual vs Rounded Predicted Values\")\n",
    "plt.legend()\n",
    "plt.show()"
   ]
  },
  {
   "cell_type": "code",
   "execution_count": 111,
   "metadata": {},
   "outputs": [
    {
     "name": "stdout",
     "output_type": "stream",
     "text": [
      "79.0 % accuracy on the train set\n",
      "77.0 % accuracy on the whole set\n"
     ]
    }
   ],
   "source": [
    "mismatch_train = np.where(y_train != y_train_pred)[0]\n",
    "percentage1 = np.round(100-((len(mismatch_train)/len(y_train))*100))\n",
    "print(percentage1,\"% accuracy on the train set\")\n",
    "\n",
    "mismatch_whole = np.where(y != y_pred)[0]\n",
    "percentage2 = np.round(100-((len(mismatch_whole)/len(y))*100))\n",
    "print(percentage2,\"% accuracy on the whole set\")"
   ]
  },
  {
   "cell_type": "code",
   "execution_count": 135,
   "metadata": {},
   "outputs": [],
   "source": [
    "blooddf_train2,blooddf_test2 = train_test_split(blooddf,test_size=0.2,random_state=50)"
   ]
  },
  {
   "cell_type": "code",
   "execution_count": 136,
   "metadata": {},
   "outputs": [
    {
     "name": "stdout",
     "output_type": "stream",
     "text": [
      "(598, 4)\n"
     ]
    }
   ],
   "source": [
    "X_train2 = blooddf_train2.drop('Class',axis=1).values\n",
    "y_train2 = blooddf_train2['Class'].values\n",
    "\n",
    "X_test2 = blooddf_test2.drop('Class',axis=1).values\n",
    "y_test2 = blooddf_test2['Class'].values\n",
    "\n",
    "print(np.shape(X_train2))"
   ]
  },
  {
   "cell_type": "code",
   "execution_count": 137,
   "metadata": {},
   "outputs": [
    {
     "name": "stdout",
     "output_type": "stream",
     "text": [
      "0.3911972905276676\n",
      "0.3911972905276676\n",
      "0.4221763352854577\n",
      "0.42217633491083567\n",
      "78.0 % accuracy on the train set\n"
     ]
    }
   ],
   "source": [
    "w_ML_train2 = op_sse(X_train2,y_train2)\n",
    "y_train2_pred = np.round(pred(w_ML_train2,X_train2.T))\n",
    "rmse_train2 = rmse(w_ML_train2,X_train2.T,y_train2,len(y_train2))\n",
    "rmse2_train2 = rmse(lms(w_ML_train2,X_train2,y_train2),X_train2.T,y_train2,len(y_train2))\n",
    "rmse_test2 = rmse(w_ML_train2,X_test2.T,y_test2,len(y_test2))\n",
    "rmse2_test2 = rmse(lms(w_ML_train2,X_test2,y_test2),X_test2.T,y_test2,len(y_test2))\n",
    "\n",
    "print(rmse_train2)\n",
    "print(rmse2_train2)\n",
    "print(rmse_test2)\n",
    "print(rmse2_test2)\n",
    "\n",
    "mismatch_train2 = np.where(y_train2 != y_train2_pred)[0]\n",
    "percentage3 = np.round(100-((len(mismatch_train2)/len(y_train2))*100))\n",
    "print(percentage3,\"% accuracy on the train set\")"
   ]
  }
 ],
 "metadata": {
  "kernelspec": {
   "display_name": "base",
   "language": "python",
   "name": "python3"
  },
  "language_info": {
   "codemirror_mode": {
    "name": "ipython",
    "version": 3
   },
   "file_extension": ".py",
   "mimetype": "text/x-python",
   "name": "python",
   "nbconvert_exporter": "python",
   "pygments_lexer": "ipython3",
   "version": "3.12.7"
  }
 },
 "nbformat": 4,
 "nbformat_minor": 2
}

{
 "cells": [
  {
   "cell_type": "code",
   "execution_count": 18,
   "id": "848ee0ed",
   "metadata": {},
   "outputs": [],
   "source": [
    "import numpy as np\n",
    "import math as m"
   ]
  },
  {
   "cell_type": "code",
   "execution_count": 19,
   "id": "5160c1f5",
   "metadata": {},
   "outputs": [
    {
     "name": "stdout",
     "output_type": "stream",
     "text": [
      "30\n",
      "217.0\n",
      "7.233333333333333\n",
      "[0.28444444444444433, 3.36111111111111, 4.134444444444444, 1.5211111111111113, 2.151111111111109, 1.5211111111111113, 0.694444444444444, 1.137777777777779, 3.7377777777777785, 1.777777777777777, 0.13444444444444414, 4.987777777777778, 0.11111111111111091, 0.187777777777778, 5.444444444444443, 0.8711111111111115, 4.987777777777778, 1.5211111111111113, 0.0011111111111111033, 0.5877777777777777, 0.7511111111111104, 0.0011111111111111033, 13.444444444444446, 3.867777777777775, 1.8677777777777766, 1.0677777777777775, 1.2844444444444454, 47.151111111111106, 11.334444444444442, 1.3611111111111118]\n",
      "4.182298850574712\n",
      "2.0450669550346543\n"
     ]
    }
   ],
   "source": [
    "def mean1(x):\n",
    "    return sum(x) / len(x)\n",
    "\n",
    "data = [\n",
    "    6.7, 5.4, 5.2, 6.0, 8.7, 6.0, 6.4, 8.3, 5.3, 5.9,\n",
    "    7.6, 5.0, 6.9, 6.8, 4.9, 6.3, 5.0, 6.0, 7.2, 8.0,\n",
    "    8.1, 7.2, 10.9, 9.2, 8.6, 6.2, 6.1, 14.1, 10.6, 8.4\n",
    "]\n",
    "\n",
    "print(len(data))\n",
    "print(sum(data))\n",
    "print(mean1(data))\n",
    "\n",
    "def deviation_from_mean(x):\n",
    "    m = mean1(x)\n",
    "    return [(i - m)**2 for i in x]\n",
    "\n",
    "print(deviation_from_mean(data))\n",
    "\n",
    "def variance(x):\n",
    "    n = len(x)\n",
    "    return sum(deviation_from_mean(x))/ (n-1)\n",
    "\n",
    "print(variance(data))\n",
    "print(np.sqrt(variance(data)))"
   ]
  }
 ],
 "metadata": {
  "kernelspec": {
   "display_name": "base",
   "language": "python",
   "name": "python3"
  },
  "language_info": {
   "codemirror_mode": {
    "name": "ipython",
    "version": 3
   },
   "file_extension": ".py",
   "mimetype": "text/x-python",
   "name": "python",
   "nbconvert_exporter": "python",
   "pygments_lexer": "ipython3",
   "version": "3.12.7"
  }
 },
 "nbformat": 4,
 "nbformat_minor": 5
}

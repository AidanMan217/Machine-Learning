{
 "cells": [
  {
   "cell_type": "code",
   "execution_count": 907,
   "metadata": {},
   "outputs": [],
   "source": [
    "import numpy as np\n",
    "import matplotlib.pyplot as plt\n",
    "from sklearn.model_selection import train_test_split\n",
    "import pandas as pd"
   ]
  },
  {
   "cell_type": "code",
   "execution_count": 908,
   "metadata": {},
   "outputs": [],
   "source": [
    "df = pd.read_csv('wdbc.csv')\n",
    "df.columns = [f'column_{i+1}' for i in range(df.shape[1])]\n",
    "df.column_2 = df.column_2.map({'M': 1, 'B': 0})"
   ]
  },
  {
   "cell_type": "markdown",
   "metadata": {},
   "source": [
    "The column with the target values is column_2 for M = Malignanant and B = Benign. Since this is a two class case will will use One-Hot encoding."
   ]
  },
  {
   "cell_type": "code",
   "execution_count": 909,
   "metadata": {},
   "outputs": [],
   "source": [
    "train_df, val_df = train_test_split(df, test_size=0.25, random_state=42)\n",
    "val_df, test_df = train_test_split(val_df, test_size=0.4, random_state=42)"
   ]
  },
  {
   "cell_type": "code",
   "execution_count": 910,
   "metadata": {},
   "outputs": [
    {
     "name": "stdout",
     "output_type": "stream",
     "text": [
      "(270,)\n",
      "(51,)\n",
      "(156,)\n",
      "(34,)\n"
     ]
    }
   ],
   "source": [
    "y_train = train_df['column_2'].values\n",
    "y_val = val_df['column_2'].values\n",
    "X_train = train_df.drop(columns=['column_1', 'column_2']).values\n",
    "X_val = val_df.drop(columns=['column_1', 'column_2']).values\n",
    "y_test = test_df['column_2'].values\n",
    "X_test = test_df.drop(columns=['column_1', 'column_2']).values\n",
    "\n",
    "#forgetting to drop the first column severely affects the results\n",
    "\n",
    "def class_0(target):\n",
    "    return np.array([i for i in target if i == 0])\n",
    "\n",
    "def class_1(target):\n",
    "    return np.array([i for i in target if i == 1])\n",
    "\n",
    "print(class_0(y_train).shape)\n",
    "print(class_0(y_val).shape)\n",
    "\n",
    "print(class_1(y_train).shape)\n",
    "print(class_1(y_val).shape)"
   ]
  },
  {
   "cell_type": "markdown",
   "metadata": {},
   "source": [
    "156 Malignanants and 270 Benigns in the training set\n",
    "\n",
    "34 Malignanants and 51 Benigns in the validation set"
   ]
  },
  {
   "cell_type": "markdown",
   "metadata": {},
   "source": [
    "In this homework we will implement a binary logistic regression model using mini-batch Stochastic Gradient Descent\n",
    "\n",
    "**Error Function**\n",
    "\n",
    "$E(\\textbf{w}) = -\\ln{p(\\textbf{t}|\\textbf{w})} = - \\sum_{n=1}^{N} (t_n \\ln{y_n} + (1-t_n) \\ln{(1-y_n)}$\n",
    "\n",
    "**Gradient of Error Function**\n",
    "\n",
    "$\\nabla E(\\textbf{w}) = \\sum_{n=1}^{N} (y_n - t_n)\\phi_n $\n",
    "\n",
    "**Note:**\n",
    "\n",
    "$y_n = \\sigma (\\textbf{w}^T \\phi_n)$\n",
    "\n",
    "the sigmoid activation function\n",
    "\n"
   ]
  },
  {
   "cell_type": "markdown",
   "metadata": {},
   "source": [
    "**The Mini-Batch SGD algortithm:**\n",
    "\n",
    "Input: $w^{(0)}$, learning rate $\\eta_k \\geq 0$, max number of iterations $k$\n",
    "\n",
    "\n",
    "for $k = 0, \\ldots,k-1$ do\n",
    "\n",
    "Randomly select a batch $B_k \\subset \\{1,\\ldots,N\\}$ where $|B_k| << N$\n",
    "\n",
    "$w^{(k+1)} = w^{(k)} - \\eta_k \\sum_{n \\in B_k} \\nabla f_n(w^{k})$\n",
    "\n",
    "return $w^{(k)}$\n",
    "\n",
    "In this case $\\nabla f_n(w^{k}) = \\nabla E(\\textbf{w}) = \\sum_{n=1}^{N} (y_n - t_n)\\phi_n $\n",
    "\n",
    "So we have $w^{(k+1)} = w^{(k)} - \\eta_k \\sum_{n \\in B_k} (y_n - t_n)\\phi_n$\n",
    "\n",
    "**Fully expanded**: $w^{(k+1)} = w^{(k)} - \\eta_k \\sum_{n \\in B_k} (\\sigma (\\textbf{w}^T \\phi_n) - t_n)\\phi_n$"
   ]
  },
  {
   "cell_type": "code",
   "execution_count": 911,
   "metadata": {},
   "outputs": [
    {
     "name": "stdout",
     "output_type": "stream",
     "text": [
      "(426, 30)\n",
      "(426,)\n",
      "(31,)\n"
     ]
    }
   ],
   "source": [
    "print(X_train.shape)\n",
    "print(y_train.shape)\n",
    "w_init = np.zeros((X_train.shape[1]+1))\n",
    "w_init1 = np.random.randn(X_train.shape[1]+1)\n",
    "print(w_init.shape)"
   ]
  },
  {
   "cell_type": "code",
   "execution_count": 912,
   "metadata": {},
   "outputs": [
    {
     "name": "stdout",
     "output_type": "stream",
     "text": [
      "[0 1 1 0 1 0 0 1 1 0]\n"
     ]
    }
   ],
   "source": [
    "def sigmoid(z):\n",
    "    return 1 / (1 + np.exp(-z))\n",
    "\n",
    "def batch(X,y,batch_size):\n",
    "    n_samples = X.shape[0]\n",
    "    N = np.arange(n_samples)\n",
    "    N_r = np.random.permutation(N)\n",
    "    batch_indices = N_r[:batch_size]\n",
    "    X_batch = X[batch_indices]\n",
    "    y_batch = y[batch_indices]\n",
    "    return X_batch, y_batch\n",
    "\n",
    "\n",
    "print(batch(X_train, y_train, 10)[1])\n",
    "\n",
    "def SGD(X,y,batch_size,eta,max_iter):\n",
    "    X = np.c_[np.ones(X.shape[0]), X]\n",
    "    n_samples, n_features = X.shape \n",
    "    w = np.random.randn(n_features) #this samples from a standard normal distribution with mean 0 and std 1\n",
    "    #w = np.zeros(n_features) #this initializes w to 0\n",
    "    for i in range(max_iter):\n",
    "        for j in range(0,n_samples,batch_size):\n",
    "            X_batch, y_batch = batch(X,y,batch_size)\n",
    "            w = w - eta * (X_batch.T @ (sigmoid(X_batch @ w) - y_batch)) / batch_size\n",
    "    return w\n",
    "\n",
    "# Hyperparameters to play with: #\n",
    "\n",
    "batch_size = 64\n",
    "eta = 0.0001\n",
    "max_iter = 1000\n",
    "\n",
    "################################\n",
    "\n",
    "w_star = SGD(X_train, y_train, batch_size, eta, max_iter)\n",
    "\n",
    "\n"
   ]
  },
  {
   "cell_type": "code",
   "execution_count": null,
   "metadata": {},
   "outputs": [
    {
     "name": "stdout",
     "output_type": "stream",
     "text": [
      "0.12056244998839416\n"
     ]
    }
   ],
   "source": [
    "def logistic_regression(X,y,w):\n",
    "    X = np.c_[np.ones(X.shape[0]), X]\n",
    "    return -1*np.sum(y*np.log(sigmoid(X@w)+1e-20)+(1-y)*np.log(1-sigmoid(X@w)+1e-20)) / X.shape[0]\n",
    "\n",
    "def rmse(X,y,w,N):\n",
    "    return np.sqrt((2*logistic_regression(X,y,w)/N))\n",
    "\n",
    "print(rmse(X_test,y_test,w_star,len(y_test))) #error on training set, might need to be improved because its different from the sklearn one"
   ]
  },
  {
   "cell_type": "code",
   "execution_count": 914,
   "metadata": {},
   "outputs": [
    {
     "name": "stdout",
     "output_type": "stream",
     "text": [
      "Accuracy:  0.8947368421052632\n",
      "F1 Score:  0.8571428571428571\n",
      "Precision:  0.8571428571428571\n",
      "Recall:  0.8571428571428571\n",
      "RMSE:  0.09872792964331054\n"
     ]
    }
   ],
   "source": [
    "from sklearn.metrics import accuracy_score, f1_score, precision_score, recall_score\n",
    "\n",
    "y_pred_prob = sigmoid(np.c_[np.ones(X_test.shape[0]), X_test] @ w_star)\n",
    "y_pred = (y_pred_prob >= 0.5).astype(int)\n",
    "\n",
    "print('Accuracy: ', accuracy_score(y_test, y_pred))\n",
    "print('F1 Score: ', f1_score(y_test, y_pred))\n",
    "print('Precision: ', precision_score(y_test, y_pred))\n",
    "print('Recall: ', recall_score(y_test, y_pred))\n",
    "print('RMSE: ', rmse(X_test, y_test, w_star, len(y_val)))\n",
    "\n",
    "#There is extreme variability in the results because of the random sampling of the batch.\n",
    "#An improved batching method would be to use a fixed random seed for the random number generator, increasing batch size helps too. Shuffle the data before splitting into batches.\n",
    "#One thing I forgot to do was drop column 1, which is the ID column. This severely affects the results. Made me wonder why the results were so bad.\n",
    "#Otherwise the homework is done.\n",
    "\n",
    "#Try normalizing the data, and using a different batch size.\n",
    "\n"
   ]
  }
 ],
 "metadata": {
  "kernelspec": {
   "display_name": "base",
   "language": "python",
   "name": "python3"
  },
  "language_info": {
   "codemirror_mode": {
    "name": "ipython",
    "version": 3
   },
   "file_extension": ".py",
   "mimetype": "text/x-python",
   "name": "python",
   "nbconvert_exporter": "python",
   "pygments_lexer": "ipython3",
   "version": "3.12.7"
  }
 },
 "nbformat": 4,
 "nbformat_minor": 2
}
